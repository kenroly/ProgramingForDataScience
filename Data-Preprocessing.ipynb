{
  "cells": [
    {
      "cell_type": "markdown",
      "metadata": {},
      "source": [
        "# 0. Import Library"
      ]
    },
    {
      "cell_type": "code",
      "execution_count": 3,
      "metadata": {},
      "outputs": [],
      "source": [
        "import pandas as pd\n",
        "import numpy as np\n",
        "import seaborn as sns\n",
        "import matplotlib.pyplot as plt\n",
        "\n",
        "sns.set_theme()"
      ]
    },
    {
      "cell_type": "markdown",
      "metadata": {},
      "source": [
        "# 1. Data Preprocessing\n",
        "## 1.0. Data Loading\n",
        "Ở phần này, nhóm tiến hành load data từ file csv và thực hiện lọc, loại bỏ một số cột/dòng không cần thiết/không có ý nghĩa trong việc phân tích dữ liệu về sau của nhóm, đồng thời cũng tiến hành đổi tên một số cột để thuận tiện truy xuất về sau."
      ]
    },
    {
      "cell_type": "code",
      "execution_count": 4,
      "metadata": {},
      "outputs": [],
      "source": [
        "df = pd.read_csv('data/kill_match_stats.csv')"
      ]
    },
    {
      "cell_type": "code",
      "execution_count": 5,
      "metadata": {},
      "outputs": [
        {
          "data": {
            "text/html": [
              "<div>\n",
              "<style scoped>\n",
              "    .dataframe tbody tr th:only-of-type {\n",
              "        vertical-align: middle;\n",
              "    }\n",
              "\n",
              "    .dataframe tbody tr th {\n",
              "        vertical-align: top;\n",
              "    }\n",
              "\n",
              "    .dataframe thead th {\n",
              "        text-align: right;\n",
              "    }\n",
              "</style>\n",
              "<table border=\"1\" class=\"dataframe\">\n",
              "  <thead>\n",
              "    <tr style=\"text-align: right;\">\n",
              "      <th></th>\n",
              "      <th>killed_by</th>\n",
              "      <th>killer_name</th>\n",
              "      <th>killer_placement</th>\n",
              "      <th>killer_position_x</th>\n",
              "      <th>killer_position_y</th>\n",
              "      <th>map</th>\n",
              "      <th>match_id</th>\n",
              "      <th>time</th>\n",
              "      <th>victim_name</th>\n",
              "      <th>victim_placement</th>\n",
              "      <th>victim_position_x</th>\n",
              "      <th>victim_position_y</th>\n",
              "    </tr>\n",
              "  </thead>\n",
              "  <tbody>\n",
              "    <tr>\n",
              "      <th>0</th>\n",
              "      <td>Grenade</td>\n",
              "      <td>KrazyPortuguese</td>\n",
              "      <td>5.0</td>\n",
              "      <td>657725.10</td>\n",
              "      <td>146275.2</td>\n",
              "      <td>MIRAMAR</td>\n",
              "      <td>2U4GBNA0YmnLSqvEycnTjo-KT000vfUnhSA2vfVhVPe1QB...</td>\n",
              "      <td>823</td>\n",
              "      <td>KrazyPortuguese</td>\n",
              "      <td>5.0</td>\n",
              "      <td>657725.10</td>\n",
              "      <td>146275.2</td>\n",
              "    </tr>\n",
              "    <tr>\n",
              "      <th>1</th>\n",
              "      <td>SCAR-L</td>\n",
              "      <td>nide2Bxiaojiejie</td>\n",
              "      <td>31.0</td>\n",
              "      <td>93091.37</td>\n",
              "      <td>722236.4</td>\n",
              "      <td>MIRAMAR</td>\n",
              "      <td>2U4GBNA0YmnLSqvEycnTjo-KT000vfUnhSA2vfVhVPe1QB...</td>\n",
              "      <td>194</td>\n",
              "      <td>X3evolution</td>\n",
              "      <td>33.0</td>\n",
              "      <td>92238.68</td>\n",
              "      <td>723375.1</td>\n",
              "    </tr>\n",
              "    <tr>\n",
              "      <th>2</th>\n",
              "      <td>S686</td>\n",
              "      <td>Ascholes</td>\n",
              "      <td>43.0</td>\n",
              "      <td>366921.40</td>\n",
              "      <td>421623.9</td>\n",
              "      <td>MIRAMAR</td>\n",
              "      <td>2U4GBNA0YmnLSqvEycnTjo-KT000vfUnhSA2vfVhVPe1QB...</td>\n",
              "      <td>103</td>\n",
              "      <td>CtrlZee</td>\n",
              "      <td>46.0</td>\n",
              "      <td>367304.50</td>\n",
              "      <td>421216.1</td>\n",
              "    </tr>\n",
              "    <tr>\n",
              "      <th>3</th>\n",
              "      <td>Down and Out</td>\n",
              "      <td>Weirdo7777</td>\n",
              "      <td>9.0</td>\n",
              "      <td>472014.20</td>\n",
              "      <td>313274.8</td>\n",
              "      <td>MIRAMAR</td>\n",
              "      <td>2U4GBNA0YmnLSqvEycnTjo-KT000vfUnhSA2vfVhVPe1QB...</td>\n",
              "      <td>1018</td>\n",
              "      <td>BlackDpre</td>\n",
              "      <td>13.0</td>\n",
              "      <td>476645.90</td>\n",
              "      <td>316758.4</td>\n",
              "    </tr>\n",
              "    <tr>\n",
              "      <th>4</th>\n",
              "      <td>M416</td>\n",
              "      <td>Solayuki1</td>\n",
              "      <td>9.0</td>\n",
              "      <td>473357.80</td>\n",
              "      <td>318340.5</td>\n",
              "      <td>MIRAMAR</td>\n",
              "      <td>2U4GBNA0YmnLSqvEycnTjo-KT000vfUnhSA2vfVhVPe1QB...</td>\n",
              "      <td>1018</td>\n",
              "      <td>Vjolt</td>\n",
              "      <td>13.0</td>\n",
              "      <td>473588.50</td>\n",
              "      <td>318418.8</td>\n",
              "    </tr>\n",
              "  </tbody>\n",
              "</table>\n",
              "</div>"
            ],
            "text/plain": [
              "      killed_by       killer_name  killer_placement  killer_position_x  \\\n",
              "0       Grenade   KrazyPortuguese               5.0          657725.10   \n",
              "1        SCAR-L  nide2Bxiaojiejie              31.0           93091.37   \n",
              "2          S686          Ascholes              43.0          366921.40   \n",
              "3  Down and Out        Weirdo7777               9.0          472014.20   \n",
              "4          M416         Solayuki1               9.0          473357.80   \n",
              "\n",
              "   killer_position_y      map  \\\n",
              "0           146275.2  MIRAMAR   \n",
              "1           722236.4  MIRAMAR   \n",
              "2           421623.9  MIRAMAR   \n",
              "3           313274.8  MIRAMAR   \n",
              "4           318340.5  MIRAMAR   \n",
              "\n",
              "                                            match_id  time      victim_name  \\\n",
              "0  2U4GBNA0YmnLSqvEycnTjo-KT000vfUnhSA2vfVhVPe1QB...   823  KrazyPortuguese   \n",
              "1  2U4GBNA0YmnLSqvEycnTjo-KT000vfUnhSA2vfVhVPe1QB...   194      X3evolution   \n",
              "2  2U4GBNA0YmnLSqvEycnTjo-KT000vfUnhSA2vfVhVPe1QB...   103          CtrlZee   \n",
              "3  2U4GBNA0YmnLSqvEycnTjo-KT000vfUnhSA2vfVhVPe1QB...  1018        BlackDpre   \n",
              "4  2U4GBNA0YmnLSqvEycnTjo-KT000vfUnhSA2vfVhVPe1QB...  1018            Vjolt   \n",
              "\n",
              "   victim_placement  victim_position_x  victim_position_y  \n",
              "0               5.0          657725.10           146275.2  \n",
              "1              33.0           92238.68           723375.1  \n",
              "2              46.0          367304.50           421216.1  \n",
              "3              13.0          476645.90           316758.4  \n",
              "4              13.0          473588.50           318418.8  "
            ]
          },
          "execution_count": 5,
          "metadata": {},
          "output_type": "execute_result"
        }
      ],
      "source": [
        "df.head()"
      ]
    },
    {
      "attachments": {},
      "cell_type": "markdown",
      "metadata": {},
      "source": [
        "**Về PUBG:**\n",
        "PUBG là game bắn súng góc nhìn thứ nhất/thứ ba thể loại Battle Royale, nơi mỗi trận đấu gồm 100 người chơi trên một hòn đảo lớn sẽ chiến đấu với nhau cho tới khi chỉ còn 1 người sống sót. Người chơi được thả dù lên đảo, nơi có những thị trấn, tòa nhà để lượm nhặt súng, đạt, giáp và bông băng sơ cứu. Những người chơi sau đó sẽ đấu với nhau, hoặc núp cho tới khi chỉ còn một người duy nhất. Một Bluezone sẽ xuất hiện sau khi trận đấu bắt đầu vài phút, thu nhỏ vùng an toàn theo thời gian, gây ra sát thương buộc người chơi phải di chuyển và va chạm với nhau.\n",
        "\n",
        "**Về Dataset:**\n",
        "Dataset gốc gồm 20 file csv, ghi nhận 720000 trận đấu PUBG, được trích xuất từ pubg.op.gg. File kill_match_stats trong thư mục data ghi nhận sự kiện người chơi bị bắn chết trong 130000 trận đấu (từ nay về sau tạm gọi sự kiện này là một \"kill\"), với mỗi dòng là thông tin của một kill. Các kill này được ghi nhận trong các trận đấu diễn ra trên 2 bản đồ chính của game: Erangel và Mirama\n",
        "\n",
        "**Mô tả các cột trong file csv:**\n",
        "\n",
        "- killed_by: Nguyên nhân gây ra kill.\n",
        "- killer_name: tên player gây ra kill (từ nay về sau gọi ngắn gọi là killer), với một số nguyên nhân cụ thể sẽ trùng với victim_name.\n",
        "- killer_placement: thứ hạng của killer. Thứ hạng, hay \"top\" là số player còn lại của trận đấu ngay trước khi killer tử trận. Ví dụ placement = 10 nghĩa player tử trận khi trận chỉ còn 10 player.\n",
        "- killer_position_x: tọa độ x của killer tại thời điểm gây ra kill.\n",
        "- killer_position_y: tọa độ y của killer tại thời điểm gây ra kill.\n",
        "- map: tên map của trận đấu.\n",
        "- match_id: id của trận đấu.\n",
        "- time: thời điểm kill xảy ra tính từ lúc bắt đầu trận đấu.\n",
        "- victim_name: tên player tử trận (từ nay gọi về sau tạm gọi là victim), với một số nguyên nhân cụ thể sẽ trùng với killer_name.\n",
        "- victim_placement: thứ hạng của victim.\n",
        "- victim_position_x: tọa độ x của victim tại thời điểm kill xảy ra.\n",
        "- victim_position_y: tọa độ y của victim tại thời điểm kill xảy ra."
      ]
    },
    {
      "cell_type": "markdown",
      "metadata": {},
      "source": [
        "**Về đồ án:** Trong đồ án này, nhóm chủ yếu tập trung vào thời điểm và vị trí các kill diễn ra, không quá chú trọng vào tên player và match id hay các yếu tố khác. Do đó nhóm sẽ loại bỏ các cột `killer_name, victim_name, killer_placement, victim_placement, match_id`. Nhóm cũng sẽ tập trung vào phân tích diễn biến trận đấu trên map Erangel, do đó nhóm cũng sẽ lọc bỏ các dòng ghi nhận trên map Mirama"
      ]
    },
    {
      "cell_type": "code",
      "execution_count": 6,
      "metadata": {},
      "outputs": [],
      "source": [
        "df.drop(columns = ['killer_name', 'victim_name', 'killer_placement', 'victim_placement', 'match_id'], inplace = True)"
      ]
    },
    {
      "cell_type": "code",
      "execution_count": 7,
      "metadata": {},
      "outputs": [],
      "source": [
        "df = df[df['map'] == 'ERANGEL'].reset_index(drop = True)"
      ]
    },
    {
      "cell_type": "markdown",
      "metadata": {},
      "source": [
        "Do tất cả các dòng giờ đây đều cùng chứ map Erangel, nên ta có thể loại bỏ luôn cột `map`"
      ]
    },
    {
      "cell_type": "code",
      "execution_count": 8,
      "metadata": {},
      "outputs": [],
      "source": [
        "df.drop(columns = ['map'], inplace = True)"
      ]
    },
    {
      "cell_type": "markdown",
      "metadata": {},
      "source": [
        "Để thuận tiện cho việc truy xuất cũng như phân tích về sau, nhóm sẽ đổi tên các cột `killer_position_x, killer_position_y, victim_position_x, victim_position_y` thành `kx, ky, vx, vy`"
      ]
    },
    {
      "cell_type": "code",
      "execution_count": 9,
      "metadata": {},
      "outputs": [],
      "source": [
        "df.rename(columns = {\n",
        "    'killer_position_x': 'kx', \n",
        "    'killer_position_y': 'ky',\n",
        "    'victim_position_x': 'vx',\n",
        "    'victim_position_y': 'vy'\n",
        "},inplace = True)"
      ]
    },
    {
      "cell_type": "markdown",
      "metadata": {},
      "source": [
        "Sau khi thực hiện lọc và đổi tên như trên, ta được dataframe như bên dưới"
      ]
    },
    {
      "cell_type": "code",
      "execution_count": 10,
      "metadata": {},
      "outputs": [
        {
          "data": {
            "text/html": [
              "<div>\n",
              "<style scoped>\n",
              "    .dataframe tbody tr th:only-of-type {\n",
              "        vertical-align: middle;\n",
              "    }\n",
              "\n",
              "    .dataframe tbody tr th {\n",
              "        vertical-align: top;\n",
              "    }\n",
              "\n",
              "    .dataframe thead th {\n",
              "        text-align: right;\n",
              "    }\n",
              "</style>\n",
              "<table border=\"1\" class=\"dataframe\">\n",
              "  <thead>\n",
              "    <tr style=\"text-align: right;\">\n",
              "      <th></th>\n",
              "      <th>killed_by</th>\n",
              "      <th>kx</th>\n",
              "      <th>ky</th>\n",
              "      <th>time</th>\n",
              "      <th>vx</th>\n",
              "      <th>vy</th>\n",
              "    </tr>\n",
              "  </thead>\n",
              "  <tbody>\n",
              "    <tr>\n",
              "      <th>0</th>\n",
              "      <td>Down and Out</td>\n",
              "      <td>496989.8</td>\n",
              "      <td>312569.7</td>\n",
              "      <td>1035</td>\n",
              "      <td>497385.4</td>\n",
              "      <td>331528.2</td>\n",
              "    </tr>\n",
              "    <tr>\n",
              "      <th>1</th>\n",
              "      <td>M16A4</td>\n",
              "      <td>496989.8</td>\n",
              "      <td>312569.7</td>\n",
              "      <td>1035</td>\n",
              "      <td>497819.4</td>\n",
              "      <td>331981.3</td>\n",
              "    </tr>\n",
              "    <tr>\n",
              "      <th>2</th>\n",
              "      <td>AKM</td>\n",
              "      <td>460416.7</td>\n",
              "      <td>414748.8</td>\n",
              "      <td>1422</td>\n",
              "      <td>459817.9</td>\n",
              "      <td>414426.3</td>\n",
              "    </tr>\n",
              "    <tr>\n",
              "      <th>3</th>\n",
              "      <td>AKM</td>\n",
              "      <td>488034.1</td>\n",
              "      <td>347220.3</td>\n",
              "      <td>1210</td>\n",
              "      <td>487444.2</td>\n",
              "      <td>347651.0</td>\n",
              "    </tr>\n",
              "    <tr>\n",
              "      <th>4</th>\n",
              "      <td>SKS</td>\n",
              "      <td>501062.9</td>\n",
              "      <td>425078.6</td>\n",
              "      <td>1818</td>\n",
              "      <td>493043.4</td>\n",
              "      <td>434458.1</td>\n",
              "    </tr>\n",
              "  </tbody>\n",
              "</table>\n",
              "</div>"
            ],
            "text/plain": [
              "      killed_by        kx        ky  time        vx        vy\n",
              "0  Down and Out  496989.8  312569.7  1035  497385.4  331528.2\n",
              "1         M16A4  496989.8  312569.7  1035  497819.4  331981.3\n",
              "2           AKM  460416.7  414748.8  1422  459817.9  414426.3\n",
              "3           AKM  488034.1  347220.3  1210  487444.2  347651.0\n",
              "4           SKS  501062.9  425078.6  1818  493043.4  434458.1"
            ]
          },
          "execution_count": 10,
          "metadata": {},
          "output_type": "execute_result"
        }
      ],
      "source": [
        "df.head()"
      ]
    },
    {
      "cell_type": "markdown",
      "metadata": {},
      "source": [
        "<span style=\"color:red\">Câu lệnh bên dưới chỉ thực hiện một lần duy nhất trên máy một thành viên duy nhất. Sau khi thực hiện, tiến hành lưu trữ df thành file kill_match_stats_v1.csv, các thành viên khác chỉ cần load file này vào là được, không cần chạy lại câu lệnh `to_csv` để tránh mất thời gian<span>"
      ]
    },
    {
      "cell_type": "code",
      "execution_count": 11,
      "metadata": {},
      "outputs": [],
      "source": [
        "df.to_csv('data/kill_match_stats_v1.csv', index = False)"
      ]
    },
    {
      "cell_type": "markdown",
      "metadata": {},
      "source": [
        "## 1.1. Data Cleaning"
      ]
    },
    {
      "cell_type": "code",
      "execution_count": 12,
      "metadata": {},
      "outputs": [
        {
          "data": {
            "text/html": [
              "<div>\n",
              "<style scoped>\n",
              "    .dataframe tbody tr th:only-of-type {\n",
              "        vertical-align: middle;\n",
              "    }\n",
              "\n",
              "    .dataframe tbody tr th {\n",
              "        vertical-align: top;\n",
              "    }\n",
              "\n",
              "    .dataframe thead th {\n",
              "        text-align: right;\n",
              "    }\n",
              "</style>\n",
              "<table border=\"1\" class=\"dataframe\">\n",
              "  <thead>\n",
              "    <tr style=\"text-align: right;\">\n",
              "      <th></th>\n",
              "      <th>killed_by</th>\n",
              "      <th>kx</th>\n",
              "      <th>ky</th>\n",
              "      <th>time</th>\n",
              "      <th>vx</th>\n",
              "      <th>vy</th>\n",
              "    </tr>\n",
              "  </thead>\n",
              "  <tbody>\n",
              "    <tr>\n",
              "      <th>0</th>\n",
              "      <td>Down and Out</td>\n",
              "      <td>496989.8</td>\n",
              "      <td>312569.7</td>\n",
              "      <td>1035</td>\n",
              "      <td>497385.4</td>\n",
              "      <td>331528.2</td>\n",
              "    </tr>\n",
              "    <tr>\n",
              "      <th>1</th>\n",
              "      <td>M16A4</td>\n",
              "      <td>496989.8</td>\n",
              "      <td>312569.7</td>\n",
              "      <td>1035</td>\n",
              "      <td>497819.4</td>\n",
              "      <td>331981.3</td>\n",
              "    </tr>\n",
              "    <tr>\n",
              "      <th>2</th>\n",
              "      <td>AKM</td>\n",
              "      <td>460416.7</td>\n",
              "      <td>414748.8</td>\n",
              "      <td>1422</td>\n",
              "      <td>459817.9</td>\n",
              "      <td>414426.3</td>\n",
              "    </tr>\n",
              "    <tr>\n",
              "      <th>3</th>\n",
              "      <td>AKM</td>\n",
              "      <td>488034.1</td>\n",
              "      <td>347220.3</td>\n",
              "      <td>1210</td>\n",
              "      <td>487444.2</td>\n",
              "      <td>347651.0</td>\n",
              "    </tr>\n",
              "    <tr>\n",
              "      <th>4</th>\n",
              "      <td>SKS</td>\n",
              "      <td>501062.9</td>\n",
              "      <td>425078.6</td>\n",
              "      <td>1818</td>\n",
              "      <td>493043.4</td>\n",
              "      <td>434458.1</td>\n",
              "    </tr>\n",
              "  </tbody>\n",
              "</table>\n",
              "</div>"
            ],
            "text/plain": [
              "      killed_by        kx        ky  time        vx        vy\n",
              "0  Down and Out  496989.8  312569.7  1035  497385.4  331528.2\n",
              "1         M16A4  496989.8  312569.7  1035  497819.4  331981.3\n",
              "2           AKM  460416.7  414748.8  1422  459817.9  414426.3\n",
              "3           AKM  488034.1  347220.3  1210  487444.2  347651.0\n",
              "4           SKS  501062.9  425078.6  1818  493043.4  434458.1"
            ]
          },
          "execution_count": 12,
          "metadata": {},
          "output_type": "execute_result"
        }
      ],
      "source": [
        "df = pd.read_csv('data/kill_match_stats_v1.csv')\n",
        "df.head()"
      ]
    },
    {
      "cell_type": "markdown",
      "metadata": {},
      "source": [
        "### 1.1.1. Missing values"
      ]
    },
    {
      "cell_type": "markdown",
      "metadata": {},
      "source": [
        "Kiểm tra missing value trên tất cả các cột"
      ]
    },
    {
      "cell_type": "code",
      "execution_count": 13,
      "metadata": {},
      "outputs": [
        {
          "data": {
            "text/plain": [
              "killed_by         0\n",
              "kx           741597\n",
              "ky           741597\n",
              "time              0\n",
              "vx                0\n",
              "vy                0\n",
              "dtype: int64"
            ]
          },
          "execution_count": 13,
          "metadata": {},
          "output_type": "execute_result"
        }
      ],
      "source": [
        "df.isnull().sum()"
      ]
    },
    {
      "cell_type": "code",
      "execution_count": 14,
      "metadata": {},
      "outputs": [
        {
          "name": "stdout",
          "output_type": "stream",
          "text": [
            "Số dòng của df: 10,865,476\n"
          ]
        }
      ],
      "source": [
        "print(f'Số dòng của df: {df.shape[0]:,}')"
      ]
    },
    {
      "cell_type": "markdown",
      "metadata": {},
      "source": [
        "Ở đây có khoảng hơn 700000 missing value ở 2 cột `kx` và `ky` so với khoảng 10,000,000 dòng dữ liệu chỉ chiếm 7%, ta có thể dễ dàng loại bỏ các dòng này. Tuy nhiên ta có thể quan sát các dòng này một chút"
      ]
    },
    {
      "cell_type": "code",
      "execution_count": 15,
      "metadata": {},
      "outputs": [
        {
          "data": {
            "text/plain": [
              "Bluezone                           468994\n",
              "Down and Out                       141913\n",
              "Falling                             61571\n",
              "Drown                               41150\n",
              "RedZone                             13683\n",
              "Uaz                                  4451\n",
              "Dacia                                3002\n",
              "Buggy                                2091\n",
              "Hit by Car                           1719\n",
              "Motorbike                             994\n",
              "Motorbike (SideCar)                   895\n",
              "Punch                                 514\n",
              "Grenade                               330\n",
              "death.Buff_FireDOT_C                  145\n",
              "death.RedZoneBomb_C                    90\n",
              "Boat                                   28\n",
              "death.ProjMolotov_DamageField_C        24\n",
              "SCAR-L                                  1\n",
              "Aquarail                                1\n",
              "S686                                    1\n",
              "Name: killed_by, dtype: int64"
            ]
          },
          "execution_count": 15,
          "metadata": {},
          "output_type": "execute_result"
        }
      ],
      "source": [
        "df[df['kx'].isnull()]['killed_by'].value_counts()"
      ]
    },
    {
      "cell_type": "markdown",
      "metadata": {},
      "source": [
        "Quan sát cột `killed_by` thấy nguyên nhân gây kill ở các dòng `kx` và `ky` trống ta thấy chủ yếu các nguyên nhân này thuộc vào loại Zone (các vùng gây sát thương), các loại xe, các loại vũ khí ném và các nguyên nhân tự thân (`'Falling': Ngã, Drown: Đuối nước`). Đối vơi các nguyên nhân này, không có killer, do đó không có tọa độ của killer. Ta có thể tạm gán tọa độ `kx` và `ky` của các dòng này bằng với tọa độ của victim `vx` và `vy`"
      ]
    },
    {
      "cell_type": "code",
      "execution_count": 16,
      "metadata": {},
      "outputs": [],
      "source": [
        "df.loc[df['kx'].isnull(), 'kx'] = df['vx']\n",
        "df.loc[df['ky'].isnull(), 'ky'] = df['vy']"
      ]
    },
    {
      "cell_type": "markdown",
      "metadata": {},
      "source": [
        "### 1.1.2. Duplicated values"
      ]
    },
    {
      "cell_type": "code",
      "execution_count": 17,
      "metadata": {},
      "outputs": [
        {
          "data": {
            "text/plain": [
              "257932"
            ]
          },
          "execution_count": 17,
          "metadata": {},
          "output_type": "execute_result"
        }
      ],
      "source": [
        "df.duplicated().sum()"
      ]
    },
    {
      "cell_type": "markdown",
      "metadata": {},
      "source": [
        "Dùng hàm `duplicated` để kiểm tra các dòng trùng nhau, ta thấy có 257932 dòng dữ liệu bị trùng. Tuy nhiên ta có thể quan sát kĩ hơn các dòng này "
      ]
    },
    {
      "cell_type": "code",
      "execution_count": 18,
      "metadata": {},
      "outputs": [],
      "source": [
        "data = df[df.duplicated()]"
      ]
    },
    {
      "cell_type": "code",
      "execution_count": 19,
      "metadata": {},
      "outputs": [
        {
          "data": {
            "text/plain": [
              "kx        ky        vx        vy      \n",
              "0.0       0.0       0.0       0.0         257127\n",
              "399045.9  300804.1  0.0       0.0              2\n",
              "482652.2  446492.6  0.0       0.0              2\n",
              "446353.9  629764.4  446300.3  629816.6         1\n",
              "444775.8  623105.9  444581.1  623158.9         1\n",
              "                                           ...  \n",
              "348630.2  312316.8  350118.1  318378.7         1\n",
              "349536.5  563234.7  349230.2  564633.3         1\n",
              "349832.6  565963.8  350066.0  566620.0         1\n",
              "349866.4  563824.9  354611.3  570966.2         1\n",
              "738463.6  434072.6  738463.6  434072.6         1\n",
              "Length: 804, dtype: int64"
            ]
          },
          "execution_count": 19,
          "metadata": {},
          "output_type": "execute_result"
        }
      ],
      "source": [
        "data[['kx', 'ky', 'vx', 'vy']].value_counts()"
      ]
    },
    {
      "cell_type": "markdown",
      "metadata": {},
      "source": [
        "Quan sát các giá trị khác nhau của các cột tọa độ, ta nhận thấy đa số các cột trùng nhau có tọa độ killer và victim nằm ở (0, 0), nghĩa là ở góc bản đồ, nơi không có địa hình (sẽ được minh họa kỹ hơn ở phần trực quan hóa dữ liệu). Đây có thể là lỗi trong quá trình game vận hành, số lượng các dòng bị lỗi cũng chỉ khoảng 2,5% dữ liệu, ta có thể đơn giản xóa đi các dòng này"
      ]
    },
    {
      "cell_type": "code",
      "execution_count": 20,
      "metadata": {},
      "outputs": [],
      "source": [
        "df.drop_duplicates(inplace = True, ignore_index = True)"
      ]
    },
    {
      "cell_type": "markdown",
      "metadata": {},
      "source": [
        "### 1.1.3. Outliers"
      ]
    },
    {
      "cell_type": "markdown",
      "metadata": {},
      "source": [
        "Hiện tại `df` có 1 cột categorical là `killed_by` và 5 cột còn lại là numerical. Đối với cột `categorical`, nhóm sử dụng hàm value_counts để xác định outliers, còn đối với các cột numerical, nhóm sử dụng boxplot, kết hợp với thông tin về bản đồ của game để xác định và xử lí các outliers"
      ]
    },
    {
      "cell_type": "code",
      "execution_count": 21,
      "metadata": {},
      "outputs": [
        {
          "name": "stdout",
          "output_type": "stream",
          "text": [
            "death.PlayerMale_A_C                     1\n",
            "Aquarail                                21\n",
            "death.RedZoneBomb_C                     90\n",
            "death.ProjMolotov_C                    251\n",
            "Boat                                  1742\n",
            "death.Buff_FireDOT_C                  2711\n",
            "Sickle                                4338\n",
            "Crowbar                               4704\n",
            "AUG                                   4830\n",
            "Machete                               5377\n",
            "death.ProjMolotov_DamageField_C       7086\n",
            "Buggy                                 7443\n",
            "Motorbike                             9451\n",
            "Motorbike (SideCar)                  11132\n",
            "P18C                                 13241\n",
            "Mk14                                 13324\n",
            "RedZone                              13587\n",
            "Pan                                  15167\n",
            "Crossbow                             18836\n",
            "Dacia                                19557\n",
            "Drown                                21371\n",
            "AWM                                  23648\n",
            "M249                                 25572\n",
            "VSS                                  27602\n",
            "M24                                  33278\n",
            "DP-28                                36182\n",
            "Groza                                36523\n",
            "R1895                                37774\n",
            "Uaz                                  44234\n",
            "Vector                               62714\n",
            "Hit by Car                          102089\n",
            "Falling                             122660\n",
            "P92                                 122875\n",
            "P1911                               127714\n",
            "Tommy Gun                           138545\n",
            "Grenade                             192149\n",
            "Micro UZI                           219980\n",
            "SKS                                 247166\n",
            "S12K                                248185\n",
            "S686                                274349\n",
            "Kar98k                              281661\n",
            "Punch                               295594\n",
            "Bluezone                            328621\n",
            "Mini 14                             347521\n",
            "S1897                               480390\n",
            "UMP9                                597775\n",
            "AKM                                 928991\n",
            "SCAR-L                              996017\n",
            "M16A4                              1020820\n",
            "M416                               1208150\n",
            "Down and Out                       1824505\n",
            "Name: killed_by, dtype: int64\n"
          ]
        }
      ],
      "source": [
        "print(df['killed_by'].value_counts().sort_values())"
      ]
    },
    {
      "cell_type": "markdown",
      "metadata": {},
      "source": [
        "Quan sát cột `killed_by`, ta thấy một vài outlier là `death.PlayerMale_A_C`, `death.RedZoneBomb_C`, `Aquarial`, `death.ProjMolotov`, `Boat`, `death.Buf_FireDOT_C`. Tuy là outliers nhưng các nguyên nhân gây kill này vẫn tồn tại trong game, do ít được sử dụng nên được ghi nhận ít. Nhóm có tra cứu thì nhận thấy ngoài `death.PlayerMale_A_C` và `death.Buff_FireDOT_C`, các nguyên nhân còn lại đều hợp lệ, chỉ bị sai tên, sẽ được sửa ở phần Data Quality bên dưới. Do dó ở cột `killed_by`, nhóm chỉ thực hiện xóa các dòng có `death.PlayerMale_A_C` và `death.Buff_FireDOT_C` của cột `killed_by`"
      ]
    },
    {
      "cell_type": "code",
      "execution_count": 22,
      "metadata": {},
      "outputs": [],
      "source": [
        "df = df[(df['killed_by'] != 'death.PlayerMale_A_C') & (df['killed_by'] != 'death.Buff_FireDOT_C') ]"
      ]
    },
    {
      "cell_type": "markdown",
      "metadata": {},
      "source": [
        "Đối với 5 cột numerical thì chỉ có cột `time` là khác ý nghĩa với 4 cột tọa độ còn lại, ta gom nhóm 4 cột tọa độ vào cùng một boxplot"
      ]
    },
    {
      "cell_type": "code",
      "execution_count": 23,
      "metadata": {},
      "outputs": [
        {
          "data": {
            "image/png": "[encoded data removed]",
            "text/plain": [
              "<Figure size 640x480 with 1 Axes>"
            ]
          },
          "metadata": {},
          "output_type": "display_data"
        }
      ],
      "source": [
        "sns.boxplot(x = 'variable', y = 'value', data = pd.melt(df[['kx', 'ky', 'vx', 'vy']]));"
      ]
    },
    {
      "cell_type": "markdown",
      "metadata": {},
      "source": [
        "Quan sát các giá trị tọa độ, ta nhận ra đa số các giá trị đều nằm trong khoảng từ 0 tới 800,000. Đây cũng là khoảng dữ liệu hợp lệ đã được đề cập trong mô tả dữ liệu của tác giả. Các giá trị ngoại lai lớn hơn 0 và nhỏ hơn 800,000 cũng xuất hiện không nhiều, không gây ảnh hưởng tới việc phân tích dữ liệu về sau, nên ta có thể chấp nhận các giá trị này. Do đó ở đây nhóm chỉ loại bỏ các giá trị tọa độ lớn hơn 800,000 hoặc nhỏ hơn 0."
      ]
    },
    {
      "cell_type": "code",
      "execution_count": 24,
      "metadata": {},
      "outputs": [],
      "source": [
        "df = df[(df['kx'] <= 800000) & (df['kx'] >= 0) \n",
        "        & (df['ky'] <= 800000) & (df['ky'] >= 0)\n",
        "        & (df['vx'] <= 800000) & (df['vx'] >= 0)\n",
        "        & (df['vy'] <= 800000) & (df['vy'] >= 0)]"
      ]
    },
    {
      "cell_type": "code",
      "execution_count": 25,
      "metadata": {},
      "outputs": [
        {
          "data": {
            "image/png": "[encoded data removed]",
            "text/plain": [
              "<Figure size 640x480 with 1 Axes>"
            ]
          },
          "metadata": {},
          "output_type": "display_data"
        }
      ],
      "source": [
        "sns.boxplot(x = df['time']);"
      ]
    },
    {
      "cell_type": "markdown",
      "metadata": {},
      "source": [
        "Cột `time` không có outlier do đó ta không cần phải xử lí"
      ]
    },
    {
      "cell_type": "markdown",
      "metadata": {},
      "source": [
        "## 1.2. Data Quality Assesement\n",
        "Tại bước này, nhóm tiến hành kiểm tra độ nhất quán dữ liệu, chủ yếu là ở cột `killed_by`, thêm một số cột mới có ý nghĩa phân tích dựa trên các cột đã có\n",
        "\n",
        "### 1.2.1 Killed_by\n",
        "Như đã đề cập ở phần 1.1.3, cột `killed_by` có một vài giá trị có vẻ khác với các giá trị còn lại. Nhóm đã tiến hành tra cứu và dựa vào hiểu biết của mình về game để chỉnh sửa các giá trị này cho phù hợp"
      ]
    },
    {
      "cell_type": "code",
      "execution_count": 26,
      "metadata": {},
      "outputs": [
        {
          "data": {
            "text/plain": [
              "Aquarail                                21\n",
              "death.RedZoneBomb_C                     90\n",
              "death.ProjMolotov_C                    251\n",
              "Boat                                  1738\n",
              "Sickle                                4338\n",
              "Crowbar                               4704\n",
              "AUG                                   4830\n",
              "Machete                               5377\n",
              "death.ProjMolotov_DamageField_C       7085\n",
              "Buggy                                 7443\n",
              "Motorbike                             9451\n",
              "Motorbike (SideCar)                  11132\n",
              "P18C                                 13241\n",
              "Mk14                                 13324\n",
              "RedZone                              13587\n",
              "Pan                                  15167\n",
              "Crossbow                             18836\n",
              "Dacia                                19557\n",
              "Drown                                21334\n",
              "AWM                                  23648\n",
              "M249                                 25571\n",
              "VSS                                  27602\n",
              "M24                                  33278\n",
              "DP-28                                36182\n",
              "Groza                                36523\n",
              "R1895                                37774\n",
              "Uaz                                  44234\n",
              "Vector                               62713\n",
              "Hit by Car                          102086\n",
              "Falling                             122651\n",
              "P92                                 122875\n",
              "P1911                               127714\n",
              "Tommy Gun                           138545\n",
              "Grenade                             192145\n",
              "Micro UZI                           219980\n",
              "SKS                                 247165\n",
              "S12K                                248185\n",
              "S686                                274348\n",
              "Kar98k                              281661\n",
              "Punch                               295593\n",
              "Bluezone                            328589\n",
              "Mini 14                             347520\n",
              "S1897                               480390\n",
              "UMP9                                597774\n",
              "AKM                                 928990\n",
              "SCAR-L                              996014\n",
              "M16A4                              1020820\n",
              "M416                               1208149\n",
              "Down and Out                       1824489\n",
              "Name: killed_by, dtype: int64"
            ]
          },
          "execution_count": 26,
          "metadata": {},
          "output_type": "execute_result"
        }
      ],
      "source": [
        "df['killed_by'].value_counts().sort_values()"
      ]
    },
    {
      "cell_type": "markdown",
      "metadata": {},
      "source": [
        "Qua tìm hiểu, nhóm ghi nhận được:\n",
        "- `death.RedZoneBomb_C` là cách thể hiện khác của `RedZone`\n",
        "- `death.ProjMolotov_C` và `death.ProjMolotov_DamageField_C` đều là kill do bom xăng Molotov gây ra. Tuy nhiên điểm khác biệt nằm ở chỗ nếu victim tử trận khi bị đốt cháy trong đám lửa của xăng, `killed_by` sẽ là `death.ProjMolotov_C` (video bên phải bên dưới). Nếu người chơi tử trận do lửa còn đốt cháy trên người sau khi đã thoát khỏi đám cháy của Molotov, `killed_by` sẽ được ghi nhận là `death.ProjMolotov_DamageField_C` (video bên trái bên dưới). \n",
        "\n",
        "Do đó nhóm quyết định đối các giá trị `death.RedZoneBomb_C` thành `RedZone`, đổi cả 2 giá trị `death.ProjMolotov_C` và `death.ProjMolotov_DamageField_C` thành `Molotov`\n",
        "\n",
        "<iframe src='https://gfycat.com/ifr/ShockingBrokenBrahmancow' frameborder='0' scrolling='no' allowfullscreen width='640' height='404' allow='autoplay'></iframe>\n",
        "\n",
        "<iframe src='https://gfycat.com/ifr/ImperfectWhimsicalDrafthorse' frameborder='0' scrolling='no' allowfullscreen width='640' height='404' allow='autoplay'></iframe>\n",
        "\n",
        "Nhóm cũng nhận thấy `Bluezone` và `RedZone` có sự khác biệt về chữ `z` và `Z`, dù cả 2 đối tượng này đều chỉ các zone. Để tránh nhầm lẫn trong lập trình, nhóm cũng sẽ replace `Bluezone` thành `BlueZone`"
      ]
    },
    {
      "cell_type": "code",
      "execution_count": 27,
      "metadata": {},
      "outputs": [],
      "source": [
        "df.replace({\n",
        "    'death.RedZoneBomb_C': 'RedZone',\n",
        "    'death.ProjMolotov_C': 'Molotov',\n",
        "    'death.ProjMolotov_DamageField_C': 'Molotov',\n",
        "    'Bluezone': 'BlueZone'\n",
        "}, inplace = True)"
      ]
    },
    {
      "cell_type": "markdown",
      "metadata": {},
      "source": [
        "### 1.2.2. Các cột tọa độ\n",
        "Như đã đề cập, khoảng hợp lệ của các tọa độ là từ 0 tới 800,000. Hiện tại trong df, các cột tọa độ là số thực. Tuy nhiên trong game, khoảng cách giữa 2 cạnh bản đồ là 8,8,000m, do đó nhóm nhận thấy có thể quay tọa độ từ khoảng 0 tới 800,000 thành 0 tới 8,000, đồng thời làm tròn các tọa độ thành số nguyên (vì sự khác biệt ở sau dấu phẩy thập phân không có ý nghĩa khi khoảng dữ liệu trải dài từ 0 tới 800,000)"
      ]
    },
    {
      "cell_type": "code",
      "execution_count": 28,
      "metadata": {},
      "outputs": [],
      "source": [
        "df[['kx', 'ky', 'vx', 'vy']] = (df[['kx', 'ky', 'vx', 'vy']] / 100).round(0).astype(int)"
      ]
    },
    {
      "cell_type": "markdown",
      "metadata": {},
      "source": [
        "### 1.2.3. Thêm một số cột khác\n",
        "#### 1.2.3.1. Distance\n",
        "Một tiêu chí đánh giá quan trọng của kill là khoảng cách giữa killer và victim, phần nào cung cấp thêm thông tin về giao tranh đã xảy ra. Khoảng cách ở đây đưuọc tính theo công thức Euclid\n",
        "$$\n",
        "dis = \\sqrt{(kx - vx)^2 + (ky - vy)^2}\n",
        "$$\n",
        "Ở đây nhóm cũng sẽ làm tròn khoảng cách thành số nguyên để tiết kiệm chi phí lưu trữ."
      ]
    },
    {
      "cell_type": "code",
      "execution_count": 29,
      "metadata": {},
      "outputs": [],
      "source": [
        "df['dis'] = np.sqrt((df['kx'] - df['vx'])**2 + (df['ky'] - df['vy'])**2).round(0).astype(int)"
      ]
    },
    {
      "cell_type": "markdown",
      "metadata": {},
      "source": [
        "#### 1.2.3.2. Phase\n",
        "Ngoài thời gian `time`, ta có thể dùng `phase` để xác định khoảng thời gian diễn ra giao tranh. Mỗi trận đấu có 9 phase, bắt đầu từ phase 1 tới 9. Mỗi phase sẽ diễn ra trong một khoảng thời gian nhất định, trong khoảng thời gian này, bluezone sẽ đứng yên. Tới cuối mỗi phase, bluezone sẽ thu hẹp lại, ép người chơi di chuyển vào trung tâm, và chuyển sang phase tiếp theo. Thời gian dành cho mỗi phase sẽ giảm dần cùng với kích thước bluezone tại phase đó. Theo tra cứu của nhóm tại http://battlegrounds.party/circle/, thời gian cho từng phase sẽ như sau:\n",
        "|Phase|Bắt đầu|Kết thúc|\n",
        "|-----|-------|--------|\n",
        "|1|121|720|\n",
        "|2|721|1060|\n",
        "|3|1061|1300|\n",
        "|4|1301|1480|\n",
        "|5|1481|1650|\n",
        "|6|1651|1760|\n",
        "|7|1761|1880|\n",
        "|8|1881|1970|\n",
        "|9|1971|2150|\n",
        "\n",
        "Từ giây thứ 1 (ngay sau khi lên máy bay) tới giây thứ 120s, bluezone chưa xuất hiện nên không được tính là phase 1. Tuy nhiên để thuận tiện, nhóm sẽ gom khoảng thời gian này vào phase 1"
      ]
    },
    {
      "cell_type": "code",
      "execution_count": 30,
      "metadata": {},
      "outputs": [],
      "source": [
        "phase_df = pd.DataFrame({\n",
        "    'time': [1, 721, 1061, 1301, 1481, 1651, 1761, 1881, 1971],\n",
        "    'phase': [1, 2, 3, 4, 5, 6, 7, 8, 9],\n",
        "})"
      ]
    },
    {
      "cell_type": "code",
      "execution_count": 31,
      "metadata": {},
      "outputs": [],
      "source": [
        "df['phase'] = pd.merge_asof(df[['time']].sort_values(by = ['time']).reset_index(), phase_df, on = 'time').sort_values(by = ['index']).reset_index(drop = True)['phase']"
      ]
    },
    {
      "cell_type": "markdown",
      "metadata": {},
      "source": [
        "#### 1.2.3.3. Type\n",
        "\n",
        "Quan sát cột `killed_by`, nhóm nhận thấy có quá nhiều giá trị categorical. Nhóm quyết định sẽ gom nhóm nguyên nhân đã được quy ước sẵn trong game:\n",
        "- AR: `A`ssualt `R`iffle - Súng trường hay trung liên\n",
        "- DMR: `D`esignated `M`arksman `R`iffl - Súng trường thiện xạ\n",
        "- SR: `S`niper `R`iffle - Súng ngắm\n",
        "- SMG: `S`ub `M`achine `G`un - Tiểu liên\n",
        "- LMG: `L`ight `M`achine `G`un - Súng máy hạng nhẹ\n",
        "- Shotgun: Súng săn hay súng hoa cải\n",
        "- Handgun: Súng ngắn, nhóm cũng sẽ gom `Crossbow (nỏ)` vào nhóm này\n",
        "- Melee: Vũ khí cầm tay, nhóm quyết định gom `Punch (nắm đấm)` vào nhóm này\n",
        "- Zone: Các vùng gây sát thương, gồm `BlueZone` và `RedZone`\n",
        "- Throwable: Các loại vũ khí ném gồm `Grenade (lựu đạn)` và `Molotov (bom xăng)`\n",
        "- Vehicle: phương tiện di chuyển\n",
        "- Self: các nguyên nhân tự thân gồm `Falling (té ngã)` và `Drown (đuối nước)`\n",
        "\n",
        "Tuy nhiên có 2 giá trị cần lưu ý ở đây:\n",
        "- `Down and Out`: khi người chơi tham gia trận đấu thể thức nhóm 2, 4 người thì khi mức máu trở về 0, người chơi sẽ không tử trận ngay và rơi vào trạng thái `'knock'` (không thể sử dụng vũ khí, hồi máu, tốc độ di chuyển rất chậm, không thể di chuyển trên xe, máu liên tục giảm). Nếu đồng đội của người chơi này không `'cứu'` kịp thời, người chơi này sẽ tử trận và được ghi nhận là một sự kiện `'Down and Out'`. Do không rõ nguyên nhân gây kill ban đầu là gì, nhóm quyết định loại bỏ các dòng này.\n",
        "- `Hit by Car`: bị đụng xe. Bởi vì đã có các giá trị khác nêu rõ loại xe gây tai nạn (`Dacia`, `Uaz`, ...) nên nhóm cũng không rõ `Hit by Car` có ý nghĩa gì khác. Thêm vào đó là số lượng các dòng `Hit by Car` chỉ chiếm 1% dữ liệu nên nhóm quyết định loại bỏ các dòng này\n"
      ]
    },
    {
      "cell_type": "code",
      "execution_count": 32,
      "metadata": {},
      "outputs": [],
      "source": [
        "type_df = pd.DataFrame(list({\n",
        "    'M416': 'AR', 'SCAR-L': 'AR', 'AKM': 'AR', 'Groza': 'AR', 'M16A4': 'AR', 'AUG': 'AR',\n",
        "    'SKS': 'DMR', 'Mini 14': 'DMR', 'Mk14': 'DMR', 'VSS': 'DMR',\n",
        "    'Kar98k': 'SR', 'AWM': 'SR', 'M24': 'SR',\n",
        "    'M249': 'LMG', 'DP-28': 'LMG',\n",
        "    'UMP9': 'SMG', 'Vector': 'SMG', 'Tommy Gun': 'SMG', 'Micro UZI': 'SMG',\n",
        "    'S1897': 'Shotgun', 'S686': 'Shotgun', 'S12K': 'Shotgun',\n",
        "    'P1911': 'Handgun', 'R1895': 'Handgun', 'P92': 'Handgun', 'P18C': 'Handgun', 'Crossbow': 'Handgun',\n",
        "    'Pan': 'Melee', 'Machete': 'Melee', 'Crowbar': 'Melee', 'Sickle': 'Melee', 'Punch': 'Melee',\n",
        "    'BlueZone': 'Zone', 'RedZone': 'Zone',\n",
        "    'Molotov': 'Throwable', 'Grenade': 'Throwable',\n",
        "    'Motorbike': 'Vehicle', 'Motorbike (SideCar)': 'Vehicle', 'Dacia': 'Vehicle', 'Uaz': 'Vehicle',\n",
        "    'Buggy': 'Vehicle', 'Boat': 'Vehicle', 'Aquarail': 'Vehicle',\n",
        "    'Falling': 'Self', 'Drown': 'Self'\n",
        "}.items()), columns = ['killed_by', 'type'])"
      ]
    },
    {
      "cell_type": "code",
      "execution_count": 33,
      "metadata": {},
      "outputs": [],
      "source": [
        "df = df.join(type_df.set_index('killed_by'), on = 'killed_by', how = 'left')\n",
        "df = df[(df['killed_by'] != 'Hit by Car') & (df['killed_by'] != 'Down and Out')]"
      ]
    },
    {
      "cell_type": "markdown",
      "metadata": {},
      "source": [
        "Sau khi thêm 3 cột mới là dis, phase, và type, nhóm nhận ra xuất hiện một vài vấn đề mới trong missing value và outlier\n",
        "#### 1.2.3.4. More of Data Cleaning\n",
        "##### 1.2.3.4.1. Outlier Distance\n",
        "Ta kiểm tra outlier của cột dis bằng boxplot dưới đây"
      ]
    },
    {
      "cell_type": "code",
      "execution_count": 34,
      "metadata": {},
      "outputs": [
        {
          "data": {
            "text/plain": [
              "<AxesSubplot: xlabel='type', ylabel='dis'>"
            ]
          },
          "execution_count": 34,
          "metadata": {},
          "output_type": "execute_result"
        },
        {
          "data": {
            "image/png": "[encoded data removed]",
            "text/plain": [
              "<Figure size 1500x500 with 1 Axes>"
            ]
          },
          "metadata": {},
          "output_type": "display_data"
        }
      ],
      "source": [
        "plt.figure(figsize = (15, 5))\n",
        "sns.boxplot(data = df, x = 'type', y = 'dis')"
      ]
    },
    {
      "cell_type": "markdown",
      "metadata": {},
      "source": [
        "Quan sát boxplot, nhóm nhận ra có khá nhiều dữ liệu khoảng cách bị lỗi (có thể do sai sót của hệ thống hoặc do cheater). Dựa vào kinh nghiệm chơi game cũng như tra cứu về các loại vũ khí, nhóm quyết định lọc khoảng cách theo các loại vũ khí như bên dưới"
      ]
    },
    {
      "cell_type": "code",
      "execution_count": 35,
      "metadata": {},
      "outputs": [
        {
          "data": {
            "text/plain": [
              "<AxesSubplot: xlabel='type', ylabel='dis'>"
            ]
          },
          "execution_count": 35,
          "metadata": {},
          "output_type": "execute_result"
        },
        {
          "data": {
            "image/png": "[encoded data removed]",
            "text/plain": [
              "<Figure size 1500x500 with 1 Axes>"
            ]
          },
          "metadata": {},
          "output_type": "display_data"
        }
      ],
      "source": [
        "plt.figure(figsize = (15, 5))\n",
        "\n",
        "type_index = df[(\n",
        "    ((df['type'] == 'Self') & (df['dis'] > 20)) |\n",
        "    ((df['type'] == 'AR') & (df['dis'] > 500)) |\n",
        "    ((df['type'] == 'DMR') & (df['dis'] > 600)) |\n",
        "    ((df['type'] == 'SR') & (df['dis'] > 1000)) |\n",
        "    ((df['type'] == 'Shotgun') & (df['dis'] > 100)) |\n",
        "    ((df['type'] == 'Handgun') & (df['dis'] > 75)) |\n",
        "    ((df['type'] == 'SMG') & (df['dis'] > 200)) |\n",
        "    ((df['type'] == 'LMG') & (df['dis'] > 400)) |\n",
        "    ((df['type'] == 'Throwable') & (df['dis'] > 100)) |\n",
        "    ((df['type'] == 'Zone') & (df['dis'] > 10)) |\n",
        "    ((df['type'] == 'Melee') & (df['dis'] > 10)) |\n",
        "    ((df['type'] == 'Vehicle') & (df['dis'] > 100))\n",
        ")].index\n",
        "\n",
        "df = df.drop(type_index).reset_index(drop = True)\n",
        "sns.boxplot(data = df, x = 'type', y = 'dis')\n"
      ]
    },
    {
      "cell_type": "markdown",
      "metadata": {},
      "source": [
        "##### 1.2.3.4.2. Missing và Outlier Phase\n",
        "Như đã đề cập, phase 9 của trận đấu kết thúc vào giây thứ 2150, nghĩa là tại giây 2150, bluezone sẽ thua nhỏm đến hết cỡ, gây sát thương lên toàn bản đồ và thường vào lúc này cũng chỉ còn nhiều nhất 1 player sống sót, do đó nhóm sẽ xóa các dòng có time lớn hơn 2160, khoảng tầm 10s sau khi vòng bo thu vào hết cỡ.\n",
        "\n",
        "Ngoài ra khi gán phase cho cột time, nhóm cũng không rõ vì sao có một số lượng rất nhỏ các hàng không gán được phase dù có time hợp lệ. Vì số lượng các dòng này quá nhỏ, nhóm quyết định xóa toàn bộ các dòng này"
      ]
    },
    {
      "cell_type": "code",
      "execution_count": 36,
      "metadata": {},
      "outputs": [],
      "source": [
        "df = df[df['time'] <= 2160]"
      ]
    },
    {
      "cell_type": "code",
      "execution_count": 37,
      "metadata": {},
      "outputs": [
        {
          "data": {
            "text/plain": [
              "2297"
            ]
          },
          "execution_count": 37,
          "metadata": {},
          "output_type": "execute_result"
        }
      ],
      "source": [
        "df['phase'].isnull().sum()"
      ]
    },
    {
      "cell_type": "code",
      "execution_count": 38,
      "metadata": {},
      "outputs": [],
      "source": [
        "df = df[df['phase'].notnull()]\n",
        "df['phase'] = df['phase'].astype(int)\n",
        "df.reset_index(drop = True, inplace = True)"
      ]
    },
    {
      "cell_type": "markdown",
      "metadata": {},
      "source": [
        "Vậy là nhóm đã thực hiện xong các công việc tiền xử lí dữ liệu, tạo thêm một số cột mới có ý nghĩa phân tích từ các cột cũ. Dữ liệu sau khi được tiền xử lí sẽ được lưu vào file kill_match_stats_v2.csv, các công đoạn sau chỉ sử dụng dữ liệu từ file này"
      ]
    },
    {
      "cell_type": "code",
      "execution_count": 39,
      "metadata": {},
      "outputs": [],
      "source": [
        "df = df.iloc[:, [0, 8, 3, 7, 6, 1, 2, 4, 5]]\n",
        "\n",
        "df.to_csv('data/kill_match_stats_v2.csv', index = False)"
      ]
    }
  ],
  "metadata": {
    "kernelspec": {
      "display_name": "Python 3.10.6 64-bit",
      "language": "python",
      "name": "python3"
    },
    "language_info": {
      "codemirror_mode": {
        "name": "ipython",
        "version": 3
      },
      "file_extension": ".py",
      "mimetype": "text/x-python",
      "name": "python",
      "nbconvert_exporter": "python",
      "pygments_lexer": "ipython3",
      "version": "3.10.6"
    },
    "orig_nbformat": 4,
    "vscode": {
      "interpreter": {
        "hash": "31f2aee4e71d21fbe5cf8b01ff0e069b9275f58929596ceb00d14d90e3e16cd6"
      }
    }
  },
  "nbformat": 4,
  "nbformat_minor": 2
}
