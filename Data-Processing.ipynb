{
 "cells": [
  {
   "cell_type": "markdown",
   "metadata": {},
   "source": [
    "# 0. Import thư viện"
   ]
  },
  {
<<<<<<< HEAD
   "cell_type": "code",
   "execution_count": 2,
   "metadata": {},
   "outputs": [],
   "source": [
    "import pandas as pd\n",
    "import numpy as np\n",
    "import seaborn as sns\n",
    "import matplotlib.pyplot as plt\n",
    "\n",
    "sns.set_theme()"
   ]
  },
  {
   "cell_type": "markdown",
   "metadata": {},
   "source": [
    "# 1. Data Preprocessing\n",
    "## 1.0. Data Loading"
   ]
  },
  {
   "cell_type": "code",
   "execution_count": 3,
   "metadata": {},
   "outputs": [],
   "source": [
=======
   "cell_type": "code",
   "execution_count": 1,
   "metadata": {},
   "outputs": [],
   "source": [
    "import pandas as pd\n",
    "import numpy as np\n",
    "import seaborn as sns\n",
    "import matplotlib.pyplot as plt\n",
    "\n",
    "sns.set_theme()"
   ]
  },
  {
   "cell_type": "markdown",
   "metadata": {},
   "source": [
    "# 1. Data Preprocessing\n",
    "## 1.0. Data Loading"
   ]
  },
  {
   "cell_type": "code",
   "execution_count": null,
   "metadata": {},
   "outputs": [],
   "source": [
>>>>>>> 0db475fa6bffe5d76e27dffb18482dd835a795ce
    "df = pd.read_csv('data/kill_match_stats.csv')"
   ]
  },
  {
   "cell_type": "code",
<<<<<<< HEAD
   "execution_count": 4,
=======
   "execution_count": null,
>>>>>>> 0db475fa6bffe5d76e27dffb18482dd835a795ce
   "metadata": {},
   "outputs": [
    {
     "data": {
      "text/html": [
       "<div>\n",
       "<style scoped>\n",
       "    .dataframe tbody tr th:only-of-type {\n",
       "        vertical-align: middle;\n",
       "    }\n",
       "\n",
       "    .dataframe tbody tr th {\n",
       "        vertical-align: top;\n",
       "    }\n",
       "\n",
       "    .dataframe thead th {\n",
       "        text-align: right;\n",
       "    }\n",
       "</style>\n",
       "<table border=\"1\" class=\"dataframe\">\n",
       "  <thead>\n",
       "    <tr style=\"text-align: right;\">\n",
       "      <th></th>\n",
       "      <th>killed_by</th>\n",
       "      <th>killer_name</th>\n",
       "      <th>killer_placement</th>\n",
       "      <th>killer_position_x</th>\n",
       "      <th>killer_position_y</th>\n",
       "      <th>map</th>\n",
       "      <th>match_id</th>\n",
       "      <th>time</th>\n",
       "      <th>victim_name</th>\n",
       "      <th>victim_placement</th>\n",
       "      <th>victim_position_x</th>\n",
       "      <th>victim_position_y</th>\n",
       "    </tr>\n",
       "  </thead>\n",
       "  <tbody>\n",
       "    <tr>\n",
       "      <th>0</th>\n",
       "      <td>Grenade</td>\n",
       "      <td>KrazyPortuguese</td>\n",
       "      <td>5.0</td>\n",
       "      <td>657725.10</td>\n",
       "      <td>146275.2</td>\n",
       "      <td>MIRAMAR</td>\n",
       "      <td>2U4GBNA0YmnLSqvEycnTjo-KT000vfUnhSA2vfVhVPe1QB...</td>\n",
       "      <td>823</td>\n",
       "      <td>KrazyPortuguese</td>\n",
       "      <td>5.0</td>\n",
       "      <td>657725.10</td>\n",
       "      <td>146275.2</td>\n",
       "    </tr>\n",
       "    <tr>\n",
       "      <th>1</th>\n",
       "      <td>SCAR-L</td>\n",
       "      <td>nide2Bxiaojiejie</td>\n",
       "      <td>31.0</td>\n",
       "      <td>93091.37</td>\n",
       "      <td>722236.4</td>\n",
       "      <td>MIRAMAR</td>\n",
       "      <td>2U4GBNA0YmnLSqvEycnTjo-KT000vfUnhSA2vfVhVPe1QB...</td>\n",
       "      <td>194</td>\n",
       "      <td>X3evolution</td>\n",
       "      <td>33.0</td>\n",
       "      <td>92238.68</td>\n",
       "      <td>723375.1</td>\n",
       "    </tr>\n",
       "    <tr>\n",
       "      <th>2</th>\n",
       "      <td>S686</td>\n",
       "      <td>Ascholes</td>\n",
       "      <td>43.0</td>\n",
       "      <td>366921.40</td>\n",
       "      <td>421623.9</td>\n",
       "      <td>MIRAMAR</td>\n",
       "      <td>2U4GBNA0YmnLSqvEycnTjo-KT000vfUnhSA2vfVhVPe1QB...</td>\n",
       "      <td>103</td>\n",
       "      <td>CtrlZee</td>\n",
       "      <td>46.0</td>\n",
       "      <td>367304.50</td>\n",
       "      <td>421216.1</td>\n",
       "    </tr>\n",
       "    <tr>\n",
       "      <th>3</th>\n",
       "      <td>Down and Out</td>\n",
       "      <td>Weirdo7777</td>\n",
       "      <td>9.0</td>\n",
       "      <td>472014.20</td>\n",
       "      <td>313274.8</td>\n",
       "      <td>MIRAMAR</td>\n",
       "      <td>2U4GBNA0YmnLSqvEycnTjo-KT000vfUnhSA2vfVhVPe1QB...</td>\n",
       "      <td>1018</td>\n",
       "      <td>BlackDpre</td>\n",
       "      <td>13.0</td>\n",
       "      <td>476645.90</td>\n",
       "      <td>316758.4</td>\n",
       "    </tr>\n",
       "    <tr>\n",
       "      <th>4</th>\n",
       "      <td>M416</td>\n",
       "      <td>Solayuki1</td>\n",
       "      <td>9.0</td>\n",
       "      <td>473357.80</td>\n",
       "      <td>318340.5</td>\n",
       "      <td>MIRAMAR</td>\n",
       "      <td>2U4GBNA0YmnLSqvEycnTjo-KT000vfUnhSA2vfVhVPe1QB...</td>\n",
       "      <td>1018</td>\n",
       "      <td>Vjolt</td>\n",
       "      <td>13.0</td>\n",
       "      <td>473588.50</td>\n",
       "      <td>318418.8</td>\n",
       "    </tr>\n",
       "  </tbody>\n",
       "</table>\n",
       "</div>"
      ],
      "text/plain": [
       "      killed_by       killer_name  killer_placement  killer_position_x  \\\n",
       "0       Grenade   KrazyPortuguese               5.0          657725.10   \n",
       "1        SCAR-L  nide2Bxiaojiejie              31.0           93091.37   \n",
       "2          S686          Ascholes              43.0          366921.40   \n",
       "3  Down and Out        Weirdo7777               9.0          472014.20   \n",
       "4          M416         Solayuki1               9.0          473357.80   \n",
       "\n",
       "   killer_position_y      map  \\\n",
       "0           146275.2  MIRAMAR   \n",
       "1           722236.4  MIRAMAR   \n",
       "2           421623.9  MIRAMAR   \n",
       "3           313274.8  MIRAMAR   \n",
       "4           318340.5  MIRAMAR   \n",
       "\n",
       "                                            match_id  time      victim_name  \\\n",
       "0  2U4GBNA0YmnLSqvEycnTjo-KT000vfUnhSA2vfVhVPe1QB...   823  KrazyPortuguese   \n",
       "1  2U4GBNA0YmnLSqvEycnTjo-KT000vfUnhSA2vfVhVPe1QB...   194      X3evolution   \n",
       "2  2U4GBNA0YmnLSqvEycnTjo-KT000vfUnhSA2vfVhVPe1QB...   103          CtrlZee   \n",
       "3  2U4GBNA0YmnLSqvEycnTjo-KT000vfUnhSA2vfVhVPe1QB...  1018        BlackDpre   \n",
       "4  2U4GBNA0YmnLSqvEycnTjo-KT000vfUnhSA2vfVhVPe1QB...  1018            Vjolt   \n",
       "\n",
       "   victim_placement  victim_position_x  victim_position_y  \n",
       "0               5.0          657725.10           146275.2  \n",
       "1              33.0           92238.68           723375.1  \n",
       "2              46.0          367304.50           421216.1  \n",
       "3              13.0          476645.90           316758.4  \n",
       "4              13.0          473588.50           318418.8  "
      ]
     },
<<<<<<< HEAD
     "execution_count": 4,
     "metadata": {},
     "output_type": "execute_result"
=======
     "metadata": {},
     "output_type": "display_data"
>>>>>>> 0db475fa6bffe5d76e27dffb18482dd835a795ce
    }
   ],
   "source": [
    "df.head()"
   ]
  },
  {
   "cell_type": "code",
<<<<<<< HEAD
   "execution_count": 5,
=======
   "execution_count": null,
>>>>>>> 0db475fa6bffe5d76e27dffb18482dd835a795ce
   "metadata": {},
   "outputs": [],
   "source": [
    "df.drop(columns = ['killer_name', 'victim_name', 'killer_placement', 'victim_placement', 'match_id'], inplace = True)"
   ]
  },
  {
   "cell_type": "code",
<<<<<<< HEAD
   "execution_count": 6,
=======
   "execution_count": null,
>>>>>>> 0db475fa6bffe5d76e27dffb18482dd835a795ce
   "metadata": {},
   "outputs": [],
   "source": [
    "df = df[df['map'] == 'ERANGEL'].reset_index(drop = True)"
   ]
  },
  {
   "cell_type": "code",
<<<<<<< HEAD
   "execution_count": 7,
=======
   "execution_count": null,
>>>>>>> 0db475fa6bffe5d76e27dffb18482dd835a795ce
   "metadata": {},
   "outputs": [],
   "source": [
    "df.drop(columns = ['map'], inplace = True)"
   ]
  },
  {
   "cell_type": "code",
<<<<<<< HEAD
   "execution_count": 8,
=======
   "execution_count": null,
>>>>>>> 0db475fa6bffe5d76e27dffb18482dd835a795ce
   "metadata": {},
   "outputs": [],
   "source": [
    "df.rename(columns = {\n",
    "    'killer_position_x': 'kx', \n",
    "    'killer_position_y': 'ky',\n",
    "    'victim_position_x': 'vx',\n",
    "    'victim_position_y': 'vy'\n",
    "},inplace = True)"
   ]
  },
  {
   "cell_type": "code",
<<<<<<< HEAD
   "execution_count": 9,
=======
   "execution_count": null,
>>>>>>> 0db475fa6bffe5d76e27dffb18482dd835a795ce
   "metadata": {},
   "outputs": [
    {
     "data": {
      "text/html": [
       "<div>\n",
       "<style scoped>\n",
       "    .dataframe tbody tr th:only-of-type {\n",
       "        vertical-align: middle;\n",
       "    }\n",
       "\n",
       "    .dataframe tbody tr th {\n",
       "        vertical-align: top;\n",
       "    }\n",
       "\n",
       "    .dataframe thead th {\n",
       "        text-align: right;\n",
       "    }\n",
       "</style>\n",
       "<table border=\"1\" class=\"dataframe\">\n",
       "  <thead>\n",
       "    <tr style=\"text-align: right;\">\n",
       "      <th></th>\n",
       "      <th>killed_by</th>\n",
       "      <th>kx</th>\n",
       "      <th>ky</th>\n",
       "      <th>time</th>\n",
       "      <th>vx</th>\n",
       "      <th>vy</th>\n",
       "    </tr>\n",
       "  </thead>\n",
       "  <tbody>\n",
       "    <tr>\n",
       "      <th>0</th>\n",
       "      <td>Down and Out</td>\n",
       "      <td>496989.8</td>\n",
       "      <td>312569.7</td>\n",
       "      <td>1035</td>\n",
       "      <td>497385.4</td>\n",
       "      <td>331528.2</td>\n",
       "    </tr>\n",
       "    <tr>\n",
       "      <th>1</th>\n",
       "      <td>M16A4</td>\n",
       "      <td>496989.8</td>\n",
       "      <td>312569.7</td>\n",
       "      <td>1035</td>\n",
       "      <td>497819.4</td>\n",
       "      <td>331981.3</td>\n",
       "    </tr>\n",
       "    <tr>\n",
       "      <th>2</th>\n",
       "      <td>AKM</td>\n",
       "      <td>460416.7</td>\n",
       "      <td>414748.8</td>\n",
       "      <td>1422</td>\n",
       "      <td>459817.9</td>\n",
       "      <td>414426.3</td>\n",
       "    </tr>\n",
       "    <tr>\n",
       "      <th>3</th>\n",
       "      <td>AKM</td>\n",
       "      <td>488034.1</td>\n",
       "      <td>347220.3</td>\n",
       "      <td>1210</td>\n",
       "      <td>487444.2</td>\n",
       "      <td>347651.0</td>\n",
       "    </tr>\n",
       "    <tr>\n",
       "      <th>4</th>\n",
       "      <td>SKS</td>\n",
       "      <td>501062.9</td>\n",
       "      <td>425078.6</td>\n",
       "      <td>1818</td>\n",
       "      <td>493043.4</td>\n",
       "      <td>434458.1</td>\n",
       "    </tr>\n",
       "  </tbody>\n",
       "</table>\n",
       "</div>"
      ],
      "text/plain": [
       "      killed_by        kx        ky  time        vx        vy\n",
       "0  Down and Out  496989.8  312569.7  1035  497385.4  331528.2\n",
       "1         M16A4  496989.8  312569.7  1035  497819.4  331981.3\n",
       "2           AKM  460416.7  414748.8  1422  459817.9  414426.3\n",
       "3           AKM  488034.1  347220.3  1210  487444.2  347651.0\n",
       "4           SKS  501062.9  425078.6  1818  493043.4  434458.1"
      ]
     },
<<<<<<< HEAD
     "execution_count": 9,
     "metadata": {},
     "output_type": "execute_result"
=======
     "metadata": {},
     "output_type": "display_data"
>>>>>>> 0db475fa6bffe5d76e27dffb18482dd835a795ce
    }
   ],
   "source": [
    "df.head()"
   ]
  },
  {
   "cell_type": "markdown",
   "metadata": {},
   "source": [
    "<span style=\"color:red\">Câu lệnh bên dưới chỉ thực hiện một lần duy nhất trên máy một thành viên duy nhất. Sau khi thực hiện, tiến hành lưu trữ df thành file kill_match_stats_v1.csv, các thành viên khác chỉ cần load file này vào là được, không cần chạy lại câu lệnh `to_csv` để tránh mất thời gian<span>"
   ]
  },
  {
   "cell_type": "code",
<<<<<<< HEAD
   "execution_count": 10,
=======
   "execution_count": null,
>>>>>>> 0db475fa6bffe5d76e27dffb18482dd835a795ce
   "metadata": {},
   "outputs": [],
   "source": [
    "df.to_csv('data/kill_match_stats_v1.csv', index = False)"
   ]
  },
  {
   "cell_type": "markdown",
   "metadata": {},
   "source": [
<<<<<<< HEAD
    "Test Markdown"
=======
    "## 1.1. Data Cleaning"
   ]
  },
  {
   "cell_type": "code",
   "execution_count": 2,
   "metadata": {},
   "outputs": [
    {
     "data": {
      "text/html": [
       "<div>\n",
       "<style scoped>\n",
       "    .dataframe tbody tr th:only-of-type {\n",
       "        vertical-align: middle;\n",
       "    }\n",
       "\n",
       "    .dataframe tbody tr th {\n",
       "        vertical-align: top;\n",
       "    }\n",
       "\n",
       "    .dataframe thead th {\n",
       "        text-align: right;\n",
       "    }\n",
       "</style>\n",
       "<table border=\"1\" class=\"dataframe\">\n",
       "  <thead>\n",
       "    <tr style=\"text-align: right;\">\n",
       "      <th></th>\n",
       "      <th>killed_by</th>\n",
       "      <th>kx</th>\n",
       "      <th>ky</th>\n",
       "      <th>time</th>\n",
       "      <th>vx</th>\n",
       "      <th>vy</th>\n",
       "    </tr>\n",
       "  </thead>\n",
       "  <tbody>\n",
       "    <tr>\n",
       "      <th>0</th>\n",
       "      <td>Down and Out</td>\n",
       "      <td>496989.8</td>\n",
       "      <td>312569.7</td>\n",
       "      <td>1035</td>\n",
       "      <td>497385.4</td>\n",
       "      <td>331528.2</td>\n",
       "    </tr>\n",
       "    <tr>\n",
       "      <th>1</th>\n",
       "      <td>M16A4</td>\n",
       "      <td>496989.8</td>\n",
       "      <td>312569.7</td>\n",
       "      <td>1035</td>\n",
       "      <td>497819.4</td>\n",
       "      <td>331981.3</td>\n",
       "    </tr>\n",
       "    <tr>\n",
       "      <th>2</th>\n",
       "      <td>AKM</td>\n",
       "      <td>460416.7</td>\n",
       "      <td>414748.8</td>\n",
       "      <td>1422</td>\n",
       "      <td>459817.9</td>\n",
       "      <td>414426.3</td>\n",
       "    </tr>\n",
       "    <tr>\n",
       "      <th>3</th>\n",
       "      <td>AKM</td>\n",
       "      <td>488034.1</td>\n",
       "      <td>347220.3</td>\n",
       "      <td>1210</td>\n",
       "      <td>487444.2</td>\n",
       "      <td>347651.0</td>\n",
       "    </tr>\n",
       "    <tr>\n",
       "      <th>4</th>\n",
       "      <td>SKS</td>\n",
       "      <td>501062.9</td>\n",
       "      <td>425078.6</td>\n",
       "      <td>1818</td>\n",
       "      <td>493043.4</td>\n",
       "      <td>434458.1</td>\n",
       "    </tr>\n",
       "  </tbody>\n",
       "</table>\n",
       "</div>"
      ],
      "text/plain": [
       "      killed_by        kx        ky  time        vx        vy\n",
       "0  Down and Out  496989.8  312569.7  1035  497385.4  331528.2\n",
       "1         M16A4  496989.8  312569.7  1035  497819.4  331981.3\n",
       "2           AKM  460416.7  414748.8  1422  459817.9  414426.3\n",
       "3           AKM  488034.1  347220.3  1210  487444.2  347651.0\n",
       "4           SKS  501062.9  425078.6  1818  493043.4  434458.1"
      ]
     },
     "execution_count": 2,
     "metadata": {},
     "output_type": "execute_result"
    }
   ],
   "source": [
    "df = pd.read_csv('data/kill_match_stats_v1.csv')\n",
    "df.head()"
>>>>>>> 0db475fa6bffe5d76e27dffb18482dd835a795ce
   ]
  },
  {
   "cell_type": "markdown",
   "metadata": {},
<<<<<<< HEAD
   "source": []
=======
   "source": [
    "### 1.1.1. Missing values"
   ]
  },
  {
   "cell_type": "markdown",
   "metadata": {},
   "source": [
    "Kiểm tra missing value trên tất cả các cột"
   ]
  },
  {
   "cell_type": "code",
   "execution_count": 3,
   "metadata": {},
   "outputs": [
    {
     "data": {
      "text/plain": [
       "killed_by         0\n",
       "kx           741597\n",
       "ky           741597\n",
       "time              0\n",
       "vx                0\n",
       "vy                0\n",
       "dtype: int64"
      ]
     },
     "execution_count": 3,
     "metadata": {},
     "output_type": "execute_result"
    }
   ],
   "source": [
    "df.isnull().sum()"
   ]
  },
  {
   "cell_type": "code",
   "execution_count": 4,
   "metadata": {},
   "outputs": [
    {
     "name": "stdout",
     "output_type": "stream",
     "text": [
      "Số dòng của df: 10,865,476\n"
     ]
    }
   ],
   "source": [
    "print(f'Số dòng của df: {df.shape[0]:,}')"
   ]
  },
  {
   "cell_type": "markdown",
   "metadata": {},
   "source": [
    "Ở đây có khoảng hơn 700000 missing value ở 2 cột `kx` và `ky` so với khoảng 10,000,000 dòng dữ liệu chỉ chiếm 7%, ta có thể dễ dàng loại bỏ các dòng này. Tuy nhiên ta có thể quan sát các dòng này một chút"
   ]
  },
  {
   "cell_type": "code",
   "execution_count": 5,
   "metadata": {},
   "outputs": [
    {
     "data": {
      "text/plain": [
       "Bluezone                           468994\n",
       "Down and Out                       141913\n",
       "Falling                             61571\n",
       "Drown                               41150\n",
       "RedZone                             13683\n",
       "Uaz                                  4451\n",
       "Dacia                                3002\n",
       "Buggy                                2091\n",
       "Hit by Car                           1719\n",
       "Motorbike                             994\n",
       "Motorbike (SideCar)                   895\n",
       "Punch                                 514\n",
       "Grenade                               330\n",
       "death.Buff_FireDOT_C                  145\n",
       "death.RedZoneBomb_C                    90\n",
       "Boat                                   28\n",
       "death.ProjMolotov_DamageField_C        24\n",
       "SCAR-L                                  1\n",
       "Aquarail                                1\n",
       "S686                                    1\n",
       "Name: killed_by, dtype: int64"
      ]
     },
     "execution_count": 5,
     "metadata": {},
     "output_type": "execute_result"
    }
   ],
   "source": [
    "df[df['kx'].isnull()]['killed_by'].value_counts()"
   ]
  },
  {
   "cell_type": "markdown",
   "metadata": {},
   "source": [
    "Quan sát cột `killed_by` thấy nguyên nhân gây kill ở các dòng `kx` và `ky` trống ta thấy chủ yếu các nguyên nhân này thuộc vào loại Zone (các vùng gây sát thương), các loại xe, các loại vũ khí ném và các nguyên nhân tự thân (`'Falling': Ngã, Drown: Đuối nước`). Đối vơi các nguyên nhân này, không có killer, do đó không có tọa độ của killer. Ta có thể tạm gán tọa độ `kx` và `ky` của các dòng này bằng với tọa độ của victim `vx` và `vy`"
   ]
  },
  {
   "cell_type": "code",
   "execution_count": 6,
   "metadata": {},
   "outputs": [],
   "source": [
    "df.loc[df['kx'].isnull(), 'kx'] = df['vx']\n",
    "df.loc[df['ky'].isnull(), 'ky'] = df['vy']"
   ]
  },
  {
   "cell_type": "markdown",
   "metadata": {},
   "source": [
    "### 1.1.2. Duplicated values"
   ]
  },
  {
   "cell_type": "code",
   "execution_count": 7,
   "metadata": {},
   "outputs": [
    {
     "data": {
      "text/plain": [
       "257932"
      ]
     },
     "execution_count": 7,
     "metadata": {},
     "output_type": "execute_result"
    }
   ],
   "source": [
    "df.duplicated().sum()"
   ]
  },
  {
   "cell_type": "markdown",
   "metadata": {},
   "source": [
    "Dùng hàm `duplicated` để kiểm tra các dòng trùng nhau, ta thấy có 257932 dòng dữ liệu bị trùng. Tuy nhiên ta có thể quan sát kĩ hơn các dòng này "
   ]
  },
  {
   "cell_type": "code",
   "execution_count": 8,
   "metadata": {},
   "outputs": [],
   "source": [
    "data = df[df.duplicated()]"
   ]
  },
  {
   "cell_type": "code",
   "execution_count": 9,
   "metadata": {},
   "outputs": [
    {
     "data": {
      "text/plain": [
       "kx        ky        vx        vy      \n",
       "0.0       0.0       0.0       0.0         257127\n",
       "399045.9  300804.1  0.0       0.0              2\n",
       "482652.2  446492.6  0.0       0.0              2\n",
       "446353.9  629764.4  446300.3  629816.6         1\n",
       "444775.8  623105.9  444581.1  623158.9         1\n",
       "                                           ...  \n",
       "348630.2  312316.8  350118.1  318378.7         1\n",
       "349536.5  563234.7  349230.2  564633.3         1\n",
       "349832.6  565963.8  350066.0  566620.0         1\n",
       "349866.4  563824.9  354611.3  570966.2         1\n",
       "738463.6  434072.6  738463.6  434072.6         1\n",
       "Length: 804, dtype: int64"
      ]
     },
     "execution_count": 9,
     "metadata": {},
     "output_type": "execute_result"
    }
   ],
   "source": [
    "data[['kx', 'ky', 'vx', 'vy']].value_counts()"
   ]
  },
  {
   "cell_type": "markdown",
   "metadata": {},
   "source": [
    "Quan sát các giá trị khác nhau của các cột tọa độ, ta nhận thấy đa số các cột trùng nhau có tọa độ killer và victim nằm ở (0, 0), nghĩa là ở góc bản đồ, nơi không có địa hình (sẽ được minh họa kỹ hơn ở phần trực quan hóa dữ liệu). Đây có thể là lỗi trong quá trình game vận hành, số lượng các dòng bị lỗi cũng chỉ khoảng 2,5% dữ liệu, ta có thể đơn giản xóa đi các dòng này"
   ]
  },
  {
   "cell_type": "code",
   "execution_count": 10,
   "metadata": {},
   "outputs": [],
   "source": [
    "df.drop_duplicates(inplace = True, ignore_index = True)"
   ]
  },
  {
   "cell_type": "markdown",
   "metadata": {},
   "source": [
    "### 1.1.3. Outliers"
   ]
  },
  {
   "cell_type": "markdown",
   "metadata": {},
   "source": [
    "Hiện tại `df` có 1 cột categorical là `killed_by` và 5 cột còn lại là numerical. Đối với cột `categorical`, nhóm sử dụng hàm value_counts để xác định outliers, còn đối với các cột numerical, nhóm sử dụng boxplot, kết hợp với thông tin về bản đồ của game để xác định và xử lí các outliers"
   ]
  },
  {
   "cell_type": "code",
   "execution_count": 11,
   "metadata": {},
   "outputs": [
    {
     "name": "stdout",
     "output_type": "stream",
     "text": [
      "death.PlayerMale_A_C                     1\n",
      "Aquarail                                21\n",
      "death.RedZoneBomb_C                     90\n",
      "death.ProjMolotov_C                    251\n",
      "Boat                                  1742\n",
      "death.Buff_FireDOT_C                  2711\n",
      "Sickle                                4338\n",
      "Crowbar                               4704\n",
      "AUG                                   4830\n",
      "Machete                               5377\n",
      "death.ProjMolotov_DamageField_C       7086\n",
      "Buggy                                 7443\n",
      "Motorbike                             9451\n",
      "Motorbike (SideCar)                  11132\n",
      "P18C                                 13241\n",
      "Mk14                                 13324\n",
      "RedZone                              13587\n",
      "Pan                                  15167\n",
      "Crossbow                             18836\n",
      "Dacia                                19557\n",
      "Drown                                21371\n",
      "AWM                                  23648\n",
      "M249                                 25572\n",
      "VSS                                  27602\n",
      "M24                                  33278\n",
      "DP-28                                36182\n",
      "Groza                                36523\n",
      "R1895                                37774\n",
      "Uaz                                  44234\n",
      "Vector                               62714\n",
      "Hit by Car                          102089\n",
      "Falling                             122660\n",
      "P92                                 122875\n",
      "P1911                               127714\n",
      "Tommy Gun                           138545\n",
      "Grenade                             192149\n",
      "Micro UZI                           219980\n",
      "SKS                                 247166\n",
      "S12K                                248185\n",
      "S686                                274349\n",
      "Kar98k                              281661\n",
      "Punch                               295594\n",
      "Bluezone                            328621\n",
      "Mini 14                             347521\n",
      "S1897                               480390\n",
      "UMP9                                597775\n",
      "AKM                                 928991\n",
      "SCAR-L                              996017\n",
      "M16A4                              1020820\n",
      "M416                               1208150\n",
      "Down and Out                       1824505\n",
      "Name: killed_by, dtype: int64\n"
     ]
    }
   ],
   "source": [
    "print(df['killed_by'].value_counts().sort_values())"
   ]
  },
  {
   "cell_type": "markdown",
   "metadata": {},
   "source": [
    "Quan sát cột `killed_by`, ta thấy một vài outlier là `death.PlayerMale_A_C`, `death.RedZoneBomb_C`, `Aquarial`, `death.ProjMolotov`, `Boat`, `death.Buf_FireDOT_C`. Tuy là outliers nhưng các nguyên nhân gây kill này vẫn tồn tại trong game, do ít được sử dụng nên được ghi nhận ít. Nhóm có tra cứu thì nhận thấy ngoài `death.PlayerMale_A_C` và `death.Buff_FireDOT_C`, các nguyên nhân còn lại đều hợp lệ, chỉ bị sai tên, sẽ được sửa ở phần Data Quality bên dưới. Do dó ở cột `killed_by`, nhóm chỉ thực hiện xóa các dòng có `death.PlayerMale_A_C` và `death.Buff_FireDOT_C` của cột `killed_by`"
   ]
  },
  {
   "cell_type": "code",
   "execution_count": 12,
   "metadata": {},
   "outputs": [],
   "source": [
    "df = df[(df['killed_by'] != 'death.PlayerMale_A_C') & (df['killed_by'] != 'death.Buff_FireDOT_C') ]"
   ]
  },
  {
   "cell_type": "markdown",
   "metadata": {},
   "source": [
    "Đối với 5 cột numerical thì chỉ có cột `time` là khác ý nghĩa với 4 cột tọa độ còn lại, ta gom nhóm 4 cột tọa độ vào cùng một boxplot"
   ]
  },
  {
   "cell_type": "code",
   "execution_count": 13,
   "metadata": {},
   "outputs": [
    {
     "data": {
      "image/png": "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",
      "text/plain": [
       "<Figure size 640x480 with 1 Axes>"
      ]
     },
     "metadata": {},
     "output_type": "display_data"
    }
   ],
   "source": [
    "sns.boxplot(x = 'variable', y = 'value', data = pd.melt(df[['kx', 'ky', 'vx', 'vy']]));"
   ]
  },
  {
   "cell_type": "markdown",
   "metadata": {},
   "source": [
    "Quan sát các giá trị tọa độ, ta nhận ra đa số các giá trị đều nằm trong khoảng từ 0 tới 800,000. Đây cũng là khoảng dữ liệu hợp lệ đã được đề cập trong mô tả dữ liệu của tác giả. Các giá trị ngoại lai lớn hơn 0 và nhỏ hơn 800,000 cũng xuất hiện không nhiều, không gây ảnh hưởng tới việc phân tích dữ liệu về sau, nên ta có thể chấp nhận các giá trị này. Do đó ở đây nhóm chỉ loại bỏ các giá trị tọa độ lớn hơn 800,000 hoặc nhỏ hơn 0."
   ]
  },
  {
   "cell_type": "code",
   "execution_count": 14,
   "metadata": {},
   "outputs": [],
   "source": [
    "df = df[(df['kx'] <= 800000) & (df['kx'] >= 0) \n",
    "        & (df['ky'] <= 800000) & (df['ky'] >= 0)\n",
    "        & (df['vx'] <= 800000) & (df['vx'] >= 0)\n",
    "        & (df['vy'] <= 800000) & (df['vy'] >= 0)]"
   ]
  },
  {
   "cell_type": "code",
   "execution_count": 15,
   "metadata": {},
   "outputs": [
    {
     "data": {
      "image/png": "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",
      "text/plain": [
       "<Figure size 640x480 with 1 Axes>"
      ]
     },
     "metadata": {},
     "output_type": "display_data"
    }
   ],
   "source": [
    "sns.boxplot(x = df['time']);"
   ]
  },
  {
   "cell_type": "markdown",
   "metadata": {},
   "source": [
    "Cột `time` không có outlier do đó ta không cần phải xử lí"
   ]
>>>>>>> 0db475fa6bffe5d76e27dffb18482dd835a795ce
  }
 ],
 "metadata": {
  "kernelspec": {
<<<<<<< HEAD
   "display_name": "Python 3.10.5 64-bit (system)",
=======
   "display_name": "Python 3.9.13 ('base')",
>>>>>>> 0db475fa6bffe5d76e27dffb18482dd835a795ce
   "language": "python",
   "name": "python3"
  },
  "language_info": {
   "codemirror_mode": {
    "name": "ipython",
    "version": 3
   },
   "file_extension": ".py",
   "mimetype": "text/x-python",
   "name": "python",
   "nbconvert_exporter": "python",
   "pygments_lexer": "ipython3",
<<<<<<< HEAD
   "version": "3.10.5"
=======
   "version": "3.9.13"
>>>>>>> 0db475fa6bffe5d76e27dffb18482dd835a795ce
  },
  "orig_nbformat": 4,
  "vscode": {
   "interpreter": {
<<<<<<< HEAD
    "hash": "2a8dfe095fce2b5e88c64a2c3ee084c8e0e0d70b23e7b95b1cfb538be294c5c8"
=======
    "hash": "82a16149ad70c6fac57f1d082ee2c5fe23ab8419dd89c63caf35e09ebab08535"
>>>>>>> 0db475fa6bffe5d76e27dffb18482dd835a795ce
   }
  }
 },
 "nbformat": 4,
 "nbformat_minor": 2
}
