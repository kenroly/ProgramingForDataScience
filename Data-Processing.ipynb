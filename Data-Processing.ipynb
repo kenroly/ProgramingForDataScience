{
 "cells": [
  {
   "cell_type": "markdown",
   "metadata": {},
   "source": [
    "# 0. Import thư viện"
   ]
  },
  {
   "cell_type": "code",
   "execution_count": 2,
   "metadata": {},
   "outputs": [],
   "source": [
    "import pandas as pd\n",
    "import numpy as np\n",
    "import seaborn as sns\n",
    "import matplotlib.pyplot as plt\n",
    "\n",
    "sns.set_theme()"
   ]
  },
  {
   "cell_type": "markdown",
   "metadata": {},
   "source": [
    "# 1. Data Preprocessing\n",
    "## 1.0. Data Loading"
   ]
  },
  {
   "cell_type": "code",
   "execution_count": 3,
   "metadata": {},
   "outputs": [],
   "source": [
    "df = pd.read_csv('data/kill_match_stats.csv')"
   ]
  },
  {
   "cell_type": "code",
   "execution_count": 4,
   "metadata": {},
   "outputs": [
    {
     "data": {
      "text/html": [
       "<div>\n",
       "<style scoped>\n",
       "    .dataframe tbody tr th:only-of-type {\n",
       "        vertical-align: middle;\n",
       "    }\n",
       "\n",
       "    .dataframe tbody tr th {\n",
       "        vertical-align: top;\n",
       "    }\n",
       "\n",
       "    .dataframe thead th {\n",
       "        text-align: right;\n",
       "    }\n",
       "</style>\n",
       "<table border=\"1\" class=\"dataframe\">\n",
       "  <thead>\n",
       "    <tr style=\"text-align: right;\">\n",
       "      <th></th>\n",
       "      <th>killed_by</th>\n",
       "      <th>killer_name</th>\n",
       "      <th>killer_placement</th>\n",
       "      <th>killer_position_x</th>\n",
       "      <th>killer_position_y</th>\n",
       "      <th>map</th>\n",
       "      <th>match_id</th>\n",
       "      <th>time</th>\n",
       "      <th>victim_name</th>\n",
       "      <th>victim_placement</th>\n",
       "      <th>victim_position_x</th>\n",
       "      <th>victim_position_y</th>\n",
       "    </tr>\n",
       "  </thead>\n",
       "  <tbody>\n",
       "    <tr>\n",
       "      <th>0</th>\n",
       "      <td>Grenade</td>\n",
       "      <td>KrazyPortuguese</td>\n",
       "      <td>5.0</td>\n",
       "      <td>657725.10</td>\n",
       "      <td>146275.2</td>\n",
       "      <td>MIRAMAR</td>\n",
       "      <td>2U4GBNA0YmnLSqvEycnTjo-KT000vfUnhSA2vfVhVPe1QB...</td>\n",
       "      <td>823</td>\n",
       "      <td>KrazyPortuguese</td>\n",
       "      <td>5.0</td>\n",
       "      <td>657725.10</td>\n",
       "      <td>146275.2</td>\n",
       "    </tr>\n",
       "    <tr>\n",
       "      <th>1</th>\n",
       "      <td>SCAR-L</td>\n",
       "      <td>nide2Bxiaojiejie</td>\n",
       "      <td>31.0</td>\n",
       "      <td>93091.37</td>\n",
       "      <td>722236.4</td>\n",
       "      <td>MIRAMAR</td>\n",
       "      <td>2U4GBNA0YmnLSqvEycnTjo-KT000vfUnhSA2vfVhVPe1QB...</td>\n",
       "      <td>194</td>\n",
       "      <td>X3evolution</td>\n",
       "      <td>33.0</td>\n",
       "      <td>92238.68</td>\n",
       "      <td>723375.1</td>\n",
       "    </tr>\n",
       "    <tr>\n",
       "      <th>2</th>\n",
       "      <td>S686</td>\n",
       "      <td>Ascholes</td>\n",
       "      <td>43.0</td>\n",
       "      <td>366921.40</td>\n",
       "      <td>421623.9</td>\n",
       "      <td>MIRAMAR</td>\n",
       "      <td>2U4GBNA0YmnLSqvEycnTjo-KT000vfUnhSA2vfVhVPe1QB...</td>\n",
       "      <td>103</td>\n",
       "      <td>CtrlZee</td>\n",
       "      <td>46.0</td>\n",
       "      <td>367304.50</td>\n",
       "      <td>421216.1</td>\n",
       "    </tr>\n",
       "    <tr>\n",
       "      <th>3</th>\n",
       "      <td>Down and Out</td>\n",
       "      <td>Weirdo7777</td>\n",
       "      <td>9.0</td>\n",
       "      <td>472014.20</td>\n",
       "      <td>313274.8</td>\n",
       "      <td>MIRAMAR</td>\n",
       "      <td>2U4GBNA0YmnLSqvEycnTjo-KT000vfUnhSA2vfVhVPe1QB...</td>\n",
       "      <td>1018</td>\n",
       "      <td>BlackDpre</td>\n",
       "      <td>13.0</td>\n",
       "      <td>476645.90</td>\n",
       "      <td>316758.4</td>\n",
       "    </tr>\n",
       "    <tr>\n",
       "      <th>4</th>\n",
       "      <td>M416</td>\n",
       "      <td>Solayuki1</td>\n",
       "      <td>9.0</td>\n",
       "      <td>473357.80</td>\n",
       "      <td>318340.5</td>\n",
       "      <td>MIRAMAR</td>\n",
       "      <td>2U4GBNA0YmnLSqvEycnTjo-KT000vfUnhSA2vfVhVPe1QB...</td>\n",
       "      <td>1018</td>\n",
       "      <td>Vjolt</td>\n",
       "      <td>13.0</td>\n",
       "      <td>473588.50</td>\n",
       "      <td>318418.8</td>\n",
       "    </tr>\n",
       "  </tbody>\n",
       "</table>\n",
       "</div>"
      ],
      "text/plain": [
       "      killed_by       killer_name  killer_placement  killer_position_x  \\\n",
       "0       Grenade   KrazyPortuguese               5.0          657725.10   \n",
       "1        SCAR-L  nide2Bxiaojiejie              31.0           93091.37   \n",
       "2          S686          Ascholes              43.0          366921.40   \n",
       "3  Down and Out        Weirdo7777               9.0          472014.20   \n",
       "4          M416         Solayuki1               9.0          473357.80   \n",
       "\n",
       "   killer_position_y      map  \\\n",
       "0           146275.2  MIRAMAR   \n",
       "1           722236.4  MIRAMAR   \n",
       "2           421623.9  MIRAMAR   \n",
       "3           313274.8  MIRAMAR   \n",
       "4           318340.5  MIRAMAR   \n",
       "\n",
       "                                            match_id  time      victim_name  \\\n",
       "0  2U4GBNA0YmnLSqvEycnTjo-KT000vfUnhSA2vfVhVPe1QB...   823  KrazyPortuguese   \n",
       "1  2U4GBNA0YmnLSqvEycnTjo-KT000vfUnhSA2vfVhVPe1QB...   194      X3evolution   \n",
       "2  2U4GBNA0YmnLSqvEycnTjo-KT000vfUnhSA2vfVhVPe1QB...   103          CtrlZee   \n",
       "3  2U4GBNA0YmnLSqvEycnTjo-KT000vfUnhSA2vfVhVPe1QB...  1018        BlackDpre   \n",
       "4  2U4GBNA0YmnLSqvEycnTjo-KT000vfUnhSA2vfVhVPe1QB...  1018            Vjolt   \n",
       "\n",
       "   victim_placement  victim_position_x  victim_position_y  \n",
       "0               5.0          657725.10           146275.2  \n",
       "1              33.0           92238.68           723375.1  \n",
       "2              46.0          367304.50           421216.1  \n",
       "3              13.0          476645.90           316758.4  \n",
       "4              13.0          473588.50           318418.8  "
      ]
     },
     "execution_count": 4,
     "metadata": {},
     "output_type": "execute_result"
    }
   ],
   "source": [
    "df.head()"
   ]
  },
  {
   "cell_type": "code",
   "execution_count": 5,
   "metadata": {},
   "outputs": [],
   "source": [
    "df.drop(columns = ['killer_name', 'victim_name', 'killer_placement', 'victim_placement', 'match_id'], inplace = True)"
   ]
  },
  {
   "cell_type": "code",
   "execution_count": 6,
   "metadata": {},
   "outputs": [],
   "source": [
    "df = df[df['map'] == 'ERANGEL'].reset_index(drop = True)"
   ]
  },
  {
   "cell_type": "code",
   "execution_count": 7,
   "metadata": {},
   "outputs": [],
   "source": [
    "df.drop(columns = ['map'], inplace = True)"
   ]
  },
  {
   "cell_type": "code",
   "execution_count": 8,
   "metadata": {},
   "outputs": [],
   "source": [
    "df.rename(columns = {\n",
    "    'killer_position_x': 'kx', \n",
    "    'killer_position_y': 'ky',\n",
    "    'victim_position_x': 'vx',\n",
    "    'victim_position_y': 'vy'\n",
    "},inplace = True)"
   ]
  },
  {
   "cell_type": "code",
   "execution_count": 9,
   "metadata": {},
   "outputs": [
    {
     "data": {
      "text/html": [
       "<div>\n",
       "<style scoped>\n",
       "    .dataframe tbody tr th:only-of-type {\n",
       "        vertical-align: middle;\n",
       "    }\n",
       "\n",
       "    .dataframe tbody tr th {\n",
       "        vertical-align: top;\n",
       "    }\n",
       "\n",
       "    .dataframe thead th {\n",
       "        text-align: right;\n",
       "    }\n",
       "</style>\n",
       "<table border=\"1\" class=\"dataframe\">\n",
       "  <thead>\n",
       "    <tr style=\"text-align: right;\">\n",
       "      <th></th>\n",
       "      <th>killed_by</th>\n",
       "      <th>kx</th>\n",
       "      <th>ky</th>\n",
       "      <th>time</th>\n",
       "      <th>vx</th>\n",
       "      <th>vy</th>\n",
       "    </tr>\n",
       "  </thead>\n",
       "  <tbody>\n",
       "    <tr>\n",
       "      <th>0</th>\n",
       "      <td>Down and Out</td>\n",
       "      <td>496989.8</td>\n",
       "      <td>312569.7</td>\n",
       "      <td>1035</td>\n",
       "      <td>497385.4</td>\n",
       "      <td>331528.2</td>\n",
       "    </tr>\n",
       "    <tr>\n",
       "      <th>1</th>\n",
       "      <td>M16A4</td>\n",
       "      <td>496989.8</td>\n",
       "      <td>312569.7</td>\n",
       "      <td>1035</td>\n",
       "      <td>497819.4</td>\n",
       "      <td>331981.3</td>\n",
       "    </tr>\n",
       "    <tr>\n",
       "      <th>2</th>\n",
       "      <td>AKM</td>\n",
       "      <td>460416.7</td>\n",
       "      <td>414748.8</td>\n",
       "      <td>1422</td>\n",
       "      <td>459817.9</td>\n",
       "      <td>414426.3</td>\n",
       "    </tr>\n",
       "    <tr>\n",
       "      <th>3</th>\n",
       "      <td>AKM</td>\n",
       "      <td>488034.1</td>\n",
       "      <td>347220.3</td>\n",
       "      <td>1210</td>\n",
       "      <td>487444.2</td>\n",
       "      <td>347651.0</td>\n",
       "    </tr>\n",
       "    <tr>\n",
       "      <th>4</th>\n",
       "      <td>SKS</td>\n",
       "      <td>501062.9</td>\n",
       "      <td>425078.6</td>\n",
       "      <td>1818</td>\n",
       "      <td>493043.4</td>\n",
       "      <td>434458.1</td>\n",
       "    </tr>\n",
       "  </tbody>\n",
       "</table>\n",
       "</div>"
      ],
      "text/plain": [
       "      killed_by        kx        ky  time        vx        vy\n",
       "0  Down and Out  496989.8  312569.7  1035  497385.4  331528.2\n",
       "1         M16A4  496989.8  312569.7  1035  497819.4  331981.3\n",
       "2           AKM  460416.7  414748.8  1422  459817.9  414426.3\n",
       "3           AKM  488034.1  347220.3  1210  487444.2  347651.0\n",
       "4           SKS  501062.9  425078.6  1818  493043.4  434458.1"
      ]
     },
     "execution_count": 9,
     "metadata": {},
     "output_type": "execute_result"
    }
   ],
   "source": [
    "df.head()"
   ]
  },
  {
   "cell_type": "markdown",
   "metadata": {},
   "source": [
    "<span style=\"color:red\">Câu lệnh bên dưới chỉ thực hiện một lần duy nhất trên máy một thành viên duy nhất. Sau khi thực hiện, tiến hành lưu trữ df thành file kill_match_stats_v1.csv, các thành viên khác chỉ cần load file này vào là được, không cần chạy lại câu lệnh `to_csv` để tránh mất thời gian<span>"
   ]
  },
  {
   "cell_type": "code",
   "execution_count": 10,
   "metadata": {},
   "outputs": [],
   "source": [
    "df.to_csv('data/kill_match_stats_v1.csv', index = False)"
   ]
  },
  {
   "cell_type": "markdown",
   "metadata": {},
   "source": [
    "Test Markdown"
   ]
  },
  {
   "cell_type": "markdown",
   "metadata": {},
   "source": []
  }
 ],
 "metadata": {
  "kernelspec": {
   "display_name": "Python 3.10.5 64-bit (system)",
   "language": "python",
   "name": "python3"
  },
  "language_info": {
   "codemirror_mode": {
    "name": "ipython",
    "version": 3
   },
   "file_extension": ".py",
   "mimetype": "text/x-python",
   "name": "python",
   "nbconvert_exporter": "python",
   "pygments_lexer": "ipython3",
   "version": "3.10.5"
  },
  "orig_nbformat": 4,
  "vscode": {
   "interpreter": {
    "hash": "2a8dfe095fce2b5e88c64a2c3ee084c8e0e0d70b23e7b95b1cfb538be294c5c8"
   }
  }
 },
 "nbformat": 4,
 "nbformat_minor": 2
}
