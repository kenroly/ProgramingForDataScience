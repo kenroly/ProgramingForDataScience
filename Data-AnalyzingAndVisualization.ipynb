{
  "cells": [
    {
      "cell_type": "markdown",
      "metadata": {},
      "source": [
        "# 0. Import Library"
      ]
    },
    {
      "cell_type": "code",
      "execution_count": null,
      "metadata": {
        "execution": {
          "iopub.execute_input": "2022-11-27T10:33:44.216142Z",
          "iopub.status.busy": "2022-11-27T10:33:44.213150Z",
          "iopub.status.idle": "2022-11-27T10:33:47.528881Z",
          "shell.execute_reply": "2022-11-27T10:33:47.526885Z",
          "shell.execute_reply.started": "2022-11-27T10:33:44.215144Z"
        },
        "tags": []
      },
      "outputs": [],
      "source": [
        "import pandas as pd\n",
        "import numpy as np\n",
        "import seaborn as sns\n",
        "import matplotlib.pyplot as plt\n",
        "import time\n",
        "\n",
        "sns.set_theme()"
      ]
    },
    {
      "cell_type": "code",
      "execution_count": null,
      "metadata": {},
      "outputs": [],
      "source": [
        "df = pd.read_csv('data/kill_match_stats_v2.csv')\n",
        "df.head()"
      ]
    },
    {
      "attachments": {},
      "cell_type": "markdown",
      "metadata": {},
      "source": [
        "# 3. Data Analyzing and Visualization\n",
        "Ở phần này, nhóm sẽ thực hiện đặt một số câu hỏi có ý nghĩa và tìm câu trả lời từ dữ liệu\n",
        "\n",
        "## 3.1. Câu hỏi 1\n",
        "**Câu hỏi:** <span style = \"color:red\">Loại vũ khí nào hiệu quả nhất?</span>\n",
        "\n",
        "**Ý nghĩa:** Khi tìm được loại vũ khí hiệu quả nhất, các player sẽ có sự lựa chọn loại vũ khí hợp lí cho chiến thuật của mình (vì mỗi player chỉ được trang bị 2 vũ khí chính, 1 `Handgun`, 1 `Melee` và 1 vũ khí ném (`Throwable`)), đặc biệt là với những player mới chơi, đang làm quen với game. Ở phần này nhóm chỉ phân tích độ hiệu quả của các loại vũ khí chính (trừ `Handgun`, `Melee`, `Throwable`, `Zone`, `Self`, `Vehicle`)\n",
        "\n",
        "**Phân tích**: Để trả lời cho câu hỏi này, ta cần một thang đo độ hiệu quả. Khoảng cách và số lượng kill là 2 tiêu chí quan trọng để đánh giá độ hiệu quả của vũ khí. \n",
        "- Khoảng cách kill ngoài phụ thuộc vào vũ khí còn phụ thuộc vào trình độ của player cũng như vài yếu tố máy mắn khác, do đó ta sẽ sử dụng khoảng cách trung bình để đánh giá\n",
        "- Số lượng kill ngoài cho biết loại vũ khí đó gây kill nhiều hay ít còn cho biết loại vũ khí nào được sử dụng nhiều hơn (nên gây kill nhiều hơn, vì nếu không gây kill hiệu quả thì các player sẽ đổi sang loại vũ khí hiệu quả hơn)\n",
        "- Ngoài ra còn một số yếu tố khác như sát thương, độ giật. Tuy nhiên với dữ liệu nhóm đang có hiện tại, ta sẽ tạm phân tích dựa trên khoảng cách và số lượng kill\n",
        "\n",
        "Vì vậy nhóm sẽ sử dụng heatmap để trực quan hóa độ hiệu quả của vũ khí như sau:\n",
        "- Các dòng là các khoảng cách khác nhau:\n",
        "    - 0m - 50m\n",
        "    - 50m - 100m\n",
        "    - 100 - 300m\n",
        "    - 300 - 500m\n",
        "    - Trên 500m\n",
        "- Các cột là các loại vũ khí\n",
        "- Mỗi cell giao của dòng với cột là số lượng kill của loại vũ khí ở khoảng cách tương ứng\n",
        "\n"
      ]
    },
    {
      "cell_type": "code",
      "execution_count": null,
      "metadata": {},
      "outputs": [],
      "source": [
        "img = plt.imread('asset/map/ERANGEL.png')\n",
        "cut_labels = ['0 - 50', '50 - 100', '100 - 300', '300 - 500', '> 500']\n",
        "cut_bins = [0, 50, 100, 300, 500, 1000]\n",
        "df['dis_bin'] = pd.cut(df['dis'], bins = cut_bins, labels = cut_labels)"
      ]
    },
    {
      "cell_type": "code",
      "execution_count": null,
      "metadata": {},
      "outputs": [],
      "source": [
        "fig = plt.figure(figsize=(10, 4))\n",
        "\n",
        "filter = ~df['type'].isin(['Zone', 'Self', 'Vehicle', 'Melee', 'Handgun', 'Throwable'])\n",
        "data = df[filter][['type', 'dis_bin', 'killed_by']].groupby(['type', 'dis_bin']).count().reset_index()\n",
        "data = pd.pivot(data, index = 'dis_bin', columns = 'type', values = 'killed_by')\n",
        "ax = sns.heatmap(np.log10(data + 1), cmap = 'Reds_r', linewidths = 1)\n",
        "\n",
        "ax.set_aspect('equal')\n",
        "ax.set_ylabel('Distance (m)')\n",
        "ax.set_xlabel('');"
      ]
    },
    {
      "cell_type": "markdown",
      "metadata": {},
      "source": [
        "Trong heatmap trên, những cell càng sáng nghĩa là loại vũ khí đó càng gây được nhiều kill ở khoảng cách tương ứng\n",
        "-\tĐối với khoảng cách rất ngắn dưới 50m thì AR, SMG và Shotgun là các loại vũ khi hiệu quả\n",
        "-\tKhi khoảng cách tăng dần lên thì SMG và Shotgun dần mất lợi thế, lên đến mức 100 – 300m thì số lượng kill của SR và DMR đã vượt hẳn lên, đến mức trên 500m thì SR và DMR thống trị bảng kill\n",
        "-\tLMG dường như không lọt top hiệu quả nhất ở bất kì khoảng cách nào, chỉ nên lựa chọn khi không còn sự lựa chọn khác\n"
      ]
    },
    {
      "attachments": {},
      "cell_type": "markdown",
      "metadata": {},
      "source": [
        "## 3.2. Câu hỏi 2\n",
        "**Câu hỏi:** <span style = \"color:red\">Những vị trí nào giao tranh nhiều ở khoảng đầu trận?</span>\n",
        "\n",
        "**Ý nghĩa:** Trên bản đồ sẽ có những khu vực giao tranh nhộn nhịp hơn những khu vực khác, biết được các khu vực này giúp player chọn nơi nhảy dù, trú ẩn phù hợp với lối chơi của mình\n",
        "- Ví dụ player thích thử thách, nâng cao kỹ năng, có thể chọn các khu vực đông đúng, giao tranh xảy ra liên tục\n",
        "- Nếu người chơi chọn lối chơi sinh tồn có thể chọn các khu vực yên ắng, ít người\n",
        "\n",
        "**Phân tích:** Câu hỏi này có thể trả lời dễ dàng bằng phân bố tọa độ 2 chiều đã làm ở `Data Understanding`"
      ]
    },
    {
      "cell_type": "code",
      "execution_count": null,
      "metadata": {},
      "outputs": [],
      "source": [
        "fig, axes = plt.subplots(ncols = 2, figsize = (18, 8), gridspec_kw={'width_ratios': [8, 10]})\n",
        "fig.subplots_adjust(wspace = 0.1)\n",
        "img = plt.imread('asset/map/ERANGEL.png')\n",
        "\n",
        "number_of_bin = 1600\n",
        "\n",
        "axes[0].imshow(img[::-1, :, 0], extent = [0, 1640, 0, 1640], alpha = 0.35, zorder = 3, cmap = 'gray')\n",
        "axes[1].imshow(img[::-1, :, 0], extent = [0, 1640, 0, 1640], alpha = 0.35, zorder = 3, cmap = 'gray')\n",
        "\n",
        "sns.heatmap(\n",
        "    np.log10(plt.hist2d(df['ky'], df['kx'], bins = number_of_bin, range = [[0, 8000], [0, 8000]])[0] + 1),\n",
        "    cbar = False, cmap = 'nipy_spectral', ax = axes[0], vmin = 0, vmax = 4)\n",
        "\n",
        "axes[0].set_xticklabels([])\n",
        "axes[0].set_yticklabels([])\n",
        "axes[0].set_title('Killer position')\n",
        "\n",
        "sns.heatmap(\n",
        "    np.log10(plt.hist2d(df['vy'], df['vx'], bins = number_of_bin, range = [[0, 8000], [0, 8000]])[0] + 1), \n",
        "    cmap = 'nipy_spectral', ax = axes[1], vmin = 0, vmax = 4)\n",
        "\n",
        "axes[1].set_xticklabels([])\n",
        "axes[1].set_yticklabels([])\n",
        "axes[1].set_title('Victim position')"
      ]
    },
    {
      "attachments": {},
      "cell_type": "markdown",
      "metadata": {},
      "source": [
        "Ta có thể các kiến trúc, các khu vực thành phố là những khu vực giao tranh gay gắt giai đoạn đầu trận\n",
        "\n",
        "|   |   |   |   |\n",
        "|---|---|---|---|\n",
        "|__Pochinki__|__Rozhok & School__ | __Military Base__ | __Novorepnoy__ |\n",
        "|<img src=\"visualization break/heatmap_1.png\" style=\"height: 200px; width:200px;\"/>|<img src=\"visualization break/heatmap_2.png\" style=\"height: 200px; width:200px;\"/>|<img src=\"visualization break/heatmap_3.png\" style=\"height: 200px; width:200px;\"/>|<img src=\"visualization break/heatmap_4.png\" style=\"height: 200px; width:200px;\"/>|\n",
        "|__Georgopol__|__Prison & Shelter__| __Yasnaya Polyana__| __Mylta__ |\n",
        "|<img src=\"visualization break/heatmap_5.png\" style=\"height: 200px; width:200px;\"/>|<img src=\"visualization break/heatmap_6.png\" style=\"height: 200px; width:200px;\"/>|<img src=\"visualization break/heatmap_7.png\" style=\"height: 200px; width:200px;\"/>|<img src=\"visualization break/heatmap_8.png\" style=\"height: 200px; width:200px;\"/>|\n",
        "|__Serveny__|__Lipoka__|__Primosk__|__Mylta Power__|\n",
        "|<img src=\"visualization break/heatmap_9.png\" style=\"height: 200px; width:200px;\"/>|<img src=\"visualization break/heatmap_10.png\" style=\"height: 200px; width:200px;\"/>|<img src=\"visualization break/heatmap_11.png\" style=\"height: 200px; width:200px;\"/>|<img src=\"visualization break/heatmap_12.png\" style=\"height: 200px; width:200px;\"/>|"
      ]
    },
    {
      "attachments": {},
      "cell_type": "markdown",
      "metadata": {},
      "source": [
        "## 3.3. Câu hỏi 3\n",
        "**Câu hỏi:** <span style = \"color:red\">Những vị trí nào thuận lợi để  gây kill từ xa?</span>\n",
        "\n",
        "**Ý nghĩa:** Trong đa số giai đoạn của trận đấu thì khả năng gây kill từ xa sẽ mang lại lợi thế rất lớn cho các player. SR và DMR là các vũ khí ưa chuộng dùng để gây kill từ xa. Biết được những vị trí thuận lợi để gây kill từ xa sẽ giúp các player có thêm những sự lựa chọn trong chiến lược của mình\n",
        "\n",
        "**Phân tích:** Ta có thể làm tương tự cách biễu diễn heatmap số lượng kill"
      ]
    },
    {
      "cell_type": "code",
      "execution_count": null,
      "metadata": {},
      "outputs": [],
      "source": [
        "plt.figure(figsize=(10, 8))\n",
        "\n",
        "number_of_bin = 1600\n",
        "scale = 1640 * number_of_bin / 1600\n",
        "plt.imshow(img[::-1, :, 0], extent = [0, scale, 0, scale], alpha = 0.35, zorder = 3, cmap = 'gray')\n",
        "\n",
        "data = df[df['dis'] >= 400]\n",
        "\n",
        "ax = sns.heatmap(\n",
        "    np.log10(plt.hist2d(data['ky'], data['kx'], bins = number_of_bin, range = [[0, 8000], [0, 8000]])[0] + 1), cmap = 'nipy_spectral')\n",
        "ax.set_aspect('equal')\n",
        "ax.set_xticklabels([])\n",
        "ax.set_yticklabels([]);\n",
        "\n",
        "plt.savefig('distance_heatmap.png', dpi = 1200, bbox_inches = 'tight')"
      ]
    },
    {
      "cell_type": "markdown",
      "metadata": {},
      "source": [
        "Quan sát bản đồ trên, ta có thể nhận thấy một số khu vực gây nhiều kill từ khoảng cách xa:\n",
        "\n",
        "|   |   |   |   |   |\n",
        "|---|---|---|---|---|\n",
        "|Đồi gần `Pochinki`|Đồi và chung cư xung quanh `School` và `Rozhok`|Núi xương cá gần cảng `Georgopol`|Nhà trên vách gần `Mansion`|Núi cao giữa `Militari Base` và cảng `Novorepnoye`|\n",
        "|<img src=\"visualization break/distance_heatmap_1.png\" style=\"height: 200px; width:200px;\"/>|<img src=\"visualization break/distance_heatmap_2.png\" style=\"height: 200px; width:200px;\"/>|<img src=\"visualization break/distance_heatmap_3.png\" style=\"height: 200px; width:200px;\"/>|<img src=\"visualization break/distance_heatmap_4.png\" style=\"height: 200px; width:200px;\"/>|<img src=\"visualization break/distance_heatmap_5.png\" style=\"height: 200px; width:200px;\"/>|\n"
      ]
    },
    {
      "cell_type": "markdown",
      "metadata": {},
      "source": [
        "## 3.4. Câu hỏi 4\n",
        "**Câu hỏi:** <span style = \"color:red\">Những vị trí gây kill thuận lợi gây kill từ xa có thực sự an toàn?</span>\n",
        "\n",
        "**Ý nghĩa:** Tuy việc biết được các vị trí thuận lợi gây kill từ xa sẽ mang lại lợi thế nhưng các player cũng cần biết tình hình giao tranh tại các khu vực này?\n",
        "\n",
        "**Phân tích:** Ta có thể biết được phần nào tình hình giao tranh dựa trên phân bố tọa độ của victim 2 chiều như đã làm ở phần trước. Bên cạnh đó ta cũng có thể nhìn sâu hơn, đây là các khu vực thuận lợi gây kill từ xa nên cũng có thể bị gây kill từ xa"
      ]
    },
    {
      "cell_type": "markdown",
      "metadata": {},
      "source": [
        "## 3.4. Câu hỏi 4"
      ]
    },
    {
      "cell_type": "code",
      "execution_count": null,
      "metadata": {},
      "outputs": [],
      "source": [
        "img = plt.imread('asset/map/ERANGEL.jpg')"
      ]
    },
    {
      "cell_type": "code",
      "execution_count": null,
      "metadata": {},
      "outputs": [],
      "source": [
        "plt.figure(figsize=(10, 8))\n",
        "\n",
        "number_of_bin = 1600\n",
        "scale = 1640 * number_of_bin / 1600\n",
        "plt.imshow(img[::-1, :, 0], extent = [0, scale, 0, scale], alpha = 0.35, zorder = 3, cmap = 'gray')\n",
        "\n",
        "data = df\n",
        "\n",
        "ax = sns.heatmap(\n",
        "    np.log10(plt.hist2d(data['vy'], data['vx'], bins = number_of_bin, range = [[0, 8000], [0, 8000]])[0] + 1), cmap = 'nipy_spectral')\n",
        "ax.set_aspect('equal')\n",
        "ax.set_xticklabels([])\n",
        "ax.set_yticklabels([]);"
      ]
    },
    {
      "cell_type": "code",
      "execution_count": null,
      "metadata": {},
      "outputs": [],
      "source": [
        "area_coords = {\n",
        "    'Bridge1': [[3250, 3650], [5300, 5800]],\n",
        "    'Bridge2': [[5400, 5600], [5300, 5800]],\n",
        "    'FishBoneMt': [[2000, 2600], [3100, 3500]],\n",
        "    'RozhokHill': [[3800, 4200], [3050, 3250]],\n",
        "    'PochinkiHill': [[3200, 3600], [4300, 4540]],\n",
        "    'MansionHill': [[5900, 5980], [2940, 3020]],\n",
        "    'Apartment': [[4350, 4500], [3250, 3400]]\n",
        "}"
      ]
    },
    {
      "cell_type": "code",
      "execution_count": null,
      "metadata": {},
      "outputs": [],
      "source": [
        "filter = (df['dis'] >= 400) & (\n",
        "          ((df['vx'] >= area_coords['Bridge1'][0][0]) & \n",
        "           (df['vx'] <= area_coords['Bridge1'][0][1]) & \n",
        "           (df['vy'] >= area_coords['Bridge1'][1][0]) & \n",
        "           (df['vy'] <= area_coords['Bridge1'][1][1])) |\n",
        "          ((df['vx'] >= area_coords['Bridge2'][0][0]) & \n",
        "           (df['vx'] <= area_coords['Bridge2'][0][1]) & \n",
        "           (df['vy'] >= area_coords['Bridge2'][1][0]) & \n",
        "           (df['vy'] <= area_coords['Bridge2'][1][1])) |\n",
        "          ((df['vx'] >= area_coords['FishBoneMt'][0][0]) & \n",
        "           (df['vx'] <= area_coords['FishBoneMt'][0][1]) & \n",
        "           (df['vy'] >= area_coords['FishBoneMt'][1][0]) & \n",
        "           (df['vy'] <= area_coords['FishBoneMt'][1][1])) |\n",
        "          ((df['vx'] >= area_coords['RozhokHill'][0][0]) & \n",
        "           (df['vx'] <= area_coords['RozhokHill'][0][1]) & \n",
        "           (df['vy'] >= area_coords['RozhokHill'][1][0]) & \n",
        "           (df['vy'] <= area_coords['RozhokHill'][1][1])) |\n",
        "          ((df['vx'] >= area_coords['PochinkiHill'][0][0]) & \n",
        "           (df['vx'] <= area_coords['PochinkiHill'][0][1]) & \n",
        "           (df['vy'] >= area_coords['PochinkiHill'][1][0]) & \n",
        "           (df['vy'] <= area_coords['PochinkiHill'][1][1])) |\n",
        "          ((df['vx'] >= area_coords['MansionHill'][0][0]) & \n",
        "           (df['vx'] <= area_coords['MansionHill'][0][1]) & \n",
        "           (df['vy'] >= area_coords['MansionHill'][1][0]) & \n",
        "           (df['vy'] <= area_coords['MansionHill'][1][1])) |\n",
        "          ((df['vx'] >= area_coords['Apartment'][0][0]) & \n",
        "           (df['vx'] <= area_coords['Apartment'][0][1]) & \n",
        "           (df['vy'] >= area_coords['Apartment'][1][0]) & \n",
        "           (df['vy'] <= area_coords['Apartment'][1][1])) \n",
        "        )\n",
        "\n",
        "data = df[filter][['kx', 'ky', 'vx', 'vy']] * 0.975"
      ]
    },
    {
      "cell_type": "code",
      "execution_count": null,
      "metadata": {},
      "outputs": [],
      "source": [
        "%matplotlib inline\n",
        "\n",
        "start_time = time.time()\n",
        "\n",
        "img = plt.imread('asset/map/ERANGEL.jpg')\n",
        "plt.figure(figsize=(10, 10))\n",
        "\n",
        "plt.imshow(img, extent = [0, 8000, 0, 8000], origin = 'lower')\n",
        "ax = sns.scatterplot(x = data['kx'], y = data['ky'], alpha = 1, s = 2, edgecolor = None, color = 'r')\n",
        "ax = sns.scatterplot(x = data['vx'], y = data['vy'], alpha = 1, s = 2, edgecolor = None, color = 'cyan')\n",
        "\n",
        "for row in data.iterrows():\n",
        "    ax.plot([row[1]['kx'], row[1]['vx']], [row[1]['ky'], row[1]['vy']], color = 'C1', alpha = 0.25, linewidth = 0.4)\n",
        "\n",
        "ax.set_xlabel('')\n",
        "ax.set_ylabel('')\n",
        "ax.invert_yaxis()\n",
        "ax.grid(False)\n",
        "\n",
        "plt.savefig('temp.png', dpi = 300, bbox_inches = 'tight')"
      ]
    },
    {
      "cell_type": "markdown",
      "metadata": {},
      "source": [
        "## 3.5. Câu hỏi 5\n",
        "**Câu hỏi:** Thời điểm thích hợp để qua cầu?\n",
        "\n",
        "**Ý nghĩa:** Bản đồ gồm 2 đảo lớn và nhỏ, được nối bởi 2 cầu lớn. Trong trận đấu, các player thường phải đi qua cầu để sang đảo kia (để tìm kiếm trang bị, do vòng bluezone thu nhỏ). Tuy nhiên như đã trực quan hóa ở các phần trước, 2 khu vực cầu này là nơi tử trận của rất nhiều player, do đó ta cần cân nhắc thời điểm qua cầu phù hợp. Hoặc ngược lại, các player có thể chọn lối chơi `camp cầu`, thay vì đi qua cầu, các player sẽ dừng ở 2 đầu cầu để canh các player khác đi qua và bắn.\n",
        "\n",
        "**Phân tích:** Ta có thể quan sát video đã encode ở cuối phần `Data Understanding` để trả lời cho câu hỏi này\n",
        "\n",
        "<video width=\"640\" height=\"480\" controls>\n",
        "  <source src=\"res.mp4\" type=\"video/mp4\">\n",
        "</video>\n",
        "\n",
        "Quan sát video trên, ta nhận thấy khoảng thời gian thuận lợi nhất để qua cầu là khoảng trước 800s, nghĩa là ở phase 1 và đầu phase 2. Tuy nhiên ở giai đoạn này vòng bluezone chưa thực sự thu về đảo lớn hay đảo nhỏ, do đó bên cạnh việc sử dụng dữ liệu để quyết định thời gian qua cầu, các player cần phải quyết đoán đưa ra phán đoán có nên qua cầu hay không. Ngược lại nếu các player muốn camp cầu có thể bắt đầu canh từ đầu phase 2 đến cuối phase 5 tùy vào tình hình vòng bluezone vì đây là khoảng thời gian nhiều player qua cầu nhiều (để né bluezone) và tử trận tại đây"
      ]
    },
    {
      "cell_type": "markdown",
      "metadata": {},
      "source": []
    }
  ],
  "metadata": {
    "kernelspec": {
      "display_name": "Python 3.10.6 64-bit",
      "language": "python",
      "name": "python3"
    },
    "language_info": {
      "codemirror_mode": {
        "name": "ipython",
        "version": 3
      },
      "file_extension": ".py",
      "mimetype": "text/x-python",
      "name": "python",
      "nbconvert_exporter": "python",
      "pygments_lexer": "ipython3",
      "version": "3.10.6"
    },
    "orig_nbformat": 4,
    "vscode": {
      "interpreter": {
        "hash": "916dbcbb3f70747c44a77c7bcd40155683ae19c65e1c03b4aa3499c5328201f1"
      }
    }
  },
  "nbformat": 4,
  "nbformat_minor": 2
}
