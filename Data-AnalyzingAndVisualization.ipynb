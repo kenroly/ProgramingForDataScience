{
 "cells": [
  {
   "cell_type": "markdown",
   "metadata": {},
   "source": [
    "# 0. Import Library"
   ]
  },
  {
   "cell_type": "code",
   "execution_count": null,
   "metadata": {
    "execution": {
     "iopub.execute_input": "2022-11-27T10:33:44.216142Z",
     "iopub.status.busy": "2022-11-27T10:33:44.213150Z",
     "iopub.status.idle": "2022-11-27T10:33:47.528881Z",
     "shell.execute_reply": "2022-11-27T10:33:47.526885Z",
     "shell.execute_reply.started": "2022-11-27T10:33:44.215144Z"
    },
    "tags": []
   },
   "outputs": [],
   "source": [
    "import pandas as pd\n",
    "import numpy as np\n",
    "import seaborn as sns\n",
    "import matplotlib.pyplot as plt\n",
    "import time\n",
    "\n",
    "sns.set_theme()"
   ]
  },
  {
   "cell_type": "code",
   "execution_count": null,
   "metadata": {},
   "outputs": [
    {
     "data": {
      "text/html": [
       "<div>\n",
       "<style scoped>\n",
       "    .dataframe tbody tr th:only-of-type {\n",
       "        vertical-align: middle;\n",
       "    }\n",
       "\n",
       "    .dataframe tbody tr th {\n",
       "        vertical-align: top;\n",
       "    }\n",
       "\n",
       "    .dataframe thead th {\n",
       "        text-align: right;\n",
       "    }\n",
       "</style>\n",
       "<table border=\"1\" class=\"dataframe\">\n",
       "  <thead>\n",
       "    <tr style=\"text-align: right;\">\n",
       "      <th></th>\n",
       "      <th>killed_by</th>\n",
       "      <th>type</th>\n",
       "      <th>time</th>\n",
       "      <th>phase</th>\n",
       "      <th>dis</th>\n",
       "      <th>kx</th>\n",
       "      <th>ky</th>\n",
       "      <th>vx</th>\n",
       "      <th>vy</th>\n",
       "    </tr>\n",
       "  </thead>\n",
       "  <tbody>\n",
       "    <tr>\n",
       "      <th>0</th>\n",
       "      <td>M16A4</td>\n",
       "      <td>AR</td>\n",
       "      <td>1035</td>\n",
       "      <td>2</td>\n",
       "      <td>194</td>\n",
       "      <td>4970</td>\n",
       "      <td>3126</td>\n",
       "      <td>4978</td>\n",
       "      <td>3320</td>\n",
       "    </tr>\n",
       "    <tr>\n",
       "      <th>1</th>\n",
       "      <td>AKM</td>\n",
       "      <td>AR</td>\n",
       "      <td>1422</td>\n",
       "      <td>4</td>\n",
       "      <td>7</td>\n",
       "      <td>4604</td>\n",
       "      <td>4147</td>\n",
       "      <td>4598</td>\n",
       "      <td>4144</td>\n",
       "    </tr>\n",
       "    <tr>\n",
       "      <th>2</th>\n",
       "      <td>AKM</td>\n",
       "      <td>AR</td>\n",
       "      <td>1210</td>\n",
       "      <td>3</td>\n",
       "      <td>8</td>\n",
       "      <td>4880</td>\n",
       "      <td>3472</td>\n",
       "      <td>4874</td>\n",
       "      <td>3477</td>\n",
       "    </tr>\n",
       "    <tr>\n",
       "      <th>3</th>\n",
       "      <td>SKS</td>\n",
       "      <td>DMR</td>\n",
       "      <td>1818</td>\n",
       "      <td>7</td>\n",
       "      <td>124</td>\n",
       "      <td>5011</td>\n",
       "      <td>4251</td>\n",
       "      <td>4930</td>\n",
       "      <td>4345</td>\n",
       "    </tr>\n",
       "    <tr>\n",
       "      <th>4</th>\n",
       "      <td>M416</td>\n",
       "      <td>AR</td>\n",
       "      <td>1766</td>\n",
       "      <td>7</td>\n",
       "      <td>85</td>\n",
       "      <td>4955</td>\n",
       "      <td>4298</td>\n",
       "      <td>4958</td>\n",
       "      <td>4383</td>\n",
       "    </tr>\n",
       "  </tbody>\n",
       "</table>\n",
       "</div>"
      ],
      "text/plain": [
       "  killed_by type  time  phase  dis    kx    ky    vx    vy\n",
       "0     M16A4   AR  1035      2  194  4970  3126  4978  3320\n",
       "1       AKM   AR  1422      4    7  4604  4147  4598  4144\n",
       "2       AKM   AR  1210      3    8  4880  3472  4874  3477\n",
       "3       SKS  DMR  1818      7  124  5011  4251  4930  4345\n",
       "4      M416   AR  1766      7   85  4955  4298  4958  4383"
      ]
     },
     "metadata": {},
     "output_type": "display_data"
    }
   ],
   "source": [
    "df = pd.read_csv('data/kill_match_stats_v2.csv')\n",
    "df.head()"
   ]
  },
  {
   "cell_type": "markdown",
   "metadata": {},
   "source": [
    "## 3.2. Câu hỏi 2\n",
    "**Câu hỏi:** <span style = \"color:red\">Những vị trí nào giao tranh nhiều?</span>\n",
    "\n",
    "**Ý nghĩa:** Trên bản đồ sẽ có những khu vực giao tranh nhộn nhịp hơn những khu vực khác, biết được các khu vực này giúp player chọn nơi nhảy dù, trú ẩn phù hợp với lối chơi của mình\n",
    "- Ví dụ player thích thử thách, nâng cao kỹ năng, có thể chọn các khu vực đông đúng, giao tranh xảy ra liên tục\n",
    "- Nếu người chơi chọn lối chơi sinh tồn có thể chọn các khu vực yên ắng, ít người\n",
    "\n",
    "**Phân tích:** Câu hỏi này có thể trả lời dễ dàng bằng phân bố tọa độ 2 chiều đã làm ở `Data Understanding`"
   ]
  }
 ],
 "metadata": {
  "kernelspec": {
   "display_name": "Python 3.8.8 ('min_ds-env')",
   "language": "python",
   "name": "python3"
  },
  "language_info": {
   "name": "python",
   "version": "3.8.8"
  },
  "orig_nbformat": 4,
  "vscode": {
   "interpreter": {
    "hash": "8761cdb9765bcae96d62febb66cb232c06e88303db4bdff047a89cac81065564"
   }
  }
 },
 "nbformat": 4,
 "nbformat_minor": 2
}
