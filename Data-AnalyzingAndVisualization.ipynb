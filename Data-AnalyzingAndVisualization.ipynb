{
  "cells": [
    {
      "cell_type": "markdown",
      "metadata": {},
      "source": [
        "# 0. Import Library"
      ]
    },
    {
      "cell_type": "code",
      "execution_count": null,
      "metadata": {
        "execution": {
          "iopub.execute_input": "2022-11-27T10:33:44.216142Z",
          "iopub.status.busy": "2022-11-27T10:33:44.213150Z",
          "iopub.status.idle": "2022-11-27T10:33:47.528881Z",
          "shell.execute_reply": "2022-11-27T10:33:47.526885Z",
          "shell.execute_reply.started": "2022-11-27T10:33:44.215144Z"
        },
        "tags": []
      },
      "outputs": [],
      "source": [
        "import pandas as pd\n",
        "import numpy as np\n",
        "import seaborn as sns\n",
        "import matplotlib.pyplot as plt\n",
        "import time\n",
        "\n",
        "sns.set_theme()"
      ]
    },
    {
      "cell_type": "code",
      "execution_count": null,
      "metadata": {},
      "outputs": [],
      "source": [
        "df = pd.read_csv('data/kill_match_stats_v2.csv')\n",
        "df.head()"
      ]
    },
    {
      "cell_type": "markdown",
      "metadata": {},
      "source": [
        "\n",
        "# 3. Data Analyzing and Visualization\n",
        "\n",
        "## 3.1. Câu hỏi 1\n"
      ]
    },
    {
      "cell_type": "code",
      "execution_count": null,
      "metadata": {},
      "outputs": [],
      "source": [
        "img = plt.imread('asset/map/ERANGEL.png')\n",
        "cut_labels = ['0 - 50', '50 - 100', '100 - 300', '300 - 500', '> 500']\n",
        "cut_bins = [0, 50, 100, 300, 500, 1000]\n",
        "df['dis_bin'] = pd.cut(df['dis'], bins = cut_bins, labels = cut_labels)"
      ]
    },
    {
      "cell_type": "code",
      "execution_count": null,
      "metadata": {},
      "outputs": [],
      "source": [
        "fig = plt.figure(figsize=(10, 4))\n",
        "\n",
        "filter = ~df['type'].isin(['Zone', 'Self', 'Vehicle', 'Melee', 'Handgun', 'Throwable'])\n",
        "data = df[filter][['type', 'dis_bin', 'killed_by']].groupby(['type', 'dis_bin']).count().reset_index()\n",
        "data = pd.pivot(data, index = 'dis_bin', columns = 'type', values = 'killed_by')\n",
        "ax = sns.heatmap(np.log10(data + 1), cmap = 'Reds_r', linewidths = 1)\n",
        "\n",
        "ax.set_aspect('equal')\n",
        "ax.set_ylabel('Distance (m)')\n",
        "ax.set_xlabel('');"
      ]
    },
    {
      "cell_type": "markdown",
      "metadata": {},
      "source": [
        "## 3.2. Câu hỏi 2"
      ]
    },
    {
      "cell_type": "code",
      "execution_count": null,
      "metadata": {},
      "outputs": [],
      "source": [
        "fig, axes = plt.subplots(ncols = 2, figsize = (18, 8), gridspec_kw={'width_ratios': [8, 10]})\n",
        "fig.subplots_adjust(wspace = 0.1)\n",
        "img = plt.imread('asset/map/ERANGEL.png')\n",
        "\n",
        "number_of_bin = 1600\n",
        "\n",
        "axes[0].imshow(img[::-1, :, 0], extent = [0, 1640, 0, 1640], alpha = 0.35, zorder = 3, cmap = 'gray')\n",
        "axes[1].imshow(img[::-1, :, 0], extent = [0, 1640, 0, 1640], alpha = 0.35, zorder = 3, cmap = 'gray')\n",
        "\n",
        "sns.heatmap(\n",
        "    np.log10(plt.hist2d(df['ky'], df['kx'], bins = number_of_bin, range = [[0, 8000], [0, 8000]])[0] + 1),\n",
        "    cbar = False, cmap = 'nipy_spectral', ax = axes[0], vmin = 0, vmax = 4)\n",
        "\n",
        "axes[0].set_xticklabels([])\n",
        "axes[0].set_yticklabels([])\n",
        "axes[0].set_title('Killer position')\n",
        "\n",
        "sns.heatmap(\n",
        "    np.log10(plt.hist2d(df['vy'], df['vx'], bins = number_of_bin, range = [[0, 8000], [0, 8000]])[0] + 1), \n",
        "    cmap = 'nipy_spectral', ax = axes[1], vmin = 0, vmax = 4)\n",
        "\n",
        "axes[1].set_xticklabels([])\n",
        "axes[1].set_yticklabels([])\n",
        "axes[1].set_title('Victim position')"
      ]
    },
    {
      "cell_type": "markdown",
      "metadata": {},
      "source": [
        "## 3.3. Câu hỏi 3"
      ]
    },
    {
      "cell_type": "code",
      "execution_count": null,
      "metadata": {},
      "outputs": [],
      "source": [
        "plt.figure(figsize=(10, 8))\n",
        "\n",
        "number_of_bin = 1600\n",
        "scale = 1640 * number_of_bin / 1600\n",
        "plt.imshow(img[::-1, :, 0], extent = [0, scale, 0, scale], alpha = 0.35, zorder = 3, cmap = 'gray')\n",
        "\n",
        "data = df[df['dis'] >= 400]\n",
        "\n",
        "ax = sns.heatmap(\n",
        "    np.log10(plt.hist2d(data['ky'], data['kx'], bins = number_of_bin, range = [[0, 8000], [0, 8000]])[0] + 1), cmap = 'nipy_spectral')\n",
        "ax.set_aspect('equal')\n",
        "ax.set_xticklabels([])\n",
        "ax.set_yticklabels([]);\n",
        "\n",
        "plt.savefig('distance_heatmap.png', dpi = 1200, bbox_inches = 'tight')"
      ]
    },
    {
      "cell_type": "markdown",
      "metadata": {},
      "source": [
        "## 3.4. Câu hỏi 4"
      ]
    },
    {
      "cell_type": "code",
      "execution_count": null,
      "metadata": {},
      "outputs": [],
      "source": [
        "img = plt.imread('asset/map/ERANGEL.jpg')"
      ]
    },
    {
      "cell_type": "code",
      "execution_count": null,
      "metadata": {},
      "outputs": [],
      "source": [
        "plt.figure(figsize=(10, 8))\n",
        "\n",
        "number_of_bin = 1600\n",
        "scale = 1640 * number_of_bin / 1600\n",
        "plt.imshow(img[::-1, :, 0], extent = [0, scale, 0, scale], alpha = 0.35, zorder = 3, cmap = 'gray')\n",
        "\n",
        "data = df\n",
        "\n",
        "ax = sns.heatmap(\n",
        "    np.log10(plt.hist2d(data['vy'], data['vx'], bins = number_of_bin, range = [[0, 8000], [0, 8000]])[0] + 1), cmap = 'nipy_spectral')\n",
        "ax.set_aspect('equal')\n",
        "ax.set_xticklabels([])\n",
        "ax.set_yticklabels([]);"
      ]
    },
    {
      "cell_type": "code",
      "execution_count": null,
      "metadata": {},
      "outputs": [],
      "source": [
        "area_coords = {\n",
        "    'Bridge1': [[3250, 3650], [5300, 5800]],\n",
        "    'Bridge2': [[5400, 5600], [5300, 5800]],\n",
        "    'FishBoneMt': [[2000, 2600], [3100, 3500]],\n",
        "    'RozhokHill': [[3800, 4200], [3050, 3250]],\n",
        "    'PochinkiHill': [[3200, 3600], [4300, 4540]],\n",
        "    'MansionHill': [[5900, 5980], [2940, 3020]],\n",
        "    'Apartment': [[4350, 4500], [3250, 3400]]\n",
        "}"
      ]
    },
    {
      "cell_type": "code",
      "execution_count": null,
      "metadata": {},
      "outputs": [],
      "source": [
        "filter = (df['dis'] >= 400) & (\n",
        "          ((df['vx'] >= area_coords['Bridge1'][0][0]) & \n",
        "           (df['vx'] <= area_coords['Bridge1'][0][1]) & \n",
        "           (df['vy'] >= area_coords['Bridge1'][1][0]) & \n",
        "           (df['vy'] <= area_coords['Bridge1'][1][1])) |\n",
        "          ((df['vx'] >= area_coords['Bridge2'][0][0]) & \n",
        "           (df['vx'] <= area_coords['Bridge2'][0][1]) & \n",
        "           (df['vy'] >= area_coords['Bridge2'][1][0]) & \n",
        "           (df['vy'] <= area_coords['Bridge2'][1][1])) |\n",
        "          ((df['vx'] >= area_coords['FishBoneMt'][0][0]) & \n",
        "           (df['vx'] <= area_coords['FishBoneMt'][0][1]) & \n",
        "           (df['vy'] >= area_coords['FishBoneMt'][1][0]) & \n",
        "           (df['vy'] <= area_coords['FishBoneMt'][1][1])) |\n",
        "          ((df['vx'] >= area_coords['RozhokHill'][0][0]) & \n",
        "           (df['vx'] <= area_coords['RozhokHill'][0][1]) & \n",
        "           (df['vy'] >= area_coords['RozhokHill'][1][0]) & \n",
        "           (df['vy'] <= area_coords['RozhokHill'][1][1])) |\n",
        "          ((df['vx'] >= area_coords['PochinkiHill'][0][0]) & \n",
        "           (df['vx'] <= area_coords['PochinkiHill'][0][1]) & \n",
        "           (df['vy'] >= area_coords['PochinkiHill'][1][0]) & \n",
        "           (df['vy'] <= area_coords['PochinkiHill'][1][1])) |\n",
        "          ((df['vx'] >= area_coords['MansionHill'][0][0]) & \n",
        "           (df['vx'] <= area_coords['MansionHill'][0][1]) & \n",
        "           (df['vy'] >= area_coords['MansionHill'][1][0]) & \n",
        "           (df['vy'] <= area_coords['MansionHill'][1][1])) |\n",
        "          ((df['vx'] >= area_coords['Apartment'][0][0]) & \n",
        "           (df['vx'] <= area_coords['Apartment'][0][1]) & \n",
        "           (df['vy'] >= area_coords['Apartment'][1][0]) & \n",
        "           (df['vy'] <= area_coords['Apartment'][1][1])) \n",
        "        )\n",
        "\n",
        "data = df[filter][['kx', 'ky', 'vx', 'vy']] * 0.975"
      ]
    },
    {
      "cell_type": "code",
      "execution_count": null,
      "metadata": {},
      "outputs": [],
      "source": [
        "%matplotlib inline\n",
        "\n",
        "start_time = time.time()\n",
        "\n",
        "img = plt.imread('asset/map/ERANGEL.jpg')\n",
        "plt.figure(figsize=(10, 10))\n",
        "\n",
        "plt.imshow(img, extent = [0, 8000, 0, 8000], origin = 'lower')\n",
        "ax = sns.scatterplot(x = data['kx'], y = data['ky'], alpha = 1, s = 2, edgecolor = None, color = 'r')\n",
        "ax = sns.scatterplot(x = data['vx'], y = data['vy'], alpha = 1, s = 2, edgecolor = None, color = 'cyan')\n",
        "\n",
        "for row in data.iterrows():\n",
        "    ax.plot([row[1]['kx'], row[1]['vx']], [row[1]['ky'], row[1]['vy']], color = 'C1', alpha = 0.25, linewidth = 0.4)\n",
        "\n",
        "ax.set_xlabel('')\n",
        "ax.set_ylabel('')\n",
        "ax.invert_yaxis()\n",
        "ax.grid(False)\n",
        "\n",
        "plt.savefig('temp.png', dpi = 300, bbox_inches = 'tight')"
      ]
    },
    {
      "cell_type": "markdown",
      "metadata": {},
      "source": [
        "## 3.5. Câu hỏi 5"
      ]
    }
  ],
  "metadata": {
    "kernelspec": {
      "display_name": "Python 3.10.6 64-bit",
      "language": "python",
      "name": "python3"
    },
    "language_info": {
      "codemirror_mode": {
        "name": "ipython",
        "version": 3
      },
      "file_extension": ".py",
      "mimetype": "text/x-python",
      "name": "python",
      "nbconvert_exporter": "python",
      "pygments_lexer": "ipython3",
      "version": "3.10.6"
    },
    "orig_nbformat": 4,
    "vscode": {
      "interpreter": {
        "hash": "916dbcbb3f70747c44a77c7bcd40155683ae19c65e1c03b4aa3499c5328201f1"
      }
    }
  },
  "nbformat": 4,
  "nbformat_minor": 2
}
