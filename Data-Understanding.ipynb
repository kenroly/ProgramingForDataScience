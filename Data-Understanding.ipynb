{
 "cells": [
  {
   "cell_type": "markdown",
   "metadata": {},
   "source": [
    "# 0. Import Library"
   ]
  },
  {
   "cell_type": "code",
   "execution_count": null,
   "metadata": {
    "execution": {
     "iopub.execute_input": "2022-11-27T10:33:44.216142Z",
     "iopub.status.busy": "2022-11-27T10:33:44.213150Z",
     "iopub.status.idle": "2022-11-27T10:33:47.528881Z",
     "shell.execute_reply": "2022-11-27T10:33:47.526885Z",
     "shell.execute_reply.started": "2022-11-27T10:33:44.215144Z"
    },
    "tags": []
   },
   "outputs": [],
   "source": [
    "import pandas as pd\n",
    "import numpy as np\n",
    "import seaborn as sns\n",
    "import matplotlib.pyplot as plt\n",
    "import matplotlib.patches as patches\n",
    "from matplotlib.offsetbox import (OffsetImage,AnnotationBbox)\n",
    "from matplotlib import transforms\n",
    "import matplotlib.animation as animation\n",
    "import time as time\n",
    "\n",
    "sns.set_theme()"
   ]
  },
  {
   "cell_type": "markdown",
   "metadata": {},
   "source": [
    "# 2. Data Understanding\n",
    "# 2.1. Tổng quan kích thước, kiểu dữ liệu"
   ]
  },
  {
   "cell_type": "code",
   "execution_count": null,
   "metadata": {
    "execution": {
     "iopub.execute_input": "2022-11-27T10:33:47.537866Z",
     "iopub.status.busy": "2022-11-27T10:33:47.537866Z",
     "iopub.status.idle": "2022-11-27T10:33:57.525866Z",
     "shell.execute_reply": "2022-11-27T10:33:57.525866Z",
     "shell.execute_reply.started": "2022-11-27T10:33:47.537866Z"
    },
    "tags": []
   },
   "outputs": [],
   "source": [
    "df = pd.read_csv('data/kill_match_stats_v2.csv')\n",
    "df.head()"
   ]
  },
  {
   "cell_type": "code",
   "execution_count": null,
   "metadata": {},
   "outputs": [],
   "source": [
    "df.shape"
   ]
  },
  {
   "cell_type": "code",
   "execution_count": null,
   "metadata": {},
   "outputs": [],
   "source": [
    "df.info()"
   ]
  },
  {
   "cell_type": "markdown",
   "metadata": {},
   "source": [
    "## 2.2. Phân bố của dữ liệu trong từng cột\n",
    "### 2.2.1. Các cột tọa độ"
   ]
  },
  {
   "cell_type": "code",
   "execution_count": null,
   "metadata": {},
   "outputs": [],
   "source": [
    "fig, axes = plt.subplots(ncols = 2, nrows = 2, figsize=(12, 8), sharex = 'col', sharey = 'row')\n",
    "fig.subplots_adjust(wspace = 0.1)\n",
    "\n",
    "axes[0][0].hist(df['kx'], bins = 100, edgecolor = 'C0')\n",
    "axes[0][1].hist(df['ky'], bins = 100, edgecolor = 'C0')\n",
    "axes[1][0].hist(df['vx'], bins = 100, color = 'C1', edgecolor = 'C1')\n",
    "axes[1][1].hist(df['vy'], bins = 100, color = 'C1', edgecolor = 'C1')\n",
    "\n",
    "axes[0][0].set_title('kx')\n",
    "axes[0][1].set_title('ky')\n",
    "axes[1][0].set_title('vx')\n",
    "axes[1][1].set_title('vy');"
   ]
  },
  {
   "cell_type": "markdown",
   "metadata": {},
   "source": [
    "### 2.2.2. Cột dis"
   ]
  },
  {
   "cell_type": "code",
   "execution_count": null,
   "metadata": {},
   "outputs": [],
   "source": [
    "fig = plt.figure(figsize=(12, 6))\n",
    "\n",
    "sns.histplot(df['dis'], bins = 1000)"
   ]
  },
  {
   "cell_type": "markdown",
   "metadata": {},
   "source": [
    "### 2.2.3. Cột `time` và `phase`"
   ]
  },
  {
   "cell_type": "code",
   "execution_count": null,
   "metadata": {},
   "outputs": [],
   "source": [
    "fig, axes = plt.subplots(ncols = 2, figsize = (15, 5))\n",
    "\n",
    "axes[0].hist(df['time'], bins = 1000, edgecolor = 'C0')\n",
    "\n",
    "data = df.groupby(by = ['phase']).count().reset_index()[['phase', 'type']]\n",
    "sns.barplot(data = data, x = 'phase', y = 'type', ax = axes[1], color = 'C1')\n",
    "\n",
    "axes[0].set_title('time')\n",
    "axes[1].set_title('phase')"
   ]
  },
  {
   "cell_type": "code",
   "execution_count": null,
   "metadata": {},
   "outputs": [],
   "source": [
    "fig, ax = plt.subplots(figsize=(12, 4))\n",
    "\n",
    "y, _, _ = plt.hist(df['time'], bins = 1000, edgecolor = 'C0')\n",
    "\n",
    "phase_rect = [(0, 720), (721, 1060), (1061, 1300), (1301, 1480), (1481, 1650), (1651, 1760), (1761, 1880), (1881, 1970), (1971, 2150)]\n",
    "\n",
    "for rect in phase_rect:\n",
    "    ax.add_patch(patches.Rectangle((rect[0], 0), rect[1] - rect[0], y.max(), color = 'C1', alpha = 0.2))"
   ]
  },
  {
   "cell_type": "markdown",
   "metadata": {},
   "source": [
    "### 2.2.4. Cột `killed_by` và `type`"
   ]
  },
  {
   "cell_type": "code",
   "execution_count": null,
   "metadata": {},
   "outputs": [],
   "source": [
    "data = df['killed_by'].value_counts().reset_index()\n",
    "\n",
    "fig, ax = plt.subplots(figsize=(8, 40))\n",
    "ax = sns.barplot(data = data, x = 'killed_by', y = 'index', color = 'C0')\n",
    "\n",
    "ax.set_xlim(0, data['killed_by'].max() * 1.3)\n",
    "ax.set_yticklabels([])\n",
    "ax.set_xticklabels([])\n",
    "ax.set_xlabel('')\n",
    "ax.set_ylabel('')\n",
    "ax.grid(visible = False)\n",
    "ax.set_title('Killed_by count')\n",
    "\n",
    "#annotate the bars\n",
    "for i, v in enumerate(data['killed_by']):\n",
    "    ax.text(v + 10000, i, f'{v:,}', va = 'center', fontsize = 11)\n",
    "\n",
    "#use asset item as tick labels\n",
    "for i, v in enumerate(data['index']):  \n",
    "    img = plt.imread('asset/item/' + v +'.png', format = 'png')\n",
    "\n",
    "    imagebox = OffsetImage(img, zoom = 0.07)\n",
    "    imagebox.image.axes = ax\n",
    "\n",
    "    ab = AnnotationBbox(imagebox, (0, 0),\n",
    "                        xybox=(-10000, i),\n",
    "                        xycoords=(\"data\"),\n",
    "                        box_alignment = (1, 0.5),\n",
    "                        bboxprops = {'edgecolor': 'none'})\n",
    "\n",
    "    ax.add_artist(ab)\n"
   ]
  },
  {
   "cell_type": "code",
   "execution_count": null,
   "metadata": {},
   "outputs": [],
   "source": [
    "data = df['type'].value_counts().reset_index()\n",
    "\n",
    "fig, ax = plt.subplots(figsize=(8, 8))\n",
    "ax = sns.barplot(data = data, x = 'type', y = 'index', color = 'C0')\n",
    "\n",
    "ax.set_xlim(0, data['type'].max() * 1.3)\n",
    "ax.set_yticklabels([])\n",
    "ax.set_xticklabels([])\n",
    "ax.set_xlabel('')\n",
    "ax.set_ylabel('')\n",
    "ax.grid(visible = False)\n",
    "ax.set_title('Type count')\n",
    "\n",
    "#annotate the bars\n",
    "for i, v in enumerate(data['type']):\n",
    "    ax.text(v + 100000, i, f'{v:,}', va = 'center', fontsize = 11)\n",
    "\n",
    "#use icon as tick labels\n",
    "for i, v in enumerate(data['index']):  \n",
    "    img = plt.imread('asset/type_item/' + v +'.png')\n",
    "\n",
    "    imagebox = OffsetImage(img, zoom = 0.05)\n",
    "    imagebox.image.axes = ax\n",
    "\n",
    "    ab = AnnotationBbox(imagebox, (0, 0),\n",
    "                        xybox=(-100000, i),\n",
    "                        xycoords=(\"data\"),\n",
    "                        box_alignment = (1, 0.5),\n",
    "                        bboxprops = {'edgecolor': 'none'})\n",
    "\n",
    "    ax.add_artist(ab)"
   ]
  }
 ],
 "metadata": {
  "kernelspec": {
   "display_name": "Python 3.10.6 64-bit",
   "language": "python",
   "name": "python3"
  },
  "language_info": {
   "codemirror_mode": {
    "name": "ipython",
    "version": 3
   },
   "file_extension": ".py",
   "mimetype": "text/x-python",
   "name": "python",
   "nbconvert_exporter": "python",
   "pygments_lexer": "ipython3",
   "version": "3.10.6"
  },
  "orig_nbformat": 4,
  "vscode": {
   "interpreter": {
    "hash": "916dbcbb3f70747c44a77c7bcd40155683ae19c65e1c03b4aa3499c5328201f1"
   }
  }
 },
 "nbformat": 4,
 "nbformat_minor": 2
}
