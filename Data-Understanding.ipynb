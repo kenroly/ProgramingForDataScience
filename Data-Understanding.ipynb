{
  "cells": [
    {
      "cell_type": "markdown",
      "metadata": {},
      "source": [
        "# 0. Import Library"
      ]
    },
    {
      "cell_type": "code",
      "execution_count": null,
      "metadata": {
        "execution": {
          "iopub.execute_input": "2022-11-27T10:33:44.216142Z",
          "iopub.status.busy": "2022-11-27T10:33:44.213150Z",
          "iopub.status.idle": "2022-11-27T10:33:47.528881Z",
          "shell.execute_reply": "2022-11-27T10:33:47.526885Z",
          "shell.execute_reply.started": "2022-11-27T10:33:44.215144Z"
        },
        "tags": []
      },
      "outputs": [],
      "source": [
        "import pandas as pd\n",
        "import numpy as np\n",
        "import seaborn as sns\n",
        "import matplotlib.pyplot as plt\n",
        "import matplotlib.patches as patches\n",
        "from matplotlib.offsetbox import (OffsetImage,AnnotationBbox)\n",
        "from matplotlib import transforms\n",
        "import matplotlib.animation as animation\n",
        "import time as time\n",
        "\n",
        "sns.set_theme()"
      ]
    },
    {
      "cell_type": "markdown",
      "metadata": {},
      "source": [
        "# 2. Data Understanding"
      ]
    },
    {
      "cell_type": "code",
      "execution_count": null,
      "metadata": {
        "execution": {
          "iopub.execute_input": "2022-11-27T10:33:47.537866Z",
          "iopub.status.busy": "2022-11-27T10:33:47.537866Z",
          "iopub.status.idle": "2022-11-27T10:33:57.525866Z",
          "shell.execute_reply": "2022-11-27T10:33:57.525866Z",
          "shell.execute_reply.started": "2022-11-27T10:33:47.537866Z"
        },
        "tags": []
      },
      "outputs": [],
      "source": [
        "df = pd.read_csv('data/kill_match_stats_v2.csv')\n",
        "df.head()"
      ]
    },
    {
      "cell_type": "code",
      "execution_count": null,
      "metadata": {},
      "outputs": [],
      "source": [
        "df.shape"
      ]
    },
    {
      "cell_type": "code",
      "execution_count": null,
      "metadata": {},
      "outputs": [],
      "source": [
        "df.info()"
      ]
    },
    {
      "cell_type": "markdown",
      "metadata": {},
      "source": [
        "### 2.3.4. Phân bố dữ liệu theo tọa độ (2 chiều)"
      ]
    },
    {
      "cell_type": "code",
      "execution_count": null,
      "metadata": {},
      "outputs": [],
      "source": [
        "fig, axes = plt.subplots(ncols = 2, nrows = 2, figsize=(12, 8), sharex = 'col', sharey = 'row')\n",
        "fig.subplots_adjust(wspace = 0.1)\n",
        "\n",
        "axes[0][0].hist(df['kx'], bins = 100, edgecolor = 'C0')\n",
        "axes[0][1].hist(df['ky'], bins = 100, edgecolor = 'C0')\n",
        "axes[1][0].hist(df['vx'], bins = 100, color = 'C1', edgecolor = 'C1')\n",
        "axes[1][1].hist(df['vy'], bins = 100, color = 'C1', edgecolor = 'C1')\n",
        "\n",
        "axes[0][0].set_title('kx')\n",
        "axes[0][1].set_title('ky')\n",
        "axes[1][0].set_title('vx')\n",
        "axes[1][1].set_title('vy');"
      ]
    },
    {
      "cell_type": "markdown",
      "metadata": {},
      "source": [
        "### 2.3.5. Phân bố dữ liệu theo tọa độ và thời gian"
      ]
    },
    {
      "cell_type": "code",
      "execution_count": null,
      "metadata": {
        "execution": {
          "iopub.execute_input": "2022-11-27T03:27:19.718716Z",
          "iopub.status.busy": "2022-11-27T03:27:19.718153Z",
          "iopub.status.idle": "2022-11-27T03:27:20.142085Z",
          "shell.execute_reply": "2022-11-27T03:27:20.139094Z",
          "shell.execute_reply.started": "2022-11-27T03:27:19.718716Z"
        },
        "tags": []
      },
      "outputs": [],
      "source": [
        "img = plt.imread('asset/map/ERANGEL.png')"
      ]
    },
    {
      "cell_type": "code",
      "execution_count": null,
      "metadata": {
        "execution": {
          "iopub.execute_input": "2022-11-27T03:27:33.367779Z",
          "iopub.status.busy": "2022-11-27T03:27:33.367112Z",
          "iopub.status.idle": "2022-11-27T03:30:44.923675Z",
          "shell.execute_reply": "2022-11-27T03:30:44.922677Z",
          "shell.execute_reply.started": "2022-11-27T03:27:33.367779Z"
        },
        "tags": []
      },
      "outputs": [],
      "source": [
        "%matplotlib inline\n",
        "\n",
        "def ax_prunt(ax):\n",
        "    ax.set_xticklabels([])\n",
        "    ax.set_yticklabels([])\n",
        "    ax.set_xlim(0, number_of_bin)\n",
        "    ax.set_ylim(0, number_of_bin)\n",
        "    ax.invert_yaxis()\n",
        "\n",
        "def init():\n",
        "    sns.heatmap(np.zeros((number_of_bin, number_of_bin)), vmin = 0, vmax = 8, cmap = 'nipy_spectral', cbar = False)\n",
        "    \n",
        "    ax_prunt(ax)\n",
        "def animate(i):\n",
        "    data = df[df['time'].isin(range(i, i + 50))][['vx', 'vy']]\n",
        "    data = np.log(plt.hist2d(data['vy'], data['vx'], bins = number_of_bin, range = [[0, 8000], [0, 8000]])[0] + 1)\n",
        "    sns.heatmap(data, cmap = 'nipy_spectral', vmin = 0, vmax = 8, cbar = False)\n",
        "\n",
        "    ax.set_title(f'{i}s - {i + 50}s')\n",
        "    ax_prunt(ax)\n",
        "    print(i)\n",
        "\n",
        "fig, ax = plt.subplots(figsize = (10, 8))\n",
        "number_of_bin = 1600\n",
        "scale = number_of_bin / 1600 * 1640\n",
        "\n",
        "plt.imshow(img[::-1, :, 0], extent = [0, scale, 0, scale], alpha = 0.35, zorder = 3, cmap = 'gray')\n",
        "ax_prunt(ax)\n",
        "sns.heatmap(np.zeros((number_of_bin, number_of_bin)), vmin = 0, vmax = 8, cmap = 'nipy_spectral')\n",
        "\n",
        "anim = animation.FuncAnimation(fig, func = animate, init_func = init, interval = 20, frames = range(1300, df['time'].max() - 40, 20), repeat = False)\n",
        "\n",
        "start_time = time.time()\n",
        "\n",
        "writer = animation.FFMpegWriter(fps=10)\n",
        "anim.save('test3.mp4', writer=writer)\n",
        "\n",
        "print(f'{time.time() - start_time:.2f} sec for saving video')  "
      ]
    }
  ],
  "metadata": {
    "kernelspec": {
      "display_name": "Python 3.10.5 64-bit (system)",
      "language": "python",
      "name": "python3"
    },
    "language_info": {
      "codemirror_mode": {
        "name": "ipython",
        "version": 3
      },
      "file_extension": ".py",
      "mimetype": "text/x-python",
      "name": "python",
      "nbconvert_exporter": "python",
      "pygments_lexer": "ipython3",
      "version": "3.10.5"
    },
    "orig_nbformat": 4,
    "vscode": {
      "interpreter": {
        "hash": "2a8dfe095fce2b5e88c64a2c3ee084c8e0e0d70b23e7b95b1cfb538be294c5c8"
      }
    }
  },
  "nbformat": 4,
  "nbformat_minor": 2
}
