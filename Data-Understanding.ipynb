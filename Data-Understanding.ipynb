{
 "cells": [
  {
   "cell_type": "markdown",
   "metadata": {},
   "source": [
    "# 0. Import Library"
   ]
  },
  {
   "cell_type": "code",
   "execution_count": 1,
   "metadata": {
    "execution": {
     "iopub.execute_input": "2022-11-27T10:33:44.216142Z",
     "iopub.status.busy": "2022-11-27T10:33:44.213150Z",
     "iopub.status.idle": "2022-11-27T10:33:47.528881Z",
     "shell.execute_reply": "2022-11-27T10:33:47.526885Z",
     "shell.execute_reply.started": "2022-11-27T10:33:44.215144Z"
    },
    "tags": []
   },
   "outputs": [],
   "source": [
    "import pandas as pd\n",
    "import numpy as np\n",
    "import seaborn as sns\n",
    "import matplotlib.pyplot as plt\n",
    "import matplotlib.patches as patches\n",
    "from matplotlib.offsetbox import (OffsetImage,AnnotationBbox)\n",
    "from matplotlib import transforms\n",
    "import matplotlib.animation as animation\n",
    "import time as time\n",
    "\n",
    "sns.set_theme()"
   ]
  },
  {
   "cell_type": "markdown",
   "metadata": {},
   "source": [
    "# 2. Data Understanding\n",
    "Trên thực tế việc khám phá dữ liệu đã được nhóm thực hiện một phần ở notebook Data Preprocessing. Ở notebook này, nhóm chủ yếu tìm hiểu sự phân bố của dữ liệu ở các cột\n",
    "# 2.1. Tổng quan kích thước, kiểu dữ liệu"
   ]
  },
  {
   "cell_type": "code",
   "execution_count": null,
   "metadata": {
    "execution": {
     "iopub.execute_input": "2022-11-27T10:33:47.537866Z",
     "iopub.status.busy": "2022-11-27T10:33:47.537866Z",
     "iopub.status.idle": "2022-11-27T10:33:57.525866Z",
     "shell.execute_reply": "2022-11-27T10:33:57.525866Z",
     "shell.execute_reply.started": "2022-11-27T10:33:47.537866Z"
    },
    "tags": []
   },
   "outputs": [],
   "source": [
    "df = pd.read_csv('data/kill_match_stats_v2.csv')\n",
    "df.head()"
   ]
  },
  {
   "cell_type": "code",
   "execution_count": null,
   "metadata": {},
   "outputs": [],
   "source": [
    "df.shape"
   ]
  },
  {
   "cell_type": "markdown",
   "metadata": {},
   "source": [
    "Dữ liệu có 8,253,143 dòng vaf 9 cột\n",
    "\n",
    "Mỗi dòng mô tả một kill diễn ra trong trận đấu, gồm:\n",
    "- `killed_by`: nguyên nhân gây kill\n",
    "- `kx` và `ky`: tọa của killer trên bản đồ \n",
    "- `time`: thời điểm kill xảy ra (tính từ đầu trận đấu)\n",
    "- `vx` và `vy`: tọa của victim trên bản đồ\n",
    "- `dis`: khoảng cách giữa killer và victim\n",
    "- `phase`: phase diễn ra kill\n",
    "- `type`: phân loại nguyên nhân gây kill"
   ]
  },
  {
   "cell_type": "code",
   "execution_count": null,
   "metadata": {},
   "outputs": [],
   "source": [
    "df.info()"
   ]
  },
  {
   "cell_type": "markdown",
   "metadata": {},
   "source": [
    "Dữ liệu của các cột:\n",
    "- `killed_by` và `type`: nominal\n",
    "- `kx`, `ky`, `vx`, `vy`, `dis`: numerical\n",
    "- `time` và `phase`: 2 cột này mang ý nghĩa thời điểm, nên nhóm xếp 2 cột này vào nhóm dữ liệu `thời gian`"
   ]
  },
  {
   "cell_type": "markdown",
   "metadata": {},
   "source": [
    "## 2.2. Phân bố của dữ liệu trong từng cột\n",
    "### 2.2.1. Các cột tọa độ"
   ]
  },
  {
   "cell_type": "code",
   "execution_count": null,
   "metadata": {},
   "outputs": [],
   "source": [
    "fig, axes = plt.subplots(ncols = 2, nrows = 2, figsize=(12, 8), sharex = 'col', sharey = 'row')\n",
    "fig.subplots_adjust(wspace = 0.1)\n",
    "\n",
    "axes[0][0].hist(df['kx'], bins = 100, edgecolor = 'C0')\n",
    "axes[0][1].hist(df['ky'], bins = 100, edgecolor = 'C0')\n",
    "axes[1][0].hist(df['vx'], bins = 100, color = 'C1', edgecolor = 'C1')\n",
    "axes[1][1].hist(df['vy'], bins = 100, color = 'C1', edgecolor = 'C1')\n",
    "\n",
    "axes[0][0].set_title('kx')\n",
    "axes[0][1].set_title('ky')\n",
    "axes[1][0].set_title('vx')\n",
    "axes[1][1].set_title('vy');"
   ]
  },
  {
   "cell_type": "markdown",
   "metadata": {},
   "source": [
    "Cả 4 cột tọa độ đều phân bố trong khoảng từ 0 tới 8000:\n",
    "- Tọa độ tập trung của killer và victim nhìn chung khá giống nhau\n",
    "- Đối với các tọa độ x, có khoảng 3 cụm đỉnh lần lượt ở `1500 - hơn 2000`, `3500 - 4500` và `5500 - 6500`\n",
    "- Đối với các tọa độ y, có một cụm đỉnh lớn trong khoảng `3000 - 4500` và một đỉnh riêng lẻ ở khoảng `6500`\n",
    "- Vị trí của các cụm sẽ được giải thích ở phần sau, khi nhóm sử dụng nhiều các visualization hơn."
   ]
  },
  {
   "cell_type": "markdown",
   "metadata": {},
   "source": [
    "### 2.2.2. Cột dis"
   ]
  },
  {
   "cell_type": "code",
   "execution_count": null,
   "metadata": {},
   "outputs": [],
   "source": [
    "fig = plt.figure(figsize=(12, 6))\n",
    "\n",
    "sns.histplot(df['dis'], bins = 1000)"
   ]
  },
  {
   "cell_type": "markdown",
   "metadata": {},
   "source": [
    "Cột `dis` phân bố từ 0 tới 1000 (do nhóm đã thực hiện lọc ở phần Data Preprocessing), tập trung cao nhất ở mức 0, số lượng kill giảm dần khi dis tăng lên (có vẻ là theo hàm log)"
   ]
  },
  {
   "cell_type": "markdown",
   "metadata": {},
   "source": [
    "### 2.2.3. Cột `time` và `phase`"
   ]
  },
  {
   "cell_type": "code",
   "execution_count": null,
   "metadata": {},
   "outputs": [],
   "source": [
    "fig, axes = plt.subplots(ncols = 2, figsize = (15, 5))\n",
    "\n",
    "axes[0].hist(df['time'], bins = 1000, edgecolor = 'C0')\n",
    "\n",
    "data = df.groupby(by = ['phase']).count().reset_index()[['phase', 'type']]\n",
    "sns.barplot(data = data, x = 'phase', y = 'type', ax = axes[1], color = 'C1')\n",
    "\n",
    "axes[0].set_title('time')\n",
    "axes[1].set_title('phase')"
   ]
  },
  {
   "cell_type": "markdown",
   "metadata": {},
   "source": [
    "- Đa số kill diễn ra ở phase 1, giảm dần ở các phase tiếp theo. Có thể do ở phase 1, các player vừa nhảy dù xuống, nhiều player sẽ nhảy dù vào cùng những địa điểm thuận lợi, dẫn tới giao tranh xảy ra vào phase 1 là cao nhất. Sau đó nhiều player tử trận, giao tranh giảm xuống, số lượng kill cũng giảm theo\n",
    "- Khi quan sát histogram của time, ta nhận thấy có một số đỉnh cao đột ngột từ khoảng 1500s trở về sau, khi xem xét bảng thời gian bắt đầu và kết thúc của các phase dưới đây, ta nhận ra thời điểm kill tăng lên là ở các khoảng thời gian chuyển tiếp từ phase này sang phase kia, khi vòng bluezone thu vào, buộc người chơi phải di chuyển khỏi các nơi trú ẩn. Thêm vào đó là số lượng kill gây ra bởi sát thương từ bluezone, dẫn tới số lượng kill tăng cao. Nhóm kết hợp các đường khoảng đánh dấu phase ở histogram bên dưới để làm nổi bật điều này\n",
    "\n",
    "|Phase|Bắt đầu|Kết thúc|\n",
    "|-----|-------|--------|\n",
    "|1|121|720|\n",
    "|2|721|1060|\n",
    "|3|1061|1300|\n",
    "|4|1301|1480|\n",
    "|5|1481|1650|\n",
    "|6|1651|1760|\n",
    "|7|1761|1880|\n",
    "|8|1881|1970|\n",
    "|9|1971|2150|"
   ]
  },
  {
   "cell_type": "code",
   "execution_count": null,
   "metadata": {},
   "outputs": [],
   "source": [
    "fig, ax = plt.subplots(figsize=(12, 4))\n",
    "\n",
    "y, _, _ = plt.hist(df['time'], bins = 1000, edgecolor = 'C0')\n",
    "\n",
    "phase_rect = [(0, 720), (721, 1060), (1061, 1300), (1301, 1480), (1481, 1650), (1651, 1760), (1761, 1880), (1881, 1970), (1971, 2150)]\n",
    "\n",
    "for rect in phase_rect:\n",
    "    ax.add_patch(patches.Rectangle((rect[0], 0), rect[1] - rect[0], y.max(), color = 'C1', alpha = 0.2))"
   ]
  }
 ],
 "metadata": {
  "kernelspec": {
   "display_name": "Python 3.8.8 ('min_ds-env')",
   "language": "python",
   "name": "python3"
  },
  "language_info": {
   "codemirror_mode": {
    "name": "ipython",
    "version": 3
   },
   "file_extension": ".py",
   "mimetype": "text/x-python",
   "name": "python",
   "nbconvert_exporter": "python",
   "pygments_lexer": "ipython3",
   "version": "3.8.8"
  },
  "orig_nbformat": 4,
  "vscode": {
   "interpreter": {
    "hash": "ececfb6bf31042b107d3c91c66aeca0ca911791a1728d26b711567c0789e643e"
   }
  }
 },
 "nbformat": 4,
 "nbformat_minor": 2
}
