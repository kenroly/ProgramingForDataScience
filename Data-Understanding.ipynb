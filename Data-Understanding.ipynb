{
  "cells": [
    {
      "cell_type": "markdown",
      "metadata": {},
      "source": [
        "# 0. Import Library"
      ]
    },
    {
      "cell_type": "code",
      "execution_count": null,
      "metadata": {
        "execution": {
          "iopub.execute_input": "2022-11-27T10:33:44.216142Z",
          "iopub.status.busy": "2022-11-27T10:33:44.213150Z",
          "iopub.status.idle": "2022-11-27T10:33:47.528881Z",
          "shell.execute_reply": "2022-11-27T10:33:47.526885Z",
          "shell.execute_reply.started": "2022-11-27T10:33:44.215144Z"
        },
        "tags": []
      },
      "outputs": [],
      "source": [
        "import pandas as pd\n",
        "import numpy as np\n",
        "import seaborn as sns\n",
        "import matplotlib.pyplot as plt\n",
        "import matplotlib.patches as patches\n",
        "from matplotlib.offsetbox import (OffsetImage,AnnotationBbox)\n",
        "from matplotlib import transforms\n",
        "import matplotlib.animation as animation\n",
        "import time as time\n",
        "\n",
        "sns.set_theme()"
      ]
    },
    {
      "cell_type": "markdown",
      "metadata": {},
      "source": [
        "# 2. Data Understanding\n",
        "Trên thực tế việc khám phá dữ liệu đã được nhóm thực hiện một phần ở notebook Data Preprocessing. Ở notebook này, nhóm chủ yếu tìm hiểu sự phân bố của dữ liệu ở các cột\n",
        "# 2.1. Tổng quan kích thước, kiểu dữ liệu"
      ]
    },
    {
      "cell_type": "code",
      "execution_count": null,
      "metadata": {
        "execution": {
          "iopub.execute_input": "2022-11-27T10:33:47.537866Z",
          "iopub.status.busy": "2022-11-27T10:33:47.537866Z",
          "iopub.status.idle": "2022-11-27T10:33:57.525866Z",
          "shell.execute_reply": "2022-11-27T10:33:57.525866Z",
          "shell.execute_reply.started": "2022-11-27T10:33:47.537866Z"
        },
        "tags": []
      },
      "outputs": [],
      "source": [
        "df = pd.read_csv('data/kill_match_stats_v2.csv')\n",
        "df.head()"
      ]
    },
    {
      "cell_type": "code",
      "execution_count": null,
      "metadata": {},
      "outputs": [],
      "source": [
        "df.shape"
      ]
    },
    {
      "cell_type": "markdown",
      "metadata": {},
      "source": [
        "Dữ liệu có 8,253,143 dòng vaf 9 cột\n",
        "\n",
        "Mỗi dòng mô tả một kill diễn ra trong trận đấu, gồm:\n",
        "- `killed_by`: nguyên nhân gây kill\n",
        "- `kx` và `ky`: tọa của killer trên bản đồ \n",
        "- `time`: thời điểm kill xảy ra (tính từ đầu trận đấu)\n",
        "- `vx` và `vy`: tọa của victim trên bản đồ\n",
        "- `dis`: khoảng cách giữa killer và victim\n",
        "- `phase`: phase diễn ra kill\n",
        "- `type`: phân loại nguyên nhân gây kill"
      ]
    },
    {
      "cell_type": "code",
      "execution_count": null,
      "metadata": {},
      "outputs": [],
      "source": [
        "df.info()"
      ]
    },
    {
      "cell_type": "markdown",
      "metadata": {},
      "source": [
        "Dữ liệu của các cột:\n",
        "- `killed_by` và `type`: nominal\n",
        "- `kx`, `ky`, `vx`, `vy`, `dis`: numerical\n",
        "- `time` và `phase`: 2 cột này mang ý nghĩa thời điểm, nên nhóm xếp 2 cột này vào nhóm dữ liệu `thời gian`"
      ]
    },
    {
      "cell_type": "code",
      "execution_count": null,
      "metadata": {
        "execution": {
          "iopub.execute_input": "2022-11-27T10:33:47.537866Z",
          "iopub.status.busy": "2022-11-27T10:33:47.537866Z",
          "iopub.status.idle": "2022-11-27T10:33:57.525866Z",
          "shell.execute_reply": "2022-11-27T10:33:57.525866Z",
          "shell.execute_reply.started": "2022-11-27T10:33:47.537866Z"
        },
        "tags": []
      },
      "outputs": [],
      "source": [
        "df = pd.read_csv('data/kill_match_stats_v2.csv')\n",
        "df.head()"
      ]
    },
    {
      "cell_type": "code",
      "execution_count": null,
      "metadata": {},
      "outputs": [],
      "source": [
        "df.shape"
      ]
    },
    {
      "cell_type": "code",
      "execution_count": null,
      "metadata": {},
      "outputs": [],
      "source": [
        "df.info()"
      ]
    },
    {
      "cell_type": "markdown",
      "metadata": {},
      "source": [
        "## 2.2. Phân bố của dữ liệu trong từng cột\n",
        "### 2.2.1. Các cột tọa độ"
      ]
    },
    {
      "cell_type": "code",
      "execution_count": null,
      "metadata": {},
      "outputs": [],
      "source": [
        "fig, axes = plt.subplots(ncols = 2, nrows = 2, figsize=(12, 8), sharex = 'col', sharey = 'row')\n",
        "fig.subplots_adjust(wspace = 0.1)\n",
        "\n",
        "axes[0][0].hist(df['kx'], bins = 100, edgecolor = 'C0')\n",
        "axes[0][1].hist(df['ky'], bins = 100, edgecolor = 'C0')\n",
        "axes[1][0].hist(df['vx'], bins = 100, color = 'C1', edgecolor = 'C1')\n",
        "axes[1][1].hist(df['vy'], bins = 100, color = 'C1', edgecolor = 'C1')\n",
        "\n",
        "axes[0][0].set_title('kx')\n",
        "axes[0][1].set_title('ky')\n",
        "axes[1][0].set_title('vx')\n",
        "axes[1][1].set_title('vy');"
      ]
    },
    {
      "cell_type": "markdown",
      "metadata": {},
      "source": [
        "### 2.2.2. Cột dis"
      ]
    },
    {
      "cell_type": "code",
      "execution_count": null,
      "metadata": {},
      "outputs": [],
      "source": [
        "fig = plt.figure(figsize=(12, 6))\n",
        "\n",
        "sns.histplot(df['dis'], bins = 1000)"
      ]
    },
    {
      "cell_type": "markdown",
      "metadata": {},
      "source": [
        "### 2.2.3. Cột `time` và `phase`"
      ]
    },
    {
      "cell_type": "code",
      "execution_count": null,
      "metadata": {},
      "outputs": [],
      "source": [
        "fig, axes = plt.subplots(ncols = 2, figsize = (15, 5))\n",
        "\n",
        "axes[0].hist(df['time'], bins = 1000, edgecolor = 'C0')\n",
        "\n",
        "data = df.groupby(by = ['phase']).count().reset_index()[['phase', 'type']]\n",
        "sns.barplot(data = data, x = 'phase', y = 'type', ax = axes[1], color = 'C1')\n",
        "\n",
        "axes[0].set_title('time')\n",
        "axes[1].set_title('phase')"
      ]
    },
    {
      "cell_type": "code",
      "execution_count": null,
      "metadata": {},
      "outputs": [],
      "source": [
        "fig, ax = plt.subplots(figsize=(12, 4))\n",
        "\n",
        "y, _, _ = plt.hist(df['time'], bins = 1000, edgecolor = 'C0')\n",
        "\n",
        "phase_rect = [(0, 720), (721, 1060), (1061, 1300), (1301, 1480), (1481, 1650), (1651, 1760), (1761, 1880), (1881, 1970), (1971, 2150)]\n",
        "\n",
        "for rect in phase_rect:\n",
        "    ax.add_patch(patches.Rectangle((rect[0], 0), rect[1] - rect[0], y.max(), color = 'C1', alpha = 0.2))"
      ]
    },
    {
      "cell_type": "markdown",
      "metadata": {},
      "source": [
        "### 2.2.4. Cột `killed_by` và `type`"
      ]
    },
    {
      "cell_type": "code",
      "execution_count": null,
      "metadata": {},
      "outputs": [],
      "source": [
        "data = df['killed_by'].value_counts().reset_index()\n",
        "\n",
        "fig, ax = plt.subplots(figsize=(8, 40))\n",
        "ax = sns.barplot(data = data, x = 'killed_by', y = 'index', color = 'C0')\n",
        "\n",
        "ax.set_xlim(0, data['killed_by'].max() * 1.3)\n",
        "ax.set_yticklabels([])\n",
        "ax.set_xticklabels([])\n",
        "ax.set_xlabel('')\n",
        "ax.set_ylabel('')\n",
        "ax.grid(visible = False)\n",
        "ax.set_title('Killed_by count')\n",
        "\n",
        "#annotate the bars\n",
        "for i, v in enumerate(data['killed_by']):\n",
        "    ax.text(v + 10000, i, f'{v:,}', va = 'center', fontsize = 11)\n",
        "\n",
        "#use asset item as tick labels\n",
        "for i, v in enumerate(data['index']):  \n",
        "    img = plt.imread('asset/item/' + v +'.png', format = 'png')\n",
        "\n",
        "    imagebox = OffsetImage(img, zoom = 0.07)\n",
        "    imagebox.image.axes = ax\n",
        "\n",
        "    ab = AnnotationBbox(imagebox, (0, 0),\n",
        "                        xybox=(-10000, i),\n",
        "                        xycoords=(\"data\"),\n",
        "                        box_alignment = (1, 0.5),\n",
        "                        bboxprops = {'edgecolor': 'none'})\n",
        "\n",
        "    ax.add_artist(ab)\n"
      ]
    },
    {
      "cell_type": "code",
      "execution_count": null,
      "metadata": {},
      "outputs": [],
      "source": [
        "data = df['type'].value_counts().reset_index()\n",
        "\n",
        "fig, ax = plt.subplots(figsize=(8, 8))\n",
        "ax = sns.barplot(data = data, x = 'type', y = 'index', color = 'C0')\n",
        "\n",
        "ax.set_xlim(0, data['type'].max() * 1.3)\n",
        "ax.set_yticklabels([])\n",
        "ax.set_xticklabels([])\n",
        "ax.set_xlabel('')\n",
        "ax.set_ylabel('')\n",
        "ax.grid(visible = False)\n",
        "ax.set_title('Type count')\n",
        "\n",
        "#annotate the bars\n",
        "for i, v in enumerate(data['type']):\n",
        "    ax.text(v + 100000, i, f'{v:,}', va = 'center', fontsize = 11)\n",
        "\n",
        "#use icon as tick labels\n",
        "for i, v in enumerate(data['index']):  \n",
        "    img = plt.imread('asset/type_item/' + v +'.png')\n",
        "\n",
        "    imagebox = OffsetImage(img, zoom = 0.05)\n",
        "    imagebox.image.axes = ax\n",
        "\n",
        "    ab = AnnotationBbox(imagebox, (0, 0),\n",
        "                        xybox=(-100000, i),\n",
        "                        xycoords=(\"data\"),\n",
        "                        box_alignment = (1, 0.5),\n",
        "                        bboxprops = {'edgecolor': 'none'})\n",
        "\n",
        "    ax.add_artist(ab)"
      ]
    },
    {
      "cell_type": "markdown",
      "metadata": {},
      "source": [
        "## 2.3. Phân bố dữ liệu giữa các cột với nhau\n",
        "### 2.3.1. Đếm `killed_by` theo từng `type`"
      ]
    },
    {
      "cell_type": "code",
      "execution_count": null,
      "metadata": {},
      "outputs": [],
      "source": [
        "datas = [\n",
        "    df[df['type'] == 'AR']['killed_by'].value_counts().reset_index(),\n",
        "    df[(df['type'] == 'SMG') | (df['type'] == 'Shotgun')]['killed_by'].value_counts().reset_index(),\n",
        "    df[(df['type'] == 'DMR') | (df['type'] == 'SR')]['killed_by'].value_counts().reset_index(),\n",
        "    df[(df['type'] == 'Handgun')]['killed_by'].value_counts().reset_index(),\n",
        "    df[(df['type'] == 'Melee')]['killed_by'].value_counts().reset_index(),\n",
        "    df[(df['type'] == 'Throwable') | (df['type'] == 'Zone') | (df['type'] == 'Self') | (df['type'] == 'LMG')]['killed_by'].value_counts().reset_index()\n",
        "]\n",
        "\n",
        "titles = ['AR', 'SMG & Shotgun', 'DMR & SR', 'Handgun', 'Melee', 'Throwable & Zone & Self & LMG']"
      ]
    },
    {
      "cell_type": "code",
      "execution_count": null,
      "metadata": {},
      "outputs": [],
      "source": [
        "fig, axes = plt.subplots(ncols = 2, nrows = 3, figsize = (15, 15))\n",
        "fig.subplots_adjust(hspace = 0.4)\n",
        "\n",
        "for i, ax in enumerate(axes.flat):\n",
        "    sns.barplot(data = datas[i], x = 'index', y = 'killed_by', ax = ax, color = f'C{i}')\n",
        "    ax.set_title(titles[i])\n",
        "\n",
        "    ax.set_xlabel('')\n",
        "    ax.set_ylabel('')\n",
        "    ax.set_yticklabels([])\n",
        "    ax.grid(visible = False)\n",
        "    \n",
        "#annotate the bars\n",
        "for ax in axes.flat:\n",
        "    max_h = max([v.get_height() for v in ax.patches])\n",
        "    ax.set_ylim(0, max_h * 1.15)\n",
        "    for j, v in enumerate(ax.patches):\n",
        "        ax.text(v.get_x() + v.get_width() / 2, v.get_height() + max_h * 0.03, f'{int(v.get_height()):,}', ha = 'center', fontsize = 11)\n",
        "\n",
        "#use asset item as tick labels\n",
        "for ax in axes.flat:\n",
        "    max_h = max([v.get_height() for v in ax.patches])\n",
        "    for i, v in enumerate(ax.get_xticklabels()):\n",
        "        img = plt.imread('asset/item/' + v.get_text() +'.png', format = 'png')\n",
        "\n",
        "        imagebox = OffsetImage(img, zoom = 0.07)\n",
        "        imagebox.image.axes = ax\n",
        "\n",
        "        ab = AnnotationBbox(imagebox, (0, 0),\n",
        "                            xybox=(i, -max_h * 0.15),\n",
        "                            xycoords=(\"data\"),\n",
        "                            box_alignment = (0.5, 0.5),\n",
        "                            bboxprops = {'edgecolor': 'none'})\n",
        "\n",
        "        ax.add_artist(ab)\n",
        "    ax.set_xticklabels([])\n",
        "\n",
        "#save the figure\n",
        "for ax in axes.flat:\n",
        "    extent = ax.get_window_extent().transformed(fig.dpi_scale_trans.inverted())"
      ]
    },
    {
      "cell_type": "markdown",
      "metadata": {},
      "source": [
        "### 2.3.2. Đếm `type` theo `time`"
      ]
    },
    {
      "cell_type": "code",
      "execution_count": null,
      "metadata": {},
      "outputs": [],
      "source": [
        "data = df[['type', 'time', 'killed_by']].groupby(by = ['type', 'time']).count().reset_index()\n",
        "data.columns = ['type', 'time', 'count']"
      ]
    },
    {
      "cell_type": "code",
      "execution_count": null,
      "metadata": {},
      "outputs": [],
      "source": [
        "data['type'].value_counts()[0:5].index"
      ]
    },
    {
      "cell_type": "code",
      "execution_count": null,
      "metadata": {},
      "outputs": [],
      "source": [
        "plt.figure(figsize = (16, 5))\n",
        "sns.lineplot(data = data[data['type'].isin(data['type'].value_counts()[0:6].index)], x = 'time', y = 'count', hue = 'type', palette = 'tab10')\n",
        "plt.title('Top 6 upper of Type count by time')"
      ]
    },
    {
      "cell_type": "code",
      "execution_count": null,
      "metadata": {},
      "outputs": [],
      "source": [
        "plt.figure(figsize = (16, 5))\n",
        "sns.lineplot(data = data[data['type'].isin(data['type'].value_counts()[6:].index)], x = 'time', y = 'count', hue = 'type', palette = 'tab10')\n",
        "plt.title('Top 6 lower of Type count by time')"
      ]
    },
    {
      "cell_type": "markdown",
      "metadata": {},
      "source": [
        "### 2.3.3. Trung bình khoảng cách theo thời gian"
      ]
    },
    {
      "cell_type": "code",
      "execution_count": null,
      "metadata": {
        "execution": {
          "iopub.execute_input": "2022-11-27T10:57:55.446557Z",
          "iopub.status.busy": "2022-11-27T10:57:55.446557Z",
          "iopub.status.idle": "2022-11-27T10:57:56.194400Z",
          "shell.execute_reply": "2022-11-27T10:57:56.194400Z",
          "shell.execute_reply.started": "2022-11-27T10:57:55.446557Z"
        }
      },
      "outputs": [],
      "source": [
        "df[['time', 'dis']].groupby(by = ['time']).mean().plot(figsize = (16, 5), title = 'Average distance by time (included Bluezone)')"
      ]
    },
    {
      "cell_type": "code",
      "execution_count": null,
      "metadata": {
        "execution": {
          "iopub.execute_input": "2022-11-27T10:58:06.305673Z",
          "iopub.status.busy": "2022-11-27T10:58:06.305673Z",
          "iopub.status.idle": "2022-11-27T10:58:08.081325Z",
          "shell.execute_reply": "2022-11-27T10:58:08.081325Z",
          "shell.execute_reply.started": "2022-11-27T10:58:06.305673Z"
        },
        "tags": []
      },
      "outputs": [],
      "source": [
        "df[df['killed_by'] != 'BlueZone'][['time', 'dis']].groupby(by = ['time']).mean().plot(figsize = (16, 5), title = 'Average distance by time (excluded Bluezone)')"
      ]
    },
    {
      "cell_type": "code",
      "execution_count": null,
      "metadata": {},
      "outputs": [],
      "source": [
        "fig, axes = plt.subplots(nrows = 2, figsize = (16, 11))\n",
        "fig.subplots_adjust(hspace = 0.4)\n",
        "\n",
        "data = df[df['type'].isin(df['type'].value_counts()[0:6].index)][['time', 'type', 'dis']].groupby(by = ['time', 'type']).mean().reset_index()\n",
        "sns.scatterplot(data = data, x = 'time', y = 'dis', hue = 'type', palette = 'Set1_r', ax = axes[0], s = 2, edgecolor = None)\n",
        "axes[0].set_title('Top 6 upper of Type average distance by time')\n",
        "\n",
        "data = df[df['type'].isin(df['type'].value_counts()[6:].index)][['time', 'type', 'dis']].groupby(by = ['time', 'type']).mean().reset_index()\n",
        "sns.scatterplot(data = data, x = 'time', y = 'dis', hue = 'type', palette = 'Set1', ax = axes[1], s = 2, edgecolor = None)\n",
        "axes[1].set_title('Top 6 lower of Type average distance by time')"
      ]
    },
    {
      "cell_type": "markdown",
      "metadata": {},
      "source": [
        "### 2.3.4. Phân bố dữ liệu theo tọa độ (2 chiều)"
      ]
    },
    {
      "cell_type": "code",
      "execution_count": null,
      "metadata": {},
      "outputs": [],
      "source": [
        "fig, axes = plt.subplots(ncols = 2, nrows = 2, figsize=(12, 8), sharex = 'col', sharey = 'row')\n",
        "fig.subplots_adjust(wspace = 0.1)\n",
        "\n",
        "axes[0][0].hist(df['kx'], bins = 100, edgecolor = 'C0')\n",
        "axes[0][1].hist(df['ky'], bins = 100, edgecolor = 'C0')\n",
        "axes[1][0].hist(df['vx'], bins = 100, color = 'C1', edgecolor = 'C1')\n",
        "axes[1][1].hist(df['vy'], bins = 100, color = 'C1', edgecolor = 'C1')\n",
        "\n",
        "axes[0][0].set_title('kx')\n",
        "axes[0][1].set_title('ky')\n",
        "axes[1][0].set_title('vx')\n",
        "axes[1][1].set_title('vy');"
      ]
    },
    {
      "cell_type": "markdown",
      "metadata": {},
      "source": [
        "### 2.3.5. Phân bố dữ liệu theo tọa độ và thời gian"
      ]
    },
    {
      "cell_type": "code",
      "execution_count": null,
      "metadata": {
        "execution": {
          "iopub.execute_input": "2022-11-27T03:27:19.718716Z",
          "iopub.status.busy": "2022-11-27T03:27:19.718153Z",
          "iopub.status.idle": "2022-11-27T03:27:20.142085Z",
          "shell.execute_reply": "2022-11-27T03:27:20.139094Z",
          "shell.execute_reply.started": "2022-11-27T03:27:19.718716Z"
        },
        "tags": []
      },
      "outputs": [],
      "source": [
        "img = plt.imread('asset/map/ERANGEL.png')"
      ]
    },
    {
      "cell_type": "code",
      "execution_count": null,
      "metadata": {
        "execution": {
          "iopub.execute_input": "2022-11-27T03:27:33.367779Z",
          "iopub.status.busy": "2022-11-27T03:27:33.367112Z",
          "iopub.status.idle": "2022-11-27T03:30:44.923675Z",
          "shell.execute_reply": "2022-11-27T03:30:44.922677Z",
          "shell.execute_reply.started": "2022-11-27T03:27:33.367779Z"
        },
        "tags": []
      },
      "outputs": [],
      "source": [
        "%matplotlib inline\n",
        "\n",
        "def ax_prunt(ax):\n",
        "    ax.set_xticklabels([])\n",
        "    ax.set_yticklabels([])\n",
        "    ax.set_xlim(0, number_of_bin)\n",
        "    ax.set_ylim(0, number_of_bin)\n",
        "    ax.invert_yaxis()\n",
        "\n",
        "def init():\n",
        "    sns.heatmap(np.zeros((number_of_bin, number_of_bin)), vmin = 0, vmax = 8, cmap = 'nipy_spectral', cbar = False)\n",
        "    \n",
        "    ax_prunt(ax)\n",
        "def animate(i):\n",
        "    data = df[df['time'].isin(range(i, i + 50))][['vx', 'vy']]\n",
        "    data = np.log(plt.hist2d(data['vy'], data['vx'], bins = number_of_bin, range = [[0, 8000], [0, 8000]])[0] + 1)\n",
        "    sns.heatmap(data, cmap = 'nipy_spectral', vmin = 0, vmax = 8, cbar = False)\n",
        "\n",
        "    ax.set_title(f'{i}s - {i + 50}s')\n",
        "    ax_prunt(ax)\n",
        "    print(i)\n",
        "\n",
        "fig, ax = plt.subplots(figsize = (10, 8))\n",
        "number_of_bin = 1600\n",
        "scale = number_of_bin / 1600 * 1640\n",
        "\n",
        "plt.imshow(img[::-1, :, 0], extent = [0, scale, 0, scale], alpha = 0.35, zorder = 3, cmap = 'gray')\n",
        "ax_prunt(ax)\n",
        "sns.heatmap(np.zeros((number_of_bin, number_of_bin)), vmin = 0, vmax = 8, cmap = 'nipy_spectral')\n",
        "\n",
        "anim = animation.FuncAnimation(fig, func = animate, init_func = init, interval = 20, frames = range(1300, df['time'].max() - 40, 20), repeat = False)\n",
        "\n",
        "start_time = time.time()\n",
        "\n",
        "writer = animation.FFMpegWriter(fps=10)\n",
        "anim.save('test3.mp4', writer=writer)\n",
        "\n",
        "print(f'{time.time() - start_time:.2f} sec for saving video')  "
      ]
    },
    {
      "cell_type": "code",
      "execution_count": null,
      "metadata": {},
      "outputs": [],
      "source": [
        "df.shape"
      ]
    },
    {
      "cell_type": "code",
      "execution_count": null,
      "metadata": {},
      "outputs": [],
      "source": [
        "df.info()"
      ]
    }
  ],
  "metadata": {
    "kernelspec": {
      "display_name": "Python 3.10.6 64-bit",
      "language": "python",
      "name": "python3"
    },
    "language_info": {
      "codemirror_mode": {
        "name": "ipython",
        "version": 3
      },
      "file_extension": ".py",
      "mimetype": "text/x-python",
      "name": "python",
      "nbconvert_exporter": "python",
      "pygments_lexer": "ipython3",
      "version": "3.10.6"
    },
    "orig_nbformat": 4,
    "vscode": {
      "interpreter": {
        "hash": "916dbcbb3f70747c44a77c7bcd40155683ae19c65e1c03b4aa3499c5328201f1"
      }
    }
  },
  "nbformat": 4,
  "nbformat_minor": 2
}
