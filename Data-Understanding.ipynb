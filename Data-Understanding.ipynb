{
 "cells": [
  {
   "cell_type": "markdown",
   "metadata": {},
   "source": [
    "# 0. Import Library"
   ]
  },
  {
   "cell_type": "code",
   "execution_count": null,
   "metadata": {
    "execution": {
     "iopub.execute_input": "2022-11-27T10:33:44.216142Z",
     "iopub.status.busy": "2022-11-27T10:33:44.213150Z",
     "iopub.status.idle": "2022-11-27T10:33:47.528881Z",
     "shell.execute_reply": "2022-11-27T10:33:47.526885Z",
     "shell.execute_reply.started": "2022-11-27T10:33:44.215144Z"
    },
    "tags": []
   },
   "outputs": [],
   "source": [
    "import pandas as pd\n",
    "import numpy as np\n",
    "import seaborn as sns\n",
    "import matplotlib.pyplot as plt\n",
    "import matplotlib.patches as patches\n",
    "from matplotlib.offsetbox import (OffsetImage,AnnotationBbox)\n",
    "from matplotlib import transforms\n",
    "import matplotlib.animation as animation\n",
    "import time as time\n",
    "\n",
    "sns.set_theme()"
   ]
  },
  {
   "cell_type": "markdown",
   "metadata": {},
   "source": [
    "# 2. Data Understanding\n",
    "Trên thực tế việc khám phá dữ liệu đã được nhóm thực hiện một phần ở notebook Data Preprocessing. Ở notebook này, nhóm chủ yếu tìm hiểu sự phân bố của dữ liệu ở các cột"
   ]
  },
  {
   "cell_type": "code",
   "execution_count": null,
   "metadata": {
    "execution": {
     "iopub.execute_input": "2022-11-27T10:33:47.537866Z",
     "iopub.status.busy": "2022-11-27T10:33:47.537866Z",
     "iopub.status.idle": "2022-11-27T10:33:57.525866Z",
     "shell.execute_reply": "2022-11-27T10:33:57.525866Z",
     "shell.execute_reply.started": "2022-11-27T10:33:47.537866Z"
    },
    "tags": []
   },
   "outputs": [],
   "source": [
    "df = pd.read_csv('data/kill_match_stats_v2.csv')\n",
    "df.head()"
   ]
  },
  {
   "cell_type": "markdown",
   "metadata": {},
   "source": [
    "### 2.3.3. Trung bình khoảng cách theo thời gian"
   ]
  },
  {
   "cell_type": "code",
   "execution_count": null,
   "metadata": {
    "execution": {
     "iopub.execute_input": "2022-11-27T10:57:55.446557Z",
     "iopub.status.busy": "2022-11-27T10:57:55.446557Z",
     "iopub.status.idle": "2022-11-27T10:57:56.194400Z",
     "shell.execute_reply": "2022-11-27T10:57:56.194400Z",
     "shell.execute_reply.started": "2022-11-27T10:57:55.446557Z"
    }
   },
   "outputs": [],
   "source": [
    "df[['time', 'dis']].groupby(by = ['time']).mean().plot(figsize = (16, 5), title = 'Average distance by time (included Bluezone)')"
   ]
  },
  {
   "cell_type": "code",
   "execution_count": null,
   "metadata": {
    "execution": {
     "iopub.execute_input": "2022-11-27T10:58:06.305673Z",
     "iopub.status.busy": "2022-11-27T10:58:06.305673Z",
     "iopub.status.idle": "2022-11-27T10:58:08.081325Z",
     "shell.execute_reply": "2022-11-27T10:58:08.081325Z",
     "shell.execute_reply.started": "2022-11-27T10:58:06.305673Z"
    },
    "tags": []
   },
   "outputs": [],
   "source": [
    "df[df['killed_by'] != 'BlueZone'][['time', 'dis']].groupby(by = ['time']).mean().plot(figsize = (16, 5), title = 'Average distance by time (excluded Bluezone)')"
   ]
  },
  {
   "cell_type": "code",
   "execution_count": null,
   "metadata": {},
   "outputs": [],
   "source": [
    "fig, axes = plt.subplots(nrows = 2, figsize = (16, 11))\n",
    "fig.subplots_adjust(hspace = 0.4)\n",
    "\n",
    "data = df[df['type'].isin(df['type'].value_counts()[0:6].index)][['time', 'type', 'dis']].groupby(by = ['time', 'type']).mean().reset_index()\n",
    "sns.scatterplot(data = data, x = 'time', y = 'dis', hue = 'type', palette = 'Set1_r', ax = axes[0], s = 2, edgecolor = None)\n",
    "axes[0].set_title('Top 6 upper of Type average distance by time')\n",
    "\n",
    "data = df[df['type'].isin(df['type'].value_counts()[6:].index)][['time', 'type', 'dis']].groupby(by = ['time', 'type']).mean().reset_index()\n",
    "sns.scatterplot(data = data, x = 'time', y = 'dis', hue = 'type', palette = 'Set1', ax = axes[1], s = 2, edgecolor = None)\n",
    "axes[1].set_title('Top 6 lower of Type average distance by time')"
   ]
  },
  {
   "cell_type": "markdown",
   "metadata": {},
   "source": [
    "### 2.3.4. Phân bố dữ liệu theo tọa độ (2 chiều)\n",
    "Ở phần trước, nhóm đã biểu diễn phân bố của các cột tọa độ trên 1 chiều (trục ngang). Ở phần này nhóm sẽ biểu diễn phân bố các cột tọa độ theo 2 chiều. "
   ]
  },
  {
   "cell_type": "code",
   "execution_count": null,
   "metadata": {},
   "outputs": [],
   "source": [
    "fig, axes = plt.subplots(ncols = 2, figsize = (18, 8))\n",
    "sns.scatterplot(data = df, x = 'kx', y = 'ky', s = 0.1, ax = axes[0])\n",
    "sns.scatterplot(data = df, x = 'vx', y = 'vy', s = 0.1, ax = axes[1])\n",
    "\n",
    "axes[0].set_title('Killer position')\n",
    "axes[1].set_title('Victim position')"
   ]
  },
  {
   "cell_type": "code",
   "execution_count": null,
   "metadata": {},
   "outputs": [],
   "source": [
    "fig, axes = plt.subplots(ncols = 2, figsize = (18, 8), gridspec_kw={'width_ratios': [8, 10]})\n",
    "fig.subplots_adjust(wspace = 0.1)\n",
    "img = plt.imread('asset/map/ERANGEL.png')\n",
    "\n",
    "number_of_bin = 1600\n",
    "\n",
    "axes[0].imshow(img[::-1, :, 0], extent = [0, 1640, 0, 1640], alpha = 0.35, zorder = 3, cmap = 'gray')\n",
    "axes[1].imshow(img[::-1, :, 0], extent = [0, 1640, 0, 1640], alpha = 0.35, zorder = 3, cmap = 'gray')\n",
    "\n",
    "sns.heatmap(\n",
    "    np.log10(plt.hist2d(df['ky'], df['kx'], bins = number_of_bin, range = [[0, 8000], [0, 8000]])[0] + 1),\n",
    "    cbar = False, cmap = 'nipy_spectral', ax = axes[0], vmin = 0, vmax = 4)\n",
    "\n",
    "axes[0].set_xticklabels([])\n",
    "axes[0].set_yticklabels([])\n",
    "axes[0].set_title('Killer position')\n",
    "\n",
    "sns.heatmap(\n",
    "    np.log10(plt.hist2d(df['vy'], df['vx'], bins = number_of_bin, range = [[0, 8000], [0, 8000]])[0] + 1), \n",
    "    cmap = 'nipy_spectral', ax = axes[1], vmin = 0, vmax = 4)\n",
    "\n",
    "axes[1].set_xticklabels([])\n",
    "axes[1].set_yticklabels([])\n",
    "axes[1].set_title('Victim position')\n",
    "\n",
    "plt.savefig('visualization/heatmap_position.png', dpi = 1200, bbox_inches = 'tight')"
   ]
  },
  {
   "cell_type": "code",
   "execution_count": null,
   "metadata": {},
   "outputs": [],
   "source": [
    "datas = {kill_type : df[df['type'] == kill_type][['vx', 'vy']] for kill_type in df['type'].value_counts().index}\n",
    "img = plt.imread('asset/map/ERANGEL.png')"
   ]
  },
  {
   "cell_type": "code",
   "execution_count": null,
   "metadata": {},
   "outputs": [],
   "source": [
    "def heatmap_plot(kill_type):\n",
    "    plt.figure(figsize = (10, 8))\n",
    "\n",
    "    number_of_bin = 1600\n",
    "\n",
    "    plt.imshow(img[::-1, :, 0], extent = [0, 1640, 0, 1640], alpha = 0.35, zorder = 3, cmap = 'gray')\n",
    "\n",
    "    ax =  sns.heatmap(\n",
    "        np.log(plt.hist2d(datas[kill_type]['vy'], datas[kill_type]['vx'], bins = number_of_bin, range = [[0, 8000], [0, 8000]])[0] + 1), \n",
    "        cmap = 'nipy_spectral', vmin = 0, vmax = 8)\n",
    "\n",
    "    ax.set_xticklabels([])\n",
    "    ax.set_yticklabels([])\n",
    "    ax.set_title('Victim position by ' + kill_type)\n",
    "    ax.set_xlim(0, number_of_bin)\n",
    "    ax.set_ylim(0, number_of_bin)\n",
    "    ax.invert_yaxis()\n",
    "\n",
    "    plt.savefig(f'visualization/heatmap_position_by_{kill_type}.png', dpi = 1200, bbox_inches = 'tight')"
   ]
  },
  {
   "cell_type": "code",
   "execution_count": null,
   "metadata": {},
   "outputs": [],
   "source": [
    "for kill_type in df['type'].value_counts().index:\n",
    "    heatmap_plot(kill_type)"
   ]
  },
  {
   "cell_type": "markdown",
   "metadata": {},
   "source": [
    "### 2.3.5. Phân bố dữ liệu theo tọa độ và thời gian\n",
    "Ở phần trên nhóm đã thực hiện trực quan hóa số lượng victim theo tọa độ, ở phần này nhóm tiếp tục phát triển thêm một chiều thời gian để thể hiện sự phân bố của victim trên bản đồ trong suốt trận đấu."
   ]
  },
  {
   "cell_type": "code",
   "execution_count": null,
   "metadata": {
    "execution": {
     "iopub.execute_input": "2022-11-27T03:27:19.718716Z",
     "iopub.status.busy": "2022-11-27T03:27:19.718153Z",
     "iopub.status.idle": "2022-11-27T03:27:20.142085Z",
     "shell.execute_reply": "2022-11-27T03:27:20.139094Z",
     "shell.execute_reply.started": "2022-11-27T03:27:19.718716Z"
    },
    "tags": []
   },
   "outputs": [],
   "source": [
    "img = plt.imread('asset/map/ERANGEL.png')"
   ]
  },
  {
   "cell_type": "code",
   "execution_count": null,
   "metadata": {
    "execution": {
     "iopub.execute_input": "2022-11-27T03:27:33.367779Z",
     "iopub.status.busy": "2022-11-27T03:27:33.367112Z",
     "iopub.status.idle": "2022-11-27T03:30:44.923675Z",
     "shell.execute_reply": "2022-11-27T03:30:44.922677Z",
     "shell.execute_reply.started": "2022-11-27T03:27:33.367779Z"
    },
    "tags": []
   },
   "outputs": [],
   "source": [
    "%matplotlib inline\n",
    "\n",
    "def ax_prunt(ax):\n",
    "    ax.set_xticklabels([])\n",
    "    ax.set_yticklabels([])\n",
    "    ax.set_xlim(0, number_of_bin)\n",
    "    ax.set_ylim(0, number_of_bin)\n",
    "    ax.invert_yaxis()\n",
    "\n",
    "def init():\n",
    "    sns.heatmap(np.zeros((number_of_bin, number_of_bin)), vmin = 0, vmax = 8, cmap = 'nipy_spectral', cbar = False)\n",
    "    \n",
    "    ax_prunt(ax)\n",
    "def animate(i):\n",
    "    data = df[df['time'].isin(range(i, i + 50))][['vx', 'vy']]\n",
    "    data = np.log(plt.hist2d(data['vy'], data['vx'], bins = number_of_bin, range = [[0, 8000], [0, 8000]])[0] + 1)\n",
    "    sns.heatmap(data, cmap = 'nipy_spectral', vmin = 0, vmax = 8, cbar = False)\n",
    "\n",
    "    ax.set_title(f'{i}s - {i + 50}s')\n",
    "    ax_prunt(ax)\n",
    "    print(i)\n",
    "\n",
    "fig, ax = plt.subplots(figsize = (10, 8))\n",
    "number_of_bin = 1600\n",
    "scale = number_of_bin / 1600 * 1640\n",
    "\n",
    "plt.imshow(img[::-1, :, 0], extent = [0, scale, 0, scale], alpha = 0.35, zorder = 3, cmap = 'gray')\n",
    "ax_prunt(ax)\n",
    "sns.heatmap(np.zeros((number_of_bin, number_of_bin)), vmin = 0, vmax = 8, cmap = 'nipy_spectral')\n",
    "\n",
    "anim = animation.FuncAnimation(fig, func = animate, init_func = init, interval = 20, frames = range(1300, df['time'].max() - 40, 20), repeat = False)\n",
    "\n",
    "start_time = time.time()\n",
    "\n",
    "writer = animation.FFMpegWriter(fps=10)\n",
    "anim.save('test3.mp4', writer=writer)\n",
    "\n",
    "print(f'{time.time() - start_time:.2f} sec for saving video')  "
   ]
  }
 ],
 "metadata": {
  "kernelspec": {
   "display_name": "Python 3.8.8 ('min_ds-env')",
   "language": "python",
   "name": "python3"
  },
  "language_info": {
   "codemirror_mode": {
    "name": "ipython",
    "version": 3
   },
   "file_extension": ".py",
   "mimetype": "text/x-python",
   "name": "python",
   "nbconvert_exporter": "python",
   "pygments_lexer": "ipython3",
   "version": "3.8.8"
  },
  "orig_nbformat": 4,
  "vscode": {
   "interpreter": {
    "hash": "8761cdb9765bcae96d62febb66cb232c06e88303db4bdff047a89cac81065564"
   }
  }
 },
 "nbformat": 4,
 "nbformat_minor": 2
}
