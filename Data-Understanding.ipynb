{
 "cells": [
  {
   "cell_type": "markdown",
   "metadata": {},
   "source": [
    "# 0. Import Library"
   ]
  },
  {
   "cell_type": "code",
<<<<<<< HEAD
   "execution_count": null,
=======
   "execution_count": 1,
>>>>>>> 710b25451deb420d73ea219565f6ec76bbf4576d
   "metadata": {
    "execution": {
     "iopub.execute_input": "2022-11-27T10:33:44.216142Z",
     "iopub.status.busy": "2022-11-27T10:33:44.213150Z",
     "iopub.status.idle": "2022-11-27T10:33:47.528881Z",
     "shell.execute_reply": "2022-11-27T10:33:47.526885Z",
     "shell.execute_reply.started": "2022-11-27T10:33:44.215144Z"
    },
    "tags": []
   },
   "outputs": [],
   "source": [
    "import pandas as pd\n",
    "import numpy as np\n",
    "import seaborn as sns\n",
    "import matplotlib.pyplot as plt\n",
    "import matplotlib.patches as patches\n",
    "from matplotlib.offsetbox import (OffsetImage,AnnotationBbox)\n",
    "from matplotlib import transforms\n",
    "import matplotlib.animation as animation\n",
    "import time as time\n",
    "\n",
    "sns.set_theme()"
   ]
  },
  {
   "cell_type": "markdown",
   "metadata": {},
   "source": [
    "# 2. Data Understanding\n",
<<<<<<< HEAD
    "Trên thực tế việc khám phá dữ liệu đã được nhóm thực hiện một phần ở notebook Data Preprocessing. Ở notebook này, nhóm chủ yếu tìm hiểu sự phân bố của dữ liệu ở các cột"
=======
    "Trên thực tế việc khám phá dữ liệu đã được nhóm thực hiện một phần ở notebook Data Preprocessing. Ở notebook này, nhóm chủ yếu tìm hiểu sự phân bố của dữ liệu ở các cột\n",
    "# 2.1. Tổng quan kích thước, kiểu dữ liệu"
>>>>>>> 710b25451deb420d73ea219565f6ec76bbf4576d
   ]
  },
  {
   "cell_type": "code",
   "execution_count": null,
   "metadata": {
    "execution": {
     "iopub.execute_input": "2022-11-27T10:33:47.537866Z",
     "iopub.status.busy": "2022-11-27T10:33:47.537866Z",
     "iopub.status.idle": "2022-11-27T10:33:57.525866Z",
     "shell.execute_reply": "2022-11-27T10:33:57.525866Z",
     "shell.execute_reply.started": "2022-11-27T10:33:47.537866Z"
    },
    "tags": []
   },
   "outputs": [],
   "source": [
    "df = pd.read_csv('data/kill_match_stats_v2.csv')\n",
    "df.head()"
   ]
  },
  {
<<<<<<< HEAD
   "cell_type": "markdown",
   "metadata": {},
   "source": [
    "### 2.3.3. Trung bình khoảng cách theo thời gian"
   ]
  },
  {
   "cell_type": "code",
   "execution_count": null,
   "metadata": {
    "execution": {
     "iopub.execute_input": "2022-11-27T10:57:55.446557Z",
     "iopub.status.busy": "2022-11-27T10:57:55.446557Z",
     "iopub.status.idle": "2022-11-27T10:57:56.194400Z",
     "shell.execute_reply": "2022-11-27T10:57:56.194400Z",
     "shell.execute_reply.started": "2022-11-27T10:57:55.446557Z"
    }
   },
   "outputs": [],
   "source": [
    "df[['time', 'dis']].groupby(by = ['time']).mean().plot(figsize = (16, 5), title = 'Average distance by time (included Bluezone)')"
   ]
  },
  {
   "cell_type": "code",
   "execution_count": null,
   "metadata": {
    "execution": {
     "iopub.execute_input": "2022-11-27T10:58:06.305673Z",
     "iopub.status.busy": "2022-11-27T10:58:06.305673Z",
     "iopub.status.idle": "2022-11-27T10:58:08.081325Z",
     "shell.execute_reply": "2022-11-27T10:58:08.081325Z",
     "shell.execute_reply.started": "2022-11-27T10:58:06.305673Z"
    },
    "tags": []
   },
   "outputs": [],
   "source": [
    "df[df['killed_by'] != 'BlueZone'][['time', 'dis']].groupby(by = ['time']).mean().plot(figsize = (16, 5), title = 'Average distance by time (excluded Bluezone)')"
   ]
  },
  {
=======
>>>>>>> 710b25451deb420d73ea219565f6ec76bbf4576d
   "cell_type": "code",
   "execution_count": null,
   "metadata": {},
   "outputs": [],
   "source": [
<<<<<<< HEAD
    "fig, axes = plt.subplots(nrows = 2, figsize = (16, 11))\n",
    "fig.subplots_adjust(hspace = 0.4)\n",
    "\n",
    "data = df[df['type'].isin(df['type'].value_counts()[0:6].index)][['time', 'type', 'dis']].groupby(by = ['time', 'type']).mean().reset_index()\n",
    "sns.scatterplot(data = data, x = 'time', y = 'dis', hue = 'type', palette = 'Set1_r', ax = axes[0], s = 2, edgecolor = None)\n",
    "axes[0].set_title('Top 6 upper of Type average distance by time')\n",
    "\n",
    "data = df[df['type'].isin(df['type'].value_counts()[6:].index)][['time', 'type', 'dis']].groupby(by = ['time', 'type']).mean().reset_index()\n",
    "sns.scatterplot(data = data, x = 'time', y = 'dis', hue = 'type', palette = 'Set1', ax = axes[1], s = 2, edgecolor = None)\n",
    "axes[1].set_title('Top 6 lower of Type average distance by time')"
=======
    "df.shape"
>>>>>>> 710b25451deb420d73ea219565f6ec76bbf4576d
   ]
  },
  {
   "cell_type": "markdown",
   "metadata": {},
   "source": [
<<<<<<< HEAD
    "### 2.3.4. Phân bố dữ liệu theo tọa độ (2 chiều)\n",
    "Ở phần trước, nhóm đã biểu diễn phân bố của các cột tọa độ trên 1 chiều (trục ngang). Ở phần này nhóm sẽ biểu diễn phân bố các cột tọa độ theo 2 chiều. "
   ]
  },
  {
   "cell_type": "code",
   "execution_count": null,
   "metadata": {},
   "outputs": [],
   "source": [
    "fig, axes = plt.subplots(ncols = 2, figsize = (18, 8))\n",
    "sns.scatterplot(data = df, x = 'kx', y = 'ky', s = 0.1, ax = axes[0])\n",
    "sns.scatterplot(data = df, x = 'vx', y = 'vy', s = 0.1, ax = axes[1])\n",
    "\n",
    "axes[0].set_title('Killer position')\n",
    "axes[1].set_title('Victim position')"
=======
    "Dữ liệu có 8,253,143 dòng vaf 9 cột\n",
    "\n",
    "Mỗi dòng mô tả một kill diễn ra trong trận đấu, gồm:\n",
    "- `killed_by`: nguyên nhân gây kill\n",
    "- `kx` và `ky`: tọa của killer trên bản đồ \n",
    "- `time`: thời điểm kill xảy ra (tính từ đầu trận đấu)\n",
    "- `vx` và `vy`: tọa của victim trên bản đồ\n",
    "- `dis`: khoảng cách giữa killer và victim\n",
    "- `phase`: phase diễn ra kill\n",
    "- `type`: phân loại nguyên nhân gây kill"
>>>>>>> 710b25451deb420d73ea219565f6ec76bbf4576d
   ]
  },
  {
   "cell_type": "code",
   "execution_count": null,
   "metadata": {},
   "outputs": [],
   "source": [
<<<<<<< HEAD
    "fig, axes = plt.subplots(ncols = 2, figsize = (18, 8), gridspec_kw={'width_ratios': [8, 10]})\n",
    "fig.subplots_adjust(wspace = 0.1)\n",
    "img = plt.imread('asset/map/ERANGEL.png')\n",
    "\n",
    "number_of_bin = 1600\n",
    "\n",
    "axes[0].imshow(img[::-1, :, 0], extent = [0, 1640, 0, 1640], alpha = 0.35, zorder = 3, cmap = 'gray')\n",
    "axes[1].imshow(img[::-1, :, 0], extent = [0, 1640, 0, 1640], alpha = 0.35, zorder = 3, cmap = 'gray')\n",
    "\n",
    "sns.heatmap(\n",
    "    np.log10(plt.hist2d(df['ky'], df['kx'], bins = number_of_bin, range = [[0, 8000], [0, 8000]])[0] + 1),\n",
    "    cbar = False, cmap = 'nipy_spectral', ax = axes[0], vmin = 0, vmax = 4)\n",
    "\n",
    "axes[0].set_xticklabels([])\n",
    "axes[0].set_yticklabels([])\n",
    "axes[0].set_title('Killer position')\n",
    "\n",
    "sns.heatmap(\n",
    "    np.log10(plt.hist2d(df['vy'], df['vx'], bins = number_of_bin, range = [[0, 8000], [0, 8000]])[0] + 1), \n",
    "    cmap = 'nipy_spectral', ax = axes[1], vmin = 0, vmax = 4)\n",
    "\n",
    "axes[1].set_xticklabels([])\n",
    "axes[1].set_yticklabels([])\n",
    "axes[1].set_title('Victim position')\n",
    "\n",
    "plt.savefig('visualization/heatmap_position.png', dpi = 1200, bbox_inches = 'tight')"
   ]
  },
  {
   "cell_type": "code",
   "execution_count": null,
   "metadata": {},
   "outputs": [],
   "source": [
    "datas = {kill_type : df[df['type'] == kill_type][['vx', 'vy']] for kill_type in df['type'].value_counts().index}\n",
    "img = plt.imread('asset/map/ERANGEL.png')"
   ]
  },
  {
   "cell_type": "code",
   "execution_count": null,
   "metadata": {},
   "outputs": [],
   "source": [
    "def heatmap_plot(kill_type):\n",
    "    plt.figure(figsize = (10, 8))\n",
    "\n",
    "    number_of_bin = 1600\n",
    "\n",
    "    plt.imshow(img[::-1, :, 0], extent = [0, 1640, 0, 1640], alpha = 0.35, zorder = 3, cmap = 'gray')\n",
    "\n",
    "    ax =  sns.heatmap(\n",
    "        np.log(plt.hist2d(datas[kill_type]['vy'], datas[kill_type]['vx'], bins = number_of_bin, range = [[0, 8000], [0, 8000]])[0] + 1), \n",
    "        cmap = 'nipy_spectral', vmin = 0, vmax = 8)\n",
    "\n",
    "    ax.set_xticklabels([])\n",
    "    ax.set_yticklabels([])\n",
    "    ax.set_title('Victim position by ' + kill_type)\n",
    "    ax.set_xlim(0, number_of_bin)\n",
    "    ax.set_ylim(0, number_of_bin)\n",
    "    ax.invert_yaxis()\n",
    "\n",
    "    plt.savefig(f'visualization/heatmap_position_by_{kill_type}.png', dpi = 1200, bbox_inches = 'tight')"
   ]
  },
  {
   "cell_type": "code",
   "execution_count": null,
   "metadata": {},
   "outputs": [],
   "source": [
    "for kill_type in df['type'].value_counts().index:\n",
    "    heatmap_plot(kill_type)"
=======
    "df.info()"
   ]
  },
  {
   "cell_type": "markdown",
   "metadata": {},
   "source": [
    "Dữ liệu của các cột:\n",
    "- `killed_by` và `type`: nominal\n",
    "- `kx`, `ky`, `vx`, `vy`, `dis`: numerical\n",
    "- `time` và `phase`: 2 cột này mang ý nghĩa thời điểm, nên nhóm xếp 2 cột này vào nhóm dữ liệu `thời gian`"
   ]
  },
  {
   "cell_type": "markdown",
   "metadata": {},
   "source": [
    "## 2.2. Phân bố của dữ liệu trong từng cột\n",
    "### 2.2.1. Các cột tọa độ"
   ]
  },
  {
   "cell_type": "code",
   "execution_count": null,
   "metadata": {},
   "outputs": [],
   "source": [
    "fig, axes = plt.subplots(ncols = 2, nrows = 2, figsize=(12, 8), sharex = 'col', sharey = 'row')\n",
    "fig.subplots_adjust(wspace = 0.1)\n",
    "\n",
    "axes[0][0].hist(df['kx'], bins = 100, edgecolor = 'C0')\n",
    "axes[0][1].hist(df['ky'], bins = 100, edgecolor = 'C0')\n",
    "axes[1][0].hist(df['vx'], bins = 100, color = 'C1', edgecolor = 'C1')\n",
    "axes[1][1].hist(df['vy'], bins = 100, color = 'C1', edgecolor = 'C1')\n",
    "\n",
    "axes[0][0].set_title('kx')\n",
    "axes[0][1].set_title('ky')\n",
    "axes[1][0].set_title('vx')\n",
    "axes[1][1].set_title('vy');"
>>>>>>> 710b25451deb420d73ea219565f6ec76bbf4576d
   ]
  },
  {
   "cell_type": "markdown",
   "metadata": {},
   "source": [
<<<<<<< HEAD
    "### 2.3.5. Phân bố dữ liệu theo tọa độ và thời gian\n",
    "Ở phần trên nhóm đã thực hiện trực quan hóa số lượng victim theo tọa độ, ở phần này nhóm tiếp tục phát triển thêm một chiều thời gian để thể hiện sự phân bố của victim trên bản đồ trong suốt trận đấu."
   ]
  },
  {
   "cell_type": "code",
   "execution_count": null,
   "metadata": {
    "execution": {
     "iopub.execute_input": "2022-11-27T03:27:19.718716Z",
     "iopub.status.busy": "2022-11-27T03:27:19.718153Z",
     "iopub.status.idle": "2022-11-27T03:27:20.142085Z",
     "shell.execute_reply": "2022-11-27T03:27:20.139094Z",
     "shell.execute_reply.started": "2022-11-27T03:27:19.718716Z"
    },
    "tags": []
   },
   "outputs": [],
   "source": [
    "img = plt.imread('asset/map/ERANGEL.png')"
   ]
  },
  {
   "cell_type": "code",
   "execution_count": null,
   "metadata": {
    "execution": {
     "iopub.execute_input": "2022-11-27T03:27:33.367779Z",
     "iopub.status.busy": "2022-11-27T03:27:33.367112Z",
     "iopub.status.idle": "2022-11-27T03:30:44.923675Z",
     "shell.execute_reply": "2022-11-27T03:30:44.922677Z",
     "shell.execute_reply.started": "2022-11-27T03:27:33.367779Z"
    },
    "tags": []
   },
   "outputs": [],
   "source": [
    "%matplotlib inline\n",
    "\n",
    "def ax_prunt(ax):\n",
    "    ax.set_xticklabels([])\n",
    "    ax.set_yticklabels([])\n",
    "    ax.set_xlim(0, number_of_bin)\n",
    "    ax.set_ylim(0, number_of_bin)\n",
    "    ax.invert_yaxis()\n",
    "\n",
    "def init():\n",
    "    sns.heatmap(np.zeros((number_of_bin, number_of_bin)), vmin = 0, vmax = 8, cmap = 'nipy_spectral', cbar = False)\n",
    "    \n",
    "    ax_prunt(ax)\n",
    "def animate(i):\n",
    "    data = df[df['time'].isin(range(i, i + 50))][['vx', 'vy']]\n",
    "    data = np.log(plt.hist2d(data['vy'], data['vx'], bins = number_of_bin, range = [[0, 8000], [0, 8000]])[0] + 1)\n",
    "    sns.heatmap(data, cmap = 'nipy_spectral', vmin = 0, vmax = 8, cbar = False)\n",
    "\n",
    "    ax.set_title(f'{i}s - {i + 50}s')\n",
    "    ax_prunt(ax)\n",
    "    print(i)\n",
    "\n",
    "fig, ax = plt.subplots(figsize = (10, 8))\n",
    "number_of_bin = 1600\n",
    "scale = number_of_bin / 1600 * 1640\n",
    "\n",
    "plt.imshow(img[::-1, :, 0], extent = [0, scale, 0, scale], alpha = 0.35, zorder = 3, cmap = 'gray')\n",
    "ax_prunt(ax)\n",
    "sns.heatmap(np.zeros((number_of_bin, number_of_bin)), vmin = 0, vmax = 8, cmap = 'nipy_spectral')\n",
    "\n",
    "anim = animation.FuncAnimation(fig, func = animate, init_func = init, interval = 20, frames = range(1300, df['time'].max() - 40, 20), repeat = False)\n",
    "\n",
    "start_time = time.time()\n",
    "\n",
    "writer = animation.FFMpegWriter(fps=10)\n",
    "anim.save('test3.mp4', writer=writer)\n",
    "\n",
    "print(f'{time.time() - start_time:.2f} sec for saving video')  "
=======
    "Cả 4 cột tọa độ đều phân bố trong khoảng từ 0 tới 8000:\n",
    "- Tọa độ tập trung của killer và victim nhìn chung khá giống nhau\n",
    "- Đối với các tọa độ x, có khoảng 3 cụm đỉnh lần lượt ở `1500 - hơn 2000`, `3500 - 4500` và `5500 - 6500`\n",
    "- Đối với các tọa độ y, có một cụm đỉnh lớn trong khoảng `3000 - 4500` và một đỉnh riêng lẻ ở khoảng `6500`\n",
    "- Vị trí của các cụm sẽ được giải thích ở phần sau, khi nhóm sử dụng nhiều các visualization hơn."
   ]
  },
  {
   "cell_type": "markdown",
   "metadata": {},
   "source": [
    "### 2.2.2. Cột dis"
>>>>>>> 710b25451deb420d73ea219565f6ec76bbf4576d
   ]
  },
  {
   "cell_type": "code",
   "execution_count": null,
   "metadata": {},
   "outputs": [],
<<<<<<< HEAD
   "source": []
=======
   "source": [
    "fig = plt.figure(figsize=(12, 6))\n",
    "\n",
    "sns.histplot(df['dis'], bins = 1000)"
   ]
  },
  {
   "cell_type": "markdown",
   "metadata": {},
   "source": [
    "Cột `dis` phân bố từ 0 tới 1000 (do nhóm đã thực hiện lọc ở phần Data Preprocessing), tập trung cao nhất ở mức 0, số lượng kill giảm dần khi dis tăng lên (có vẻ là theo hàm log)"
   ]
  },
  {
   "cell_type": "markdown",
   "metadata": {},
   "source": [
    "### 2.2.3. Cột `time` và `phase`"
   ]
  },
  {
   "cell_type": "code",
   "execution_count": null,
   "metadata": {},
   "outputs": [],
   "source": [
    "fig, axes = plt.subplots(ncols = 2, figsize = (15, 5))\n",
    "\n",
    "axes[0].hist(df['time'], bins = 1000, edgecolor = 'C0')\n",
    "\n",
    "data = df.groupby(by = ['phase']).count().reset_index()[['phase', 'type']]\n",
    "sns.barplot(data = data, x = 'phase', y = 'type', ax = axes[1], color = 'C1')\n",
    "\n",
    "axes[0].set_title('time')\n",
    "axes[1].set_title('phase')"
   ]
  },
  {
   "cell_type": "markdown",
   "metadata": {},
   "source": [
    "- Đa số kill diễn ra ở phase 1, giảm dần ở các phase tiếp theo. Có thể do ở phase 1, các player vừa nhảy dù xuống, nhiều player sẽ nhảy dù vào cùng những địa điểm thuận lợi, dẫn tới giao tranh xảy ra vào phase 1 là cao nhất. Sau đó nhiều player tử trận, giao tranh giảm xuống, số lượng kill cũng giảm theo\n",
    "- Khi quan sát histogram của time, ta nhận thấy có một số đỉnh cao đột ngột từ khoảng 1500s trở về sau, khi xem xét bảng thời gian bắt đầu và kết thúc của các phase dưới đây, ta nhận ra thời điểm kill tăng lên là ở các khoảng thời gian chuyển tiếp từ phase này sang phase kia, khi vòng bluezone thu vào, buộc người chơi phải di chuyển khỏi các nơi trú ẩn. Thêm vào đó là số lượng kill gây ra bởi sát thương từ bluezone, dẫn tới số lượng kill tăng cao. Nhóm kết hợp các đường khoảng đánh dấu phase ở histogram bên dưới để làm nổi bật điều này\n",
    "\n",
    "|Phase|Bắt đầu|Kết thúc|\n",
    "|-----|-------|--------|\n",
    "|1|121|720|\n",
    "|2|721|1060|\n",
    "|3|1061|1300|\n",
    "|4|1301|1480|\n",
    "|5|1481|1650|\n",
    "|6|1651|1760|\n",
    "|7|1761|1880|\n",
    "|8|1881|1970|\n",
    "|9|1971|2150|"
   ]
  },
  {
   "cell_type": "code",
   "execution_count": null,
   "metadata": {},
   "outputs": [],
   "source": [
    "fig, ax = plt.subplots(figsize=(12, 4))\n",
    "\n",
    "y, _, _ = plt.hist(df['time'], bins = 1000, edgecolor = 'C0')\n",
    "\n",
    "phase_rect = [(0, 720), (721, 1060), (1061, 1300), (1301, 1480), (1481, 1650), (1651, 1760), (1761, 1880), (1881, 1970), (1971, 2150)]\n",
    "\n",
    "for rect in phase_rect:\n",
    "    ax.add_patch(patches.Rectangle((rect[0], 0), rect[1] - rect[0], y.max(), color = 'C1', alpha = 0.2))"
   ]
>>>>>>> 710b25451deb420d73ea219565f6ec76bbf4576d
  }
 ],
 "metadata": {
  "kernelspec": {
   "display_name": "Python 3.8.8 ('min_ds-env')",
   "language": "python",
   "name": "python3"
  },
  "language_info": {
   "codemirror_mode": {
    "name": "ipython",
    "version": 3
   },
   "file_extension": ".py",
   "mimetype": "text/x-python",
   "name": "python",
   "nbconvert_exporter": "python",
   "pygments_lexer": "ipython3",
   "version": "3.8.8"
  },
  "orig_nbformat": 4,
  "vscode": {
   "interpreter": {
<<<<<<< HEAD
    "hash": "8761cdb9765bcae96d62febb66cb232c06e88303db4bdff047a89cac81065564"
=======
    "hash": "ececfb6bf31042b107d3c91c66aeca0ca911791a1728d26b711567c0789e643e"
>>>>>>> 710b25451deb420d73ea219565f6ec76bbf4576d
   }
  }
 },
 "nbformat": 4,
 "nbformat_minor": 2
}
