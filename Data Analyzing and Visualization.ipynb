{
 "cells": [
  {
   "cell_type": "markdown",
   "metadata": {},
   "source": [
    "# 0. Import Library"
   ]
  },
  {
   "cell_type": "code",
   "execution_count": 1,
   "metadata": {
    "execution": {
     "iopub.execute_input": "2022-11-27T10:33:44.216142Z",
     "iopub.status.busy": "2022-11-27T10:33:44.213150Z",
     "iopub.status.idle": "2022-11-27T10:33:47.528881Z",
     "shell.execute_reply": "2022-11-27T10:33:47.526885Z",
     "shell.execute_reply.started": "2022-11-27T10:33:44.215144Z"
    },
    "tags": []
   },
   "outputs": [],
   "source": [
    "import pandas as pd\n",
    "import numpy as np\n",
    "import seaborn as sns\n",
    "import matplotlib.pyplot as plt\n",
    "import time\n",
    "\n",
    "sns.set_theme()"
   ]
  },
  {
   "cell_type": "code",
   "execution_count": 2,
   "metadata": {},
   "outputs": [
    {
     "data": {
      "text/html": [
       "<div>\n",
       "<style scoped>\n",
       "    .dataframe tbody tr th:only-of-type {\n",
       "        vertical-align: middle;\n",
       "    }\n",
       "\n",
       "    .dataframe tbody tr th {\n",
       "        vertical-align: top;\n",
       "    }\n",
       "\n",
       "    .dataframe thead th {\n",
       "        text-align: right;\n",
       "    }\n",
       "</style>\n",
       "<table border=\"1\" class=\"dataframe\">\n",
       "  <thead>\n",
       "    <tr style=\"text-align: right;\">\n",
       "      <th></th>\n",
       "      <th>killed_by</th>\n",
       "      <th>type</th>\n",
       "      <th>time</th>\n",
       "      <th>phase</th>\n",
       "      <th>dis</th>\n",
       "      <th>kx</th>\n",
       "      <th>ky</th>\n",
       "      <th>vx</th>\n",
       "      <th>vy</th>\n",
       "    </tr>\n",
       "  </thead>\n",
       "  <tbody>\n",
       "    <tr>\n",
       "      <th>0</th>\n",
       "      <td>M16A4</td>\n",
       "      <td>AR</td>\n",
       "      <td>1035</td>\n",
       "      <td>2</td>\n",
       "      <td>194</td>\n",
       "      <td>4970</td>\n",
       "      <td>3126</td>\n",
       "      <td>4978</td>\n",
       "      <td>3320</td>\n",
       "    </tr>\n",
       "    <tr>\n",
       "      <th>1</th>\n",
       "      <td>AKM</td>\n",
       "      <td>AR</td>\n",
       "      <td>1422</td>\n",
       "      <td>4</td>\n",
       "      <td>7</td>\n",
       "      <td>4604</td>\n",
       "      <td>4147</td>\n",
       "      <td>4598</td>\n",
       "      <td>4144</td>\n",
       "    </tr>\n",
       "    <tr>\n",
       "      <th>2</th>\n",
       "      <td>AKM</td>\n",
       "      <td>AR</td>\n",
       "      <td>1210</td>\n",
       "      <td>3</td>\n",
       "      <td>8</td>\n",
       "      <td>4880</td>\n",
       "      <td>3472</td>\n",
       "      <td>4874</td>\n",
       "      <td>3477</td>\n",
       "    </tr>\n",
       "    <tr>\n",
       "      <th>3</th>\n",
       "      <td>SKS</td>\n",
       "      <td>DMR</td>\n",
       "      <td>1818</td>\n",
       "      <td>7</td>\n",
       "      <td>124</td>\n",
       "      <td>5011</td>\n",
       "      <td>4251</td>\n",
       "      <td>4930</td>\n",
       "      <td>4345</td>\n",
       "    </tr>\n",
       "    <tr>\n",
       "      <th>4</th>\n",
       "      <td>M416</td>\n",
       "      <td>AR</td>\n",
       "      <td>1766</td>\n",
       "      <td>7</td>\n",
       "      <td>85</td>\n",
       "      <td>4955</td>\n",
       "      <td>4298</td>\n",
       "      <td>4958</td>\n",
       "      <td>4383</td>\n",
       "    </tr>\n",
       "  </tbody>\n",
       "</table>\n",
       "</div>"
      ],
      "text/plain": [
       "  killed_by type  time  phase  dis    kx    ky    vx    vy\n",
       "0     M16A4   AR  1035      2  194  4970  3126  4978  3320\n",
       "1       AKM   AR  1422      4    7  4604  4147  4598  4144\n",
       "2       AKM   AR  1210      3    8  4880  3472  4874  3477\n",
       "3       SKS  DMR  1818      7  124  5011  4251  4930  4345\n",
       "4      M416   AR  1766      7   85  4955  4298  4958  4383"
      ]
     },
     "execution_count": 2,
     "metadata": {},
     "output_type": "execute_result"
    }
   ],
   "source": [
    "df = pd.read_csv('data/kill_match_stats_v2.csv')\n",
    "df.head()"
   ]
  },
  {
   "cell_type": "markdown",
   "metadata": {},
   "source": [
    "# 3. Data Analyzing and Visualization\n",
    "Ở phần này, nhóm sẽ thực hiện đặt một số câu hỏi có ý nghĩa và tìm câu trả lời từ dữ liệu\n",
    "\n",
    "## 3.1. Câu hỏi 1\n",
    "**Câu hỏi:** <span style = \"color:red\">Loại vũ khí nào hiệu quả nhất?</span>\n",
    "\n",
    "**Ý nghĩa:** Khi tìm được loại vũ khí hiệu quả nhất, các player sẽ có sự lựa chọn loại vũ khí hợp lí cho chiến thuật của mình (vì mỗi player chỉ được trang bị 2 vũ khí chính, 1 `Handgun`, 1 `Melee` và 1 vũ khí ném (`Throwable`)), đặc biệt là với những player mới chơi, đang làm quen với game. Ở phần này nhóm chỉ phân tích độ hiệu quả của các loại vũ khí chính (trừ `Handgun`, `Melee`, `Throwable`, `Zone`, `Self`, `Vehicle`)\n",
    "\n",
    "**Phân tích**: Để trả lời cho câu hỏi này, ta cần một thang đo độ hiệu quả. Khoảng cách và số lượng kill là 2 tiêu chí quan trọng để đánh giá độ hiệu quả của vũ khí. \n",
    "- Khoảng cách kill ngoài phụ thuộc vào vũ khí còn phụ thuộc vào trình độ của player cũng như vài yếu tố máy mắn khác, do đó ta sẽ sử dụng khoảng cách trung bình để đánh giá\n",
    "- Số lượng kill ngoài cho biết loại vũ khí đó gây kill nhiều hay ít còn cho biết loại vũ khí nào được sử dụng nhiều hơn (nên gây kill nhiều hơn, vì nếu không gây kill hiệu quả thì các player sẽ đổi sang loại vũ khí hiệu quả hơn)\n",
    "- Ngoài ra còn một số yếu tố khác như sát thương, độ giật. Tuy nhiên với dữ liệu nhóm đang có hiện tại, ta sẽ tạm phân tích dựa trên khoảng cách và số lượng kill\n",
    "\n",
    "Vì vậy nhóm sẽ sử dụng heatmap để trực quan hóa độ hiệu quả của vũ khí như sau:\n",
    "- Các dòng là các khoảng cách khác nhau:\n",
    "    - 0m - 50m\n",
    "    - 50m - 100m\n",
    "    - 100 - 300m\n",
    "    - 300 - 500m\n",
    "    - Trên 500m\n",
    "- Các cột là các loại vũ khí\n",
    "- Mỗi cell giao của dòng với cột là số lượng kill của loại vũ khí ở khoảng cách tương ứng\n",
    "\n"
   ]
  },
  {
   "cell_type": "code",
   "execution_count": 41,
   "metadata": {},
   "outputs": [],
   "source": [
    "cut_labels = ['0 - 50', '50 - 100', '100 - 300', '300 - 500', '> 500']\n",
    "cut_bins = [0, 50, 100, 300, 500, 1000]\n",
    "df['dis_bin'] = pd.cut(df['dis'], bins = cut_bins, labels = cut_labels)"
   ]
  },
  {
   "cell_type": "code",
   "execution_count": 44,
   "metadata": {},
   "outputs": [
    {
     "data": {
      "text/plain": [
       "Text(0.5, 11.249999999999995, '')"
      ]
     },
     "execution_count": 44,
     "metadata": {},
     "output_type": "execute_result"
    },
    {
     "data": {
      "image/png": "[encoded data removed]",
      "text/plain": [
       "<Figure size 1000x400 with 2 Axes>"
      ]
     },
     "metadata": {},
     "output_type": "display_data"
    }
   ],
   "source": [
    "fig = plt.figure(figsize=(10, 4))\n",
    "\n",
    "filter = ~df['type'].isin(['Zone', 'Self', 'Vehicle', 'Melee', 'Handgun', 'Throwable'])\n",
    "data = df[filter][['type', 'dis_bin', 'killed_by']].groupby(['type', 'dis_bin']).count().reset_index()\n",
    "data = pd.pivot(data, index = 'dis_bin', columns = 'type', values = 'killed_by')\n",
    "ax = sns.heatmap(np.log10(data + 1), cmap = 'Reds_r', linewidths = 1)\n",
    "\n",
    "ax.set_aspect('equal')\n",
    "ax.set_ylabel('Distance (m)')\n",
    "ax.set_xlabel('');"
   ]
  }
 ],
 "metadata": {
  "kernelspec": {
   "display_name": "Python 3 (ipykernel)",
   "language": "python",
   "name": "python3"
  },
  "language_info": {
   "codemirror_mode": {
    "name": "ipython",
    "version": 3
   },
   "file_extension": ".py",
   "mimetype": "text/x-python",
   "name": "python",
   "nbconvert_exporter": "python",
   "pygments_lexer": "ipython3",
   "version": "3.8.8"
  },
  "vscode": {
   "interpreter": {
    "hash": "8761cdb9765bcae96d62febb66cb232c06e88303db4bdff047a89cac81065564"
   }
  }
 },
 "nbformat": 4,
 "nbformat_minor": 2
}
